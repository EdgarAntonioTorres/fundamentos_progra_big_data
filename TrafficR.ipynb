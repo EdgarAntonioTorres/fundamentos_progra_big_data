{
 "cells": [
  {
   "cell_type": "markdown",
   "id": "b7b6437e-d28a-44e0-8df1-db980d7757d0",
   "metadata": {},
   "source": [
    "# Densidad del tráfico en ciudades\n",
    "Este dataset proporciona una vista detallada de los datos de tráfico en un entorno urbano futurista y contiene más de 1,2 millones de registros. Cada registro representa una instantánea única de varios factores que afectan las condiciones del tráfico en seis ciudades ficticias."
   ]
  },
  {
   "cell_type": "markdown",
   "id": "12a576c0-5580-4179-86c7-aa860744c9a7",
   "metadata": {},
   "source": [
    "## Objetivo del dataset\n",
    "El objetivo principal de este dataset es proporcionar una visión detallada y completa del tráfico urbano en un entorno futurista. Al combinar datos de diversas fuentes y factores, se busca entender y modelar la complejidad del tráfico en ciudades inteligentes."
   ]
  },
  {
   "cell_type": "code",
   "execution_count": 1,
   "id": "fb89712f-6b2a-43db-a8ca-0d746349296a",
   "metadata": {},
   "outputs": [],
   "source": [
    "# Cargar archivos\n",
    "df_fct <- read.csv(\"./futuristic_city_traffic.csv\")"
   ]
  },
  {
   "cell_type": "code",
   "execution_count": 2,
   "id": "c03cd9ec-4433-4df8-95f4-836cef68500d",
   "metadata": {},
   "outputs": [
    {
     "name": "stdout",
     "output_type": "stream",
     "text": [
      "           City                    Vehicle.Type   \n",
      " AquaCity    :203405   Autonomous Vehicle:757454  \n",
      " Ecoopolis   :204179   Car               : 78298  \n",
      " MetropolisX :202981   Drone             :304951  \n",
      " Neuroburg   :203184   Flying Car        : 78864  \n",
      " SolarisVille:202981                              \n",
      " TechHaven   :202837                              \n",
      "                                                  \n",
      "                  Weather       Economic.Condition    Day.Of.Week    \n",
      " Clear                :243650   Booming  :406684   Friday   :173672  \n",
      " Electromagnetic Storm:243857   Recession:406571   Monday   :173905  \n",
      " Rainy                :243628   Stable   :406312   Saturday :174097  \n",
      " Snowy                :244195                      Sunday   :173823  \n",
      " Solar Flare          :244237                      Thursday :174509  \n",
      "                                                   Tuesday  :174783  \n",
      "                                                   Wednesday:174778  \n",
      "  Hour.Of.Day        Speed          Is.Peak.Hour    Random.Event.Occurred\n",
      " Min.   : 0.00   Min.   :  6.693   Min.   :0.0000   Min.   :0.00000      \n",
      " 1st Qu.: 6.00   1st Qu.: 37.533   1st Qu.:0.0000   1st Qu.:0.00000      \n",
      " Median :12.00   Median : 58.471   Median :0.0000   Median :0.00000      \n",
      " Mean   :11.51   Mean   : 59.945   Mean   :0.1547   Mean   :0.04989      \n",
      " 3rd Qu.:17.00   3rd Qu.: 80.535   3rd Qu.:0.0000   3rd Qu.:0.00000      \n",
      " Max.   :23.00   Max.   :163.089   Max.   :1.0000   Max.   :1.00000      \n",
      "                                                                         \n",
      " Energy.Consumption Traffic.Density \n",
      " Min.   :  4.93     Min.   :0.0059  \n",
      " 1st Qu.: 29.27     1st Qu.:0.1059  \n",
      " Median : 45.78     Median :0.2186  \n",
      " Mean   : 49.46     Mean   :0.2771  \n",
      " 3rd Qu.: 65.91     3rd Qu.:0.3960  \n",
      " Max.   :189.95     Max.   :3.3776  \n",
      "                                    \n"
     ]
    }
   ],
   "source": [
    "# Mostrar la descripción del conjunto de datos\n",
    "print(summary(df_fct))"
   ]
  },
  {
   "cell_type": "code",
   "execution_count": 3,
   "id": "d59785bf-8642-4ec7-8c3f-a650b7bdb252",
   "metadata": {},
   "outputs": [
    {
     "name": "stdout",
     "output_type": "stream",
     "text": [
      "          City       Vehicle.Type     Weather Economic.Condition Day.Of.Week\n",
      "1 SolarisVille              Drone       Snowy             Stable      Sunday\n",
      "2     AquaCity         Flying Car Solar Flare          Recession   Wednesday\n",
      "3    Neuroburg Autonomous Vehicle Solar Flare          Recession   Wednesday\n",
      "4    Ecoopolis              Drone       Clear            Booming    Thursday\n",
      "5     AquaCity Autonomous Vehicle Solar Flare             Stable    Saturday\n",
      "6    TechHaven Autonomous Vehicle       Snowy          Recession    Thursday\n",
      "  Hour.Of.Day    Speed Is.Peak.Hour Random.Event.Occurred Energy.Consumption\n",
      "1          20  29.4268            0                     0            14.7134\n",
      "2           2 118.8000            0                     0           143.5682\n",
      "3          16 100.3904            0                     0            91.2640\n",
      "4           8  76.8000            1                     0            46.0753\n",
      "5          16  45.2176            0                     0            40.1934\n",
      "6          20  30.5179            0                     0            37.5562\n",
      "  Traffic.Density\n",
      "1          0.5241\n",
      "2          0.3208\n",
      "3          0.0415\n",
      "4          0.1811\n",
      "5          0.4544\n",
      "6          0.0843\n"
     ]
    }
   ],
   "source": [
    "# Mostrar los primeros elementos del conjunto de datos\n",
    "print(head(df_fct))"
   ]
  },
  {
   "cell_type": "code",
   "execution_count": 4,
   "id": "f89c9832-1810-4056-8063-d763c2d4fc6e",
   "metadata": {},
   "outputs": [
    {
     "name": "stdout",
     "output_type": "stream",
     "text": [
      "'data.frame':\t1219567 obs. of  11 variables:\n",
      " $ City                 : Factor w/ 6 levels \"AquaCity\",\"Ecoopolis\",..: 5 1 4 2 1 6 2 2 3 5 ...\n",
      " $ Vehicle.Type         : Factor w/ 4 levels \"Autonomous Vehicle\",..: 3 4 1 3 1 1 1 1 3 3 ...\n",
      " $ Weather              : Factor w/ 5 levels \"Clear\",\"Electromagnetic Storm\",..: 4 5 5 1 5 4 3 4 4 4 ...\n",
      " $ Economic.Condition   : Factor w/ 3 levels \"Booming\",\"Recession\",..: 3 2 2 1 3 2 2 3 2 1 ...\n",
      " $ Day.Of.Week          : Factor w/ 7 levels \"Friday\",\"Monday\",..: 4 7 7 5 3 5 2 1 3 3 ...\n",
      " $ Hour.Of.Day          : int  20 2 16 8 16 20 21 20 7 15 ...\n",
      " $ Speed                : num  29.4 118.8 100.4 76.8 45.2 ...\n",
      " $ Is.Peak.Hour         : int  0 0 0 1 0 0 0 0 0 0 ...\n",
      " $ Random.Event.Occurred: int  0 0 0 0 0 0 0 0 0 0 ...\n",
      " $ Energy.Consumption   : num  14.7 143.6 91.3 46.1 40.2 ...\n",
      " $ Traffic.Density      : num  0.5241 0.3208 0.0415 0.1811 0.4544 ...\n",
      "NULL\n"
     ]
    }
   ],
   "source": [
    "# Mostrar la información del conjunto de datos\n",
    "print(str(df_fct))"
   ]
  },
  {
   "cell_type": "code",
   "execution_count": null,
   "id": "96ed3660-d8fc-4836-84cf-a4f1dc2ae5fb",
   "metadata": {},
   "outputs": [],
   "source": []
  }
 ],
 "metadata": {
  "kernelspec": {
   "display_name": "R",
   "language": "R",
   "name": "ir"
  },
  "language_info": {
   "codemirror_mode": "r",
   "file_extension": ".r",
   "mimetype": "text/x-r-source",
   "name": "R",
   "pygments_lexer": "r",
   "version": "3.6.1"
  }
 },
 "nbformat": 4,
 "nbformat_minor": 5
}
