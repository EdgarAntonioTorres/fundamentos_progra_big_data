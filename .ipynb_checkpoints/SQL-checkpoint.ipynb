{
 "cells": [
  {
   "cell_type": "markdown",
   "id": "61d192e9-8cf8-48f4-849d-3a390bd5687b",
   "metadata": {},
   "source": [
    "# SQL\n",
    "En este notebook aprenderemos a conectar python -> MySQL"
   ]
  },
  {
   "cell_type": "code",
   "execution_count": 1,
   "id": "ee6defe2-186b-4a4a-abde-d82fb86ded45",
   "metadata": {},
   "outputs": [],
   "source": [
    "import mysql.connector"
   ]
  },
  {
   "cell_type": "code",
   "execution_count": 2,
   "id": "6601aa39-72c7-444c-b36a-c633062d107e",
   "metadata": {},
   "outputs": [
    {
     "name": "stdout",
     "output_type": "stream",
     "text": [
      "('fpbd',)\n",
      "('information_schema',)\n",
      "('mysql',)\n",
      "('performance_schema',)\n",
      "('phpmyadmin',)\n",
      "('test',)\n"
     ]
    }
   ],
   "source": [
    "mydb = mysql.connector.connect(\n",
    "    host=\"localhost\",\n",
    "    user=\"root\",\n",
    "    password=\"\",\n",
    "    port=\"3307\"\n",
    ")\n",
    "\n",
    "mycursor = mydb.cursor()\n",
    "\n",
    "mycursor.execute(\"SHOW DATABASES\")\n",
    "\n",
    "for x in mycursor:\n",
    "    print(x)"
   ]
  },
  {
   "cell_type": "code",
   "execution_count": 3,
   "id": "b1205eec-a83e-403c-b0da-5be960439428",
   "metadata": {},
   "outputs": [
    {
     "name": "stdout",
     "output_type": "stream",
     "text": [
      "Connected successfully\n"
     ]
    }
   ],
   "source": [
    "mydb1 = mysql.connector.connect(\n",
    "    host=\"localhost\",\n",
    "    user=\"root\",\n",
    "    password=\"\",\n",
    "    database=\"test\"\n",
    ")\n",
    "\n",
    "if mydb1.is_connected():\n",
    "    print(\"Connected successfully\")\n",
    "else:\n",
    "    print(\"Failed to connect\")"
   ]
  },
  {
   "cell_type": "code",
   "execution_count": 4,
   "id": "3568ccb6-4611-4126-b38a-1a3687f0d219",
   "metadata": {},
   "outputs": [
    {
     "data": {
      "text/plain": [
       "False"
      ]
     },
     "execution_count": 4,
     "metadata": {},
     "output_type": "execute_result"
    }
   ],
   "source": [
    "#DB operations\n",
    "mydb1.close()\n",
    "mydb1.is_connected()"
   ]
  },
  {
   "cell_type": "code",
   "execution_count": 5,
   "id": "5b916685-3b5f-41f0-8ab8-792ae5dc3440",
   "metadata": {},
   "outputs": [
    {
     "data": {
      "text/plain": [
       "True"
      ]
     },
     "execution_count": 5,
     "metadata": {},
     "output_type": "execute_result"
    }
   ],
   "source": [
    "mydb.is_connected()"
   ]
  },
  {
   "cell_type": "code",
   "execution_count": 6,
   "id": "1257cc91-e86b-4638-bd66-27ece4acf98e",
   "metadata": {},
   "outputs": [],
   "source": [
    "#Eliminamos una base de datos\n",
    "mycursor.execute(\"DROP DATABASE IF EXISTS FPBD\")"
   ]
  },
  {
   "cell_type": "code",
   "execution_count": 7,
   "id": "487df948-6186-4237-bbeb-5289ef1b5e5a",
   "metadata": {},
   "outputs": [
    {
     "name": "stdout",
     "output_type": "stream",
     "text": [
      "('fpbd',)\n",
      "('information_schema',)\n",
      "('mysql',)\n",
      "('performance_schema',)\n",
      "('phpmyadmin',)\n",
      "('test',)\n"
     ]
    }
   ],
   "source": [
    "if mydb.is_connected():\n",
    "    mycursor = mydb.cursor()\n",
    "    mycursor.execute(\"CREATE DATABASE FPBD\")\n",
    "    mycursor.execute(\"SHOW DATABASES\")\n",
    "    for x in mycursor:\n",
    "        print(x)"
   ]
  },
  {
   "cell_type": "code",
   "execution_count": 8,
   "id": "5c3bf59f-b43c-44d8-a4fe-ac28859e9990",
   "metadata": {},
   "outputs": [],
   "source": [
    "fpbd = mysql.connector.connect(\n",
    "    host=\"localhost\",\n",
    "    user=\"root\",\n",
    "    password=\"\",\n",
    "    database=\"fpbd\"\n",
    ")"
   ]
  },
  {
   "cell_type": "code",
   "execution_count": 9,
   "id": "1b24d248-0d70-472c-a815-46081669b088",
   "metadata": {},
   "outputs": [],
   "source": [
    "mycursor_fpbd = fpbd.cursor(buffered=True)\n",
    "#mycursor_fpbd.execute(\"DROP TABLE alumnos\")"
   ]
  },
  {
   "cell_type": "code",
   "execution_count": 10,
   "id": "fa34b6c9-2e4c-43df-8fc8-7ec08f6b5951",
   "metadata": {},
   "outputs": [],
   "source": [
    "mycursor_fpbd.execute(\"CREATE TABLE IF NOT EXISTS alumnos (name VARCHAR(255), correo VARCHAR(255))\")"
   ]
  },
  {
   "cell_type": "code",
   "execution_count": 11,
   "id": "93986a30-f75a-4928-a728-ba440f675d11",
   "metadata": {},
   "outputs": [
    {
     "name": "stdout",
     "output_type": "stream",
     "text": [
      "('alumnos',)\n"
     ]
    }
   ],
   "source": [
    "mycursor_fpbd.execute(\"SHOW TABLES\")\n",
    "\n",
    "for x in mycursor_fpbd:\n",
    "    print(x)"
   ]
  },
  {
   "cell_type": "code",
   "execution_count": 12,
   "id": "7c778670-dbb3-4974-8a5f-44a023b5359c",
   "metadata": {},
   "outputs": [],
   "source": [
    "#mycursor_fpbd.execute(\"DROP TABLE materias\")"
   ]
  },
  {
   "cell_type": "code",
   "execution_count": 13,
   "id": "aa9be88d-b280-4436-8ed2-0e5644aaa287",
   "metadata": {},
   "outputs": [],
   "source": [
    "# Primary key\n",
    "mycursor_fpbd.execute(\"CREATE TABLE IF NOT EXISTS materias (id INT AUTO_INCREMENT PRIMARY KEY, nombre VARCHAR(255), direccion VARCHAR(255))\")"
   ]
  },
  {
   "cell_type": "code",
   "execution_count": 14,
   "id": "79a61654-0898-454b-8802-680c79c21fd7",
   "metadata": {},
   "outputs": [
    {
     "name": "stdout",
     "output_type": "stream",
     "text": [
      "('alumnos',)\n",
      "('materias',)\n"
     ]
    }
   ],
   "source": [
    "mycursor_fpbd.execute(\"SHOW TABLES\")\n",
    "\n",
    "for x in mycursor_fpbd:\n",
    "    print(x)"
   ]
  },
  {
   "cell_type": "code",
   "execution_count": 15,
   "id": "9d905531-4eca-40f5-b091-5ce945f791f2",
   "metadata": {},
   "outputs": [],
   "source": [
    "#Insertar en tabla \n",
    "sql_insert = \"INSERT INTO alumnos (name, correo) VALUES (%s,%s)\"\n",
    "val = (\"Juan\", \"algo@tecmilenio.mx\")\n",
    "mycursor_fpbd.execute(sql_insert, val)"
   ]
  },
  {
   "cell_type": "code",
   "execution_count": 16,
   "id": "a5d937c0-acad-4e0d-b5ef-c05a223c47bf",
   "metadata": {},
   "outputs": [
    {
     "name": "stdout",
     "output_type": "stream",
     "text": [
      "1 Insertadas\n"
     ]
    }
   ],
   "source": [
    "#Actualizamos la conexión\n",
    "fpbd.commit()\n",
    "#Contamos las filas\n",
    "print(mycursor_fpbd.rowcount, \"Insertadas\")"
   ]
  },
  {
   "cell_type": "code",
   "execution_count": 17,
   "id": "bafbd85f-f6e5-4d6e-8c68-5dc9c74ef2b9",
   "metadata": {},
   "outputs": [],
   "source": [
    "# Inserción de múltiples elementos\n",
    "multi_val = [(\"Julia\", \"algo@tecmilenio.mx\"),\n",
    "            (\"Axel\", \"algo@tecmilenio.mx\"),\n",
    "            (\"Fernanda\", \"algo@tecmilenio.mx\"),\n",
    "            (\"Adriana\", \"algo@tecmilenio.mx\"),\n",
    "            (\"José Francisco\", \"algo@tecmilenio.mx\")]\n",
    "\n",
    "mycursor_fpbd.executemany(sql_insert, multi_val)"
   ]
  },
  {
   "cell_type": "code",
   "execution_count": 18,
   "id": "48f418d5-eecb-4df8-aced-4b7e9c15d377",
   "metadata": {},
   "outputs": [
    {
     "name": "stdout",
     "output_type": "stream",
     "text": [
      "5 Insertadas\n"
     ]
    }
   ],
   "source": [
    "#Actualizamos la conexión\n",
    "fpbd.commit()\n",
    "#Contamos las filas\n",
    "print(mycursor_fpbd.rowcount, \"Insertadas\")"
   ]
  },
  {
   "cell_type": "code",
   "execution_count": 19,
   "id": "b76d8551-1894-48b2-ab52-1d56456f61c4",
   "metadata": {},
   "outputs": [
    {
     "name": "stdout",
     "output_type": "stream",
     "text": [
      "('Juan', 'algo@tecmilenio.mx')\n",
      "('Julia', 'algo@tecmilenio.mx')\n",
      "('Axel', 'algo@tecmilenio.mx')\n",
      "('Fernanda', 'algo@tecmilenio.mx')\n",
      "('Adriana', 'algo@tecmilenio.mx')\n",
      "('José Francisco', 'algo@tecmilenio.mx')\n"
     ]
    }
   ],
   "source": [
    "# Seleccionar elementos\n",
    "sql_select = \"SELECT * FROM alumnos\"\n",
    "mycursor_fpbd.execute(sql_select)\n",
    "#Extraemos la selección\n",
    "result_sel = mycursor_fpbd.fetchall()\n",
    "\n",
    "for x in result_sel:\n",
    "    print(x)"
   ]
  },
  {
   "cell_type": "code",
   "execution_count": 20,
   "id": "e49b1cdd-e3f9-44cb-85cc-7e7cd5b169fe",
   "metadata": {},
   "outputs": [
    {
     "name": "stdout",
     "output_type": "stream",
     "text": [
      "('Juan', 'algo@tecmilenio.mx')\n"
     ]
    }
   ],
   "source": [
    "#Toma uno\n",
    "#Extraemos la selección\n",
    "mycursor_fpbd.execute(sql_select)\n",
    "result_sel = mycursor_fpbd.fetchone()\n",
    "print(result_sel)"
   ]
  },
  {
   "cell_type": "code",
   "execution_count": 21,
   "id": "e0f15225-050f-4e03-a75d-5e5d14646f77",
   "metadata": {},
   "outputs": [
    {
     "name": "stdout",
     "output_type": "stream",
     "text": [
      "[('Juan', 'algo@tecmilenio.mx')]\n"
     ]
    }
   ],
   "source": [
    "# Where para selección específica\n",
    "sql_select_where = \"SELECT * FROM alumnos WHERE name = 'Juan'\"\n",
    "mycursor_fpbd.execute(sql_select_where)\n",
    "result_sel = mycursor_fpbd.fetchall()\n",
    "print(result_sel)"
   ]
  },
  {
   "cell_type": "code",
   "execution_count": 22,
   "id": "6e4dfebb-d04a-4b00-b3be-708b2d5a1fc3",
   "metadata": {},
   "outputs": [
    {
     "name": "stdout",
     "output_type": "stream",
     "text": [
      "[('Juan', 'algo@tecmilenio.mx'), ('Julia', 'algo@tecmilenio.mx'), ('Axel', 'algo@tecmilenio.mx'), ('Fernanda', 'algo@tecmilenio.mx'), ('Adriana', 'algo@tecmilenio.mx'), ('José Francisco', 'algo@tecmilenio.mx')]\n"
     ]
    }
   ],
   "source": [
    "# Where para selección específica\n",
    "sql_select_where_correo = \"SELECT * FROM alumnos WHERE correo = %s\"\n",
    "correo= (\"algo@tecmilenio.mx\",)\n",
    "mycursor_fpbd.execute(sql_select_where_correo, correo)\n",
    "result_sel = mycursor_fpbd.fetchall()\n",
    "print(result_sel)"
   ]
  },
  {
   "cell_type": "code",
   "execution_count": 23,
   "id": "5c25829c-8c34-41b9-94b3-9e0303467ca9",
   "metadata": {},
   "outputs": [
    {
     "name": "stdout",
     "output_type": "stream",
     "text": [
      "[('Adriana', 'algo@tecmilenio.mx'), ('Axel', 'algo@tecmilenio.mx'), ('Fernanda', 'algo@tecmilenio.mx'), ('José Francisco', 'algo@tecmilenio.mx'), ('Juan', 'algo@tecmilenio.mx'), ('Julia', 'algo@tecmilenio.mx')]\n"
     ]
    }
   ],
   "source": [
    "# Ordenar elementos por \n",
    "sql_select_order = \"SELECT * FROM alumnos ORDER BY name\"\n",
    "mycursor_fpbd.execute(sql_select_order)\n",
    "result_sel = mycursor_fpbd.fetchall()\n",
    "print(result_sel)"
   ]
  },
  {
   "cell_type": "code",
   "execution_count": 24,
   "id": "6cfbe1c2-4bcd-4720-8c7f-0ec2e0566e4f",
   "metadata": {},
   "outputs": [
    {
     "name": "stdout",
     "output_type": "stream",
     "text": [
      "1  elementos eliminados\n"
     ]
    }
   ],
   "source": [
    "# Eliminar elementos de la tabla\n",
    "sql_delete_juan = \"DELETE FROM alumnos WHERE name='Juan'\"\n",
    "mycursor_fpbd.execute(sql_delete_juan)\n",
    "fpbd.commit()\n",
    "print(mycursor_fpbd.rowcount, \" elementos eliminados\")"
   ]
  },
  {
   "cell_type": "code",
   "execution_count": 25,
   "id": "9a582bb2-0999-449b-a0b6-8f121be3e26b",
   "metadata": {},
   "outputs": [
    {
     "name": "stdout",
     "output_type": "stream",
     "text": [
      "1  elementos actualizados\n"
     ]
    }
   ],
   "source": [
    "# Actualizar elementos\n",
    "sql_update = \"UPDATE alumnos SET correo=%s WHERE name=%s\"\n",
    "val = (\"axel@tecmilenio.mx\",\"Axel\")\n",
    "mycursor_fpbd.execute(sql_update, val)\n",
    "fpbd.commit()\n",
    "print(mycursor_fpbd.rowcount, \" elementos actualizados\")"
   ]
  }
 ],
 "metadata": {
  "kernelspec": {
   "display_name": "Python 3 (ipykernel)",
   "language": "python",
   "name": "python3"
  },
  "language_info": {
   "codemirror_mode": {
    "name": "ipython",
    "version": 3
   },
   "file_extension": ".py",
   "mimetype": "text/x-python",
   "name": "python",
   "nbconvert_exporter": "python",
   "pygments_lexer": "ipython3",
   "version": "3.11.7"
  }
 },
 "nbformat": 4,
 "nbformat_minor": 5
}
