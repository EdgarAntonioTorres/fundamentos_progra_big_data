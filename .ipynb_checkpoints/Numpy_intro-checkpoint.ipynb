{
 "cells": [
  {
   "cell_type": "markdown",
   "id": "23252808-d2ce-4015-bdc3-7e07da2dc459",
   "metadata": {},
   "source": [
    "# [Intro a Numpy](https://numpy.org/)\n",
    "\n",
    "![](https://user-images.githubusercontent.com/50221806/85330638-a467b280-b489-11ea-8e64-7e7390afea32.png)\n",
    "\n",
    "## Sub título\n",
    "### Sub sub título\n",
    "#### Apartado\n",
    "1. Atributos de arreglos de Numpy\n",
    "2. Arreglos de zeros y unos"
   ]
  },
  {
   "cell_type": "code",
   "execution_count": 2,
   "id": "9996adab-07e5-47e5-a617-eb5068b47bb1",
   "metadata": {},
   "outputs": [],
   "source": [
    "import numpy as np\n",
    "import pandas as pd"
   ]
  },
  {
   "cell_type": "code",
   "execution_count": 3,
   "id": "524488c2-9569-4942-892e-96d3779b18a6",
   "metadata": {},
   "outputs": [],
   "source": [
    "def printFeatures(array):\n",
    "    print(f\"Array {array}\")\n",
    "    print(f\"Dimensiones {array.ndim}\")\n",
    "    print(f\"Forma {array.shape}\")\n",
    "    print(f\"Tamaño {array.size}\")\n",
    "    print(f\"Tipo de dato {array.dtype.name}\")"
   ]
  },
  {
   "cell_type": "code",
   "execution_count": 4,
   "id": "6a2dc4a3-8701-419f-9cf9-35b7e3993a90",
   "metadata": {},
   "outputs": [
    {
     "name": "stdout",
     "output_type": "stream",
     "text": [
      "Array [[ 0  1  2]\n",
      " [ 3  4  5]\n",
      " [ 6  7  8]\n",
      " [ 9 10 11]]\n",
      "Dimensiones 2\n",
      "Forma (4, 3)\n",
      "Tamaño 12\n",
      "Tipo de dato int32\n"
     ]
    }
   ],
   "source": [
    "c = np.arange(12).reshape(4,3)\n",
    "printFeatures(c)"
   ]
  },
  {
   "cell_type": "code",
   "execution_count": 5,
   "id": "bfdf44cc-ff12-4e6f-bc98-55c9bd8cf1c7",
   "metadata": {},
   "outputs": [
    {
     "name": "stdout",
     "output_type": "stream",
     "text": [
      "Array [0 1 2]\n",
      "Dimensiones 1\n",
      "Forma (3,)\n",
      "Tamaño 3\n",
      "Tipo de dato int32\n"
     ]
    }
   ],
   "source": [
    "a = np.array([0,1,2])\n",
    "printFeatures(a)"
   ]
  },
  {
   "cell_type": "code",
   "execution_count": 6,
   "id": "f2e85016-f825-42c6-95db-d7d608eaaf70",
   "metadata": {},
   "outputs": [
    {
     "name": "stdout",
     "output_type": "stream",
     "text": [
      "Array [[[[ 0  1  2  3]\n",
      "   [ 4  5  6  7]\n",
      "   [ 8  9 10 11]]\n",
      "\n",
      "  [[12 13 14 15]\n",
      "   [16 17 18 19]\n",
      "   [20 21 22 23]]]\n",
      "\n",
      "\n",
      " [[[24 25 26 27]\n",
      "   [28 29 30 31]\n",
      "   [32 33 34 35]]\n",
      "\n",
      "  [[36 37 38 39]\n",
      "   [40 41 42 43]\n",
      "   [44 45 46 47]]]]\n",
      "Dimensiones 4\n",
      "Forma (2, 2, 3, 4)\n",
      "Tamaño 48\n",
      "Tipo de dato int32\n"
     ]
    }
   ],
   "source": [
    "b = np.arange(48).reshape(2,2,3,4)\n",
    "printFeatures(b)"
   ]
  },
  {
   "cell_type": "code",
   "execution_count": 7,
   "id": "17f235d1-88d0-41ff-a577-7ce5c0a0bec2",
   "metadata": {},
   "outputs": [
    {
     "name": "stdout",
     "output_type": "stream",
     "text": [
      "[10 21 32 43]\n",
      "[10 19 28 37]\n",
      "[  0  20  60 120]\n",
      "[        inf 20.         15.         13.33333333]\n"
     ]
    },
    {
     "name": "stderr",
     "output_type": "stream",
     "text": [
      "C:\\Users\\Alumno\\AppData\\Local\\Temp\\ipykernel_9900\\2393299163.py:6: RuntimeWarning: divide by zero encountered in divide\n",
      "  print(s1/s2)\n"
     ]
    }
   ],
   "source": [
    "s1 = np.array([10,20,30,40])\n",
    "s2 = np.arange(4)\n",
    "print(s1+s2)\n",
    "print(s1-s2)\n",
    "print(s1*s2)\n",
    "print(s1/s2)"
   ]
  },
  {
   "cell_type": "markdown",
   "id": "8b8f7b04-d289-49c6-8308-8233297db562",
   "metadata": {},
   "source": [
    "### Indexado a los Arrays\n",
    "Acceso a los datos de numpy, inicia con indeices 0 y termina en las dimensiones (n-1)"
   ]
  },
  {
   "cell_type": "code",
   "execution_count": 8,
   "id": "35f8d348-31e3-437c-a16c-07106beefc3a",
   "metadata": {},
   "outputs": [
    {
     "data": {
      "text/plain": [
       "10"
      ]
     },
     "execution_count": 8,
     "metadata": {},
     "output_type": "execute_result"
    }
   ],
   "source": [
    "s1[0]"
   ]
  },
  {
   "cell_type": "code",
   "execution_count": 9,
   "id": "b5bca931-dbf1-456a-b8fb-63b4dd12ec6d",
   "metadata": {
    "scrolled": true
   },
   "outputs": [
    {
     "data": {
      "text/plain": [
       "array([[[ 0,  1,  2,  3],\n",
       "        [ 4,  5,  6,  7],\n",
       "        [ 8,  9, 10, 11]],\n",
       "\n",
       "       [[12, 13, 14, 15],\n",
       "        [16, 17, 18, 19],\n",
       "        [20, 21, 22, 23]]])"
      ]
     },
     "execution_count": 9,
     "metadata": {},
     "output_type": "execute_result"
    }
   ],
   "source": [
    "b[0]"
   ]
  },
  {
   "cell_type": "code",
   "execution_count": 10,
   "id": "403bc1e9-f9d5-4d29-81dd-d14bda7e1ce1",
   "metadata": {},
   "outputs": [
    {
     "data": {
      "text/plain": [
       "0"
      ]
     },
     "execution_count": 10,
     "metadata": {},
     "output_type": "execute_result"
    }
   ],
   "source": [
    "b[0,0,0,0]"
   ]
  },
  {
   "cell_type": "markdown",
   "id": "66c2aed5-f19d-45e0-a858-f75955a7df68",
   "metadata": {},
   "source": [
    "### Uso de linspace()\n",
    "\n",
    "Sirve para generar valores dentro de un intervalo específico\n",
    "linspace(inicio_intervalo, fin_intervalo, numero_elementos)"
   ]
  },
  {
   "cell_type": "code",
   "execution_count": 12,
   "id": "996fa734-633f-4b0a-9a0d-f0becd3357f6",
   "metadata": {},
   "outputs": [
    {
     "name": "stdout",
     "output_type": "stream",
     "text": [
      "Array [ 0.  1.  2.  3.  4.  5.  6.  7.  8.  9. 10. 11. 12. 13. 14. 15. 16. 17.\n",
      " 18. 19. 20. 21. 22. 23. 24. 25. 26. 27. 28. 29. 30. 31. 32. 33. 34. 35.\n",
      " 36. 37. 38. 39. 40. 41. 42. 43. 44. 45. 46. 47. 48. 49. 50.]\n",
      "Dimensiones 1\n",
      "Forma (51,)\n",
      "Tamaño 51\n",
      "Tipo de dato float64\n"
     ]
    }
   ],
   "source": [
    "x = np.linspace(0, 50, 51)\n",
    "printFeatures(x)"
   ]
  },
  {
   "cell_type": "code",
   "execution_count": 13,
   "id": "a88823c8-1954-4f58-b033-5df22f730e06",
   "metadata": {},
   "outputs": [
    {
     "name": "stdout",
     "output_type": "stream",
     "text": [
      "Array [0.   0.02 0.04 0.06 0.08 0.1  0.12 0.14 0.16 0.18 0.2  0.22 0.24 0.26\n",
      " 0.28 0.3  0.32 0.34 0.36 0.38 0.4  0.42 0.44 0.46 0.48 0.5  0.52 0.54\n",
      " 0.56 0.58 0.6  0.62 0.64 0.66 0.68 0.7  0.72 0.74 0.76 0.78 0.8  0.82\n",
      " 0.84 0.86 0.88 0.9  0.92 0.94 0.96 0.98 1.  ]\n",
      "Dimensiones 1\n",
      "Forma (51,)\n",
      "Tamaño 51\n",
      "Tipo de dato float64\n"
     ]
    }
   ],
   "source": [
    "x = np.linspace(0, 1, 51)\n",
    "printFeatures(x)"
   ]
  },
  {
   "cell_type": "markdown",
   "id": "dfb9cc46-0368-423b-97b6-2235e2e4b353",
   "metadata": {},
   "source": [
    "### Matrices de ceros, unos e identidad"
   ]
  },
  {
   "cell_type": "code",
   "execution_count": 18,
   "id": "42942802-c944-4171-999a-a4560f8fec81",
   "metadata": {},
   "outputs": [
    {
     "data": {
      "text/plain": [
       "array([[0.],\n",
       "       [0.],\n",
       "       [0.]])"
      ]
     },
     "execution_count": 18,
     "metadata": {},
     "output_type": "execute_result"
    }
   ],
   "source": [
    "np.zeros((3,1)) # Crea matrices de ceros"
   ]
  },
  {
   "cell_type": "code",
   "execution_count": 21,
   "id": "2be09d9b-bd14-4bef-97d2-2b116c6e48ef",
   "metadata": {},
   "outputs": [
    {
     "data": {
      "text/plain": [
       "array([1., 1.])"
      ]
     },
     "execution_count": 21,
     "metadata": {},
     "output_type": "execute_result"
    }
   ],
   "source": [
    "np.ones(2) # Crea matrices de unos"
   ]
  },
  {
   "cell_type": "code",
   "execution_count": 23,
   "id": "df8dc4b5-f33c-4652-ab01-8f13a07f8b96",
   "metadata": {},
   "outputs": [
    {
     "data": {
      "text/plain": [
       "array([[1., 0., 0.],\n",
       "       [0., 1., 0.],\n",
       "       [0., 0., 1.]])"
      ]
     },
     "execution_count": 23,
     "metadata": {},
     "output_type": "execute_result"
    }
   ],
   "source": [
    "np.eye(3) # Crea matrices identidad"
   ]
  },
  {
   "cell_type": "markdown",
   "id": "ac91618c-b72d-41ee-9f0f-a3d78bd0837d",
   "metadata": {},
   "source": [
    "### Valores únicos y cuentas\n",
    "\n",
    "Existen funciones que proprocionan información de los arreglos:\n",
    "* .max() el máximo de los elementos del arreglo\n",
    "* .min() el mínimo de los elementos del arreglo\n",
    "* .sum() suma de los elementos del arreglo\n",
    "* .prod() producto de los elementos del arreglo"
   ]
  },
  {
   "cell_type": "code",
   "execution_count": 25,
   "id": "ce242785-db68-40a4-9dc1-e18ab5ff9fed",
   "metadata": {},
   "outputs": [
    {
     "name": "stdout",
     "output_type": "stream",
     "text": [
      "El máximo es: 12\n",
      "El mínimo es: 1\n",
      "La suma es: 78\n",
      "El producto es: 479001600\n"
     ]
    }
   ],
   "source": [
    "A = np.array([\n",
    "    [1,2,3,4],\n",
    "    [5,6,7,8],\n",
    "    [9,10,11,12]\n",
    "])\n",
    "print(\"El máximo es: {}\".format(A.max()))\n",
    "print(\"El mínimo es: {}\".format(A.min()))\n",
    "print(\"La suma es: {}\".format(A.sum()))\n",
    "print(\"El producto es: {}\".format(A.prod()))"
   ]
  },
  {
   "cell_type": "markdown",
   "id": "0c385ebf-6d88-4d72-87d8-b9f3e6a70d98",
   "metadata": {},
   "source": [
    "También tenemos funciones que calculan estadísticas de un arreglo (array):\n",
    "* .mean() promedio de los elementos del arreglo\n",
    "* .std() desviación estándar de los elementos del arreglo"
   ]
  },
  {
   "cell_type": "code",
   "execution_count": 26,
   "id": "738b0686-17bc-4d68-820c-477192ab1f6b",
   "metadata": {},
   "outputs": [
    {
     "name": "stdout",
     "output_type": "stream",
     "text": [
      "El promedio es: 6.5\n",
      "La desviación estándar es: 3.452052529534663\n"
     ]
    }
   ],
   "source": [
    "print(\"El promedio es: {}\".format(A.mean()))\n",
    "print(\"La desviación estándar es: {}\".format(A.std()))"
   ]
  },
  {
   "cell_type": "markdown",
   "id": "e6823f29-9c13-491e-b39c-4f0a0c9b8a53",
   "metadata": {},
   "source": [
    "Extraer valores únicos de nuestros arreglos:\n",
    "* np.unique()"
   ]
  },
  {
   "cell_type": "code",
   "execution_count": 32,
   "id": "9e38bc6d-ab61-462d-8212-d39ff2ae922d",
   "metadata": {},
   "outputs": [
    {
     "name": "stdout",
     "output_type": "stream",
     "text": [
      "Los valores únicos son: [11 12 13 14 15]\n"
     ]
    }
   ],
   "source": [
    "B = np.array([11,12,13,11,12,13,14,11,12,15])\n",
    "print(\"Los valores únicos son: {}\".format(np.unique(B)))"
   ]
  },
  {
   "cell_type": "markdown",
   "id": "05b3b24b-e7b8-49b2-b13a-cc8485a0d62d",
   "metadata": {},
   "source": [
    "Podemos utilizar operaciones matemáticas como:\n",
    "* np.sin(x) devuelve el seno del vector x\n",
    "* np.cos(x) devuelve el coseno del vector x\n",
    "* np.tan(x) devuelve la tangente del vector x\n",
    "* np.atan(x) devuelve la tangente inversa del vector x\n",
    "* np.arcsin(x), arcos(x), arct2(x), etc"
   ]
  },
  {
   "cell_type": "code",
   "execution_count": 33,
   "id": "7799f5a4-3ace-40b7-93fe-fe82058706d5",
   "metadata": {},
   "outputs": [
    {
     "name": "stdout",
     "output_type": "stream",
     "text": [
      "El seno de B es: [-0.99999021 -0.53657292  0.42016704 -0.99999021 -0.53657292  0.42016704\n",
      "  0.99060736 -0.99999021 -0.53657292  0.65028784]\n"
     ]
    }
   ],
   "source": [
    "print(\"El seno de B es: {}\".format(np.sin(B)))"
   ]
  },
  {
   "cell_type": "code",
   "execution_count": 34,
   "id": "790e6834-8162-46a7-ac83-35e48c7c0b37",
   "metadata": {},
   "outputs": [
    {
     "name": "stdout",
     "output_type": "stream",
     "text": [
      "La tangente de B es: [-225.95084645   -0.63585993    0.46302113 -225.95084645   -0.63585993\n",
      "    0.46302113    7.24460662 -225.95084645   -0.63585993   -0.8559934 ]\n"
     ]
    }
   ],
   "source": [
    "print(\"La tangente de B es: {}\".format(np.tan(B)))"
   ]
  },
  {
   "cell_type": "code",
   "execution_count": 35,
   "id": "05b4c67f-da30-4bf7-bc2d-672d2a41040a",
   "metadata": {},
   "outputs": [
    {
     "name": "stdout",
     "output_type": "stream",
     "text": [
      "El valor de pi es: 3.141592653589793\n"
     ]
    }
   ],
   "source": [
    "print(\"El valor de pi es: {}\".format(np.pi))"
   ]
  },
  {
   "cell_type": "markdown",
   "id": "2895d515-4c10-4ead-a864-86b0adcef74c",
   "metadata": {},
   "source": [
    "### Funciones ceil y floor\n",
    "Nos retornan valores arriba o abajo\n",
    "\n",
    "* ceil $$ \\lceil x \\rceil$$\n",
    "* floor $$\\lfloor x \\rfloor$$"
   ]
  },
  {
   "cell_type": "code",
   "execution_count": 38,
   "id": "fd336d23-43f3-489f-a2e3-ffbd20898cf1",
   "metadata": {},
   "outputs": [
    {
     "name": "stdout",
     "output_type": "stream",
     "text": [
      "La función floor de 4.5 es: 4.0\n",
      "La función ceil de 4.5 es: 5.0\n"
     ]
    }
   ],
   "source": [
    "print(\"La función floor de 4.5 es: {}\".format(np.floor(4.5)))\n",
    "print(\"La función ceil de 4.5 es: {}\".format(np.ceil(4.5)))"
   ]
  },
  {
   "cell_type": "markdown",
   "id": "7ecc0f86-815c-44a8-85fd-62f59f730ebd",
   "metadata": {},
   "source": [
    "### Transpuesta de un arreglo\n",
    "Algunas veces es necesario transponer matrices y numpy nos provee de:\n",
    "* .T permite tranponer una matriz\n",
    "* np.transpose() permite transponer una matriz"
   ]
  },
  {
   "cell_type": "code",
   "execution_count": 40,
   "id": "5ee6ee8f-1a99-4656-a099-12a4cb14467e",
   "metadata": {},
   "outputs": [
    {
     "data": {
      "text/plain": [
       "array([[ 1,  5,  9],\n",
       "       [ 2,  6, 10],\n",
       "       [ 3,  7, 11],\n",
       "       [ 4,  8, 12]])"
      ]
     },
     "execution_count": 40,
     "metadata": {},
     "output_type": "execute_result"
    }
   ],
   "source": [
    "A.T"
   ]
  },
  {
   "cell_type": "code",
   "execution_count": 41,
   "id": "dc10eaee-3370-4d22-b600-10a72800bf44",
   "metadata": {},
   "outputs": [
    {
     "data": {
      "text/plain": [
       "array([[ 1,  5,  9],\n",
       "       [ 2,  6, 10],\n",
       "       [ 3,  7, 11],\n",
       "       [ 4,  8, 12]])"
      ]
     },
     "execution_count": 41,
     "metadata": {},
     "output_type": "execute_result"
    }
   ],
   "source": [
    "np.transpose(A)"
   ]
  },
  {
   "cell_type": "markdown",
   "id": "c52108e1-b73c-467a-9f21-964716676d95",
   "metadata": {},
   "source": [
    "Si queremos aplanar un arreglo podemos usar flatten()"
   ]
  },
  {
   "cell_type": "code",
   "execution_count": 43,
   "id": "ac15fc67-825c-4773-8f7c-2e96809503f7",
   "metadata": {},
   "outputs": [
    {
     "data": {
      "text/plain": [
       "array([ 1,  2,  3,  4,  5,  6,  7,  8,  9, 10, 11, 12])"
      ]
     },
     "execution_count": 43,
     "metadata": {},
     "output_type": "execute_result"
    }
   ],
   "source": [
    "A.flatten()"
   ]
  }
 ],
 "metadata": {
  "kernelspec": {
   "display_name": "Python 3 (ipykernel)",
   "language": "python",
   "name": "python3"
  },
  "language_info": {
   "codemirror_mode": {
    "name": "ipython",
    "version": 3
   },
   "file_extension": ".py",
   "mimetype": "text/x-python",
   "name": "python",
   "nbconvert_exporter": "python",
   "pygments_lexer": "ipython3",
   "version": "3.9.21"
  }
 },
 "nbformat": 4,
 "nbformat_minor": 5
}
