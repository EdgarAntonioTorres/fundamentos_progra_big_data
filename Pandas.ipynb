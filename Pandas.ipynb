{
 "cells": [
  {
   "cell_type": "markdown",
   "id": "6ae3d973-b7ed-4e1b-baa0-0e773644a9a2",
   "metadata": {},
   "source": [
    "# Intro a Pandas\n",
    "## Estructuras básicas\n",
    "\n",
    "Pandas nos provee de dos tipos de clases para manipular datos:\n",
    "* Series: Arreglos de una dimensión que pueden contener cualquier tipo de datos\n",
    "* DataFrame: Arreglos de dos dimensiones, manejan datos como si tuviesemos una tabla"
   ]
  },
  {
   "cell_type": "code",
   "execution_count": 1,
   "id": "7a9a45f2-a020-47a4-8254-d11f69cf1926",
   "metadata": {},
   "outputs": [],
   "source": [
    "# Importamos pandas\n",
    "import pandas as pd\n",
    "import numpy as np"
   ]
  },
  {
   "cell_type": "code",
   "execution_count": 2,
   "id": "e6eb7de0-4726-44a8-9494-323a2e5b9ff7",
   "metadata": {},
   "outputs": [
    {
     "name": "stdout",
     "output_type": "stream",
     "text": [
      "0    1.0\n",
      "1    3.0\n",
      "2    5.0\n",
      "3    NaN\n",
      "4    6.0\n",
      "5    8.0\n",
      "dtype: float64\n"
     ]
    }
   ],
   "source": [
    "s = pd.Series([1,3,5,np.nan,6,8])\n",
    "print(s)"
   ]
  },
  {
   "cell_type": "code",
   "execution_count": 3,
   "id": "d2bb0985-9dd5-4914-bab9-daa20bfbbbe9",
   "metadata": {},
   "outputs": [
    {
     "name": "stdout",
     "output_type": "stream",
     "text": [
      "DatetimeIndex(['2025-01-01', '2025-01-02', '2025-01-03', '2025-01-04',\n",
      "               '2025-01-05', '2025-01-06'],\n",
      "              dtype='datetime64[ns]', freq='D')\n",
      "                   A         B         C         D\n",
      "2025-01-01 -0.951191  0.606906 -0.761468  0.286661\n",
      "2025-01-02  0.634464 -1.443576  0.376403 -1.012387\n",
      "2025-01-03  0.271688  0.932401  0.089977 -0.509898\n",
      "2025-01-04  0.416721 -0.382602  0.877150  1.575109\n",
      "2025-01-05  0.489411 -1.079524  0.814877  1.348473\n",
      "2025-01-06  0.200562  0.319317 -0.651103 -0.427490\n"
     ]
    }
   ],
   "source": [
    "dates = pd.date_range(\"20250101\", periods=6)\n",
    "print(dates)\n",
    "df = pd.DataFrame(np.random.randn(6,4), index = dates, columns = list(\"ABCD\"))\n",
    "print(df)"
   ]
  },
  {
   "cell_type": "code",
   "execution_count": 4,
   "id": "c7ea8d04-8a00-4dfb-a535-099618880ee2",
   "metadata": {},
   "outputs": [
    {
     "name": "stdout",
     "output_type": "stream",
     "text": [
      "     A          B    C  D       E    F\n",
      "0  1.0 2025-02-06  1.0  3    test  foo\n",
      "1  1.0 2025-02-06  1.0  3   train  foo\n",
      "2  1.0 2025-02-06  1.0  3    test  foo\n",
      "3  1.0 2025-02-06  1.0  3  traimn  foo\n",
      "A          float64\n",
      "B    datetime64[s]\n",
      "C          float32\n",
      "D            int32\n",
      "E         category\n",
      "F           object\n",
      "dtype: object\n"
     ]
    }
   ],
   "source": [
    "df2 = pd.DataFrame({\n",
    "    \"A\": 1.0,\n",
    "    \"B\": pd.Timestamp(\"20250206\"),\n",
    "    \"C\": pd.Series(1,index = list(range(4)), dtype =\"float32\"),\n",
    "    \"D\": np.array([3]*4, dtype = \"int32\"),\n",
    "    \"E\": pd.Categorical([\"test\",\"train\",\"test\",\"traimn\"]),\n",
    "    \"F\": \"foo\",\n",
    "})\n",
    "print(df2)\n",
    "print(df2.dtypes)"
   ]
  },
  {
   "cell_type": "markdown",
   "id": "182e9df1-ea7e-40d1-b922-360dd536ccad",
   "metadata": {},
   "source": [
    "## Visualizando los datos"
   ]
  },
  {
   "cell_type": "code",
   "execution_count": 5,
   "id": "43e8b3ba-f9d9-4efe-9b64-a1e7eb4cefd9",
   "metadata": {},
   "outputs": [
    {
     "data": {
      "text/html": [
       "<div>\n",
       "<style scoped>\n",
       "    .dataframe tbody tr th:only-of-type {\n",
       "        vertical-align: middle;\n",
       "    }\n",
       "\n",
       "    .dataframe tbody tr th {\n",
       "        vertical-align: top;\n",
       "    }\n",
       "\n",
       "    .dataframe thead th {\n",
       "        text-align: right;\n",
       "    }\n",
       "</style>\n",
       "<table border=\"1\" class=\"dataframe\">\n",
       "  <thead>\n",
       "    <tr style=\"text-align: right;\">\n",
       "      <th></th>\n",
       "      <th>A</th>\n",
       "      <th>B</th>\n",
       "      <th>C</th>\n",
       "      <th>D</th>\n",
       "    </tr>\n",
       "  </thead>\n",
       "  <tbody>\n",
       "    <tr>\n",
       "      <th>2025-01-01</th>\n",
       "      <td>-0.951191</td>\n",
       "      <td>0.606906</td>\n",
       "      <td>-0.761468</td>\n",
       "      <td>0.286661</td>\n",
       "    </tr>\n",
       "    <tr>\n",
       "      <th>2025-01-02</th>\n",
       "      <td>0.634464</td>\n",
       "      <td>-1.443576</td>\n",
       "      <td>0.376403</td>\n",
       "      <td>-1.012387</td>\n",
       "    </tr>\n",
       "  </tbody>\n",
       "</table>\n",
       "</div>"
      ],
      "text/plain": [
       "                   A         B         C         D\n",
       "2025-01-01 -0.951191  0.606906 -0.761468  0.286661\n",
       "2025-01-02  0.634464 -1.443576  0.376403 -1.012387"
      ]
     },
     "execution_count": 5,
     "metadata": {},
     "output_type": "execute_result"
    }
   ],
   "source": [
    "df.head(2)"
   ]
  },
  {
   "cell_type": "code",
   "execution_count": 6,
   "id": "5bddb783-24ef-436f-b90e-ec59dde10849",
   "metadata": {},
   "outputs": [
    {
     "data": {
      "text/html": [
       "<div>\n",
       "<style scoped>\n",
       "    .dataframe tbody tr th:only-of-type {\n",
       "        vertical-align: middle;\n",
       "    }\n",
       "\n",
       "    .dataframe tbody tr th {\n",
       "        vertical-align: top;\n",
       "    }\n",
       "\n",
       "    .dataframe thead th {\n",
       "        text-align: right;\n",
       "    }\n",
       "</style>\n",
       "<table border=\"1\" class=\"dataframe\">\n",
       "  <thead>\n",
       "    <tr style=\"text-align: right;\">\n",
       "      <th></th>\n",
       "      <th>A</th>\n",
       "      <th>B</th>\n",
       "      <th>C</th>\n",
       "      <th>D</th>\n",
       "    </tr>\n",
       "  </thead>\n",
       "  <tbody>\n",
       "    <tr>\n",
       "      <th>2025-01-05</th>\n",
       "      <td>0.489411</td>\n",
       "      <td>-1.079524</td>\n",
       "      <td>0.814877</td>\n",
       "      <td>1.348473</td>\n",
       "    </tr>\n",
       "    <tr>\n",
       "      <th>2025-01-06</th>\n",
       "      <td>0.200562</td>\n",
       "      <td>0.319317</td>\n",
       "      <td>-0.651103</td>\n",
       "      <td>-0.427490</td>\n",
       "    </tr>\n",
       "  </tbody>\n",
       "</table>\n",
       "</div>"
      ],
      "text/plain": [
       "                   A         B         C         D\n",
       "2025-01-05  0.489411 -1.079524  0.814877  1.348473\n",
       "2025-01-06  0.200562  0.319317 -0.651103 -0.427490"
      ]
     },
     "execution_count": 6,
     "metadata": {},
     "output_type": "execute_result"
    }
   ],
   "source": [
    "df.tail(2)"
   ]
  },
  {
   "cell_type": "code",
   "execution_count": 7,
   "id": "bf08c075-136c-4161-b853-bbdf771b7f07",
   "metadata": {},
   "outputs": [
    {
     "data": {
      "text/plain": [
       "DatetimeIndex(['2025-01-01', '2025-01-02', '2025-01-03', '2025-01-04',\n",
       "               '2025-01-05', '2025-01-06'],\n",
       "              dtype='datetime64[ns]', freq='D')"
      ]
     },
     "execution_count": 7,
     "metadata": {},
     "output_type": "execute_result"
    }
   ],
   "source": [
    "df.index"
   ]
  },
  {
   "cell_type": "code",
   "execution_count": 8,
   "id": "2596bc1d-3506-46f8-b0da-b08c40c4282f",
   "metadata": {},
   "outputs": [
    {
     "data": {
      "text/plain": [
       "Index(['A', 'B', 'C', 'D'], dtype='object')"
      ]
     },
     "execution_count": 8,
     "metadata": {},
     "output_type": "execute_result"
    }
   ],
   "source": [
    "df.columns"
   ]
  },
  {
   "cell_type": "code",
   "execution_count": 9,
   "id": "9cb0b4b7-5b7c-4011-a72c-a91b56bdf98f",
   "metadata": {},
   "outputs": [
    {
     "data": {
      "text/plain": [
       "array([[-0.9511914 ,  0.60690604, -0.76146823,  0.28666118],\n",
       "       [ 0.63446426, -1.44357612,  0.37640291, -1.01238734],\n",
       "       [ 0.27168793,  0.932401  ,  0.08997729, -0.50989789],\n",
       "       [ 0.41672074, -0.38260206,  0.87715015,  1.57510877],\n",
       "       [ 0.4894112 , -1.07952412,  0.81487702,  1.34847261],\n",
       "       [ 0.20056189,  0.31931665, -0.65110325, -0.42749016]])"
      ]
     },
     "execution_count": 9,
     "metadata": {},
     "output_type": "execute_result"
    }
   ],
   "source": [
    "df.to_numpy()"
   ]
  },
  {
   "cell_type": "code",
   "execution_count": 10,
   "id": "3f813230-14b3-4bf4-8998-5190489e7f7d",
   "metadata": {},
   "outputs": [
    {
     "data": {
      "text/html": [
       "<div>\n",
       "<style scoped>\n",
       "    .dataframe tbody tr th:only-of-type {\n",
       "        vertical-align: middle;\n",
       "    }\n",
       "\n",
       "    .dataframe tbody tr th {\n",
       "        vertical-align: top;\n",
       "    }\n",
       "\n",
       "    .dataframe thead th {\n",
       "        text-align: right;\n",
       "    }\n",
       "</style>\n",
       "<table border=\"1\" class=\"dataframe\">\n",
       "  <thead>\n",
       "    <tr style=\"text-align: right;\">\n",
       "      <th></th>\n",
       "      <th>A</th>\n",
       "      <th>B</th>\n",
       "      <th>C</th>\n",
       "      <th>D</th>\n",
       "    </tr>\n",
       "  </thead>\n",
       "  <tbody>\n",
       "    <tr>\n",
       "      <th>count</th>\n",
       "      <td>6.000000</td>\n",
       "      <td>6.000000</td>\n",
       "      <td>6.000000</td>\n",
       "      <td>6.000000</td>\n",
       "    </tr>\n",
       "    <tr>\n",
       "      <th>mean</th>\n",
       "      <td>0.176942</td>\n",
       "      <td>-0.174513</td>\n",
       "      <td>0.124306</td>\n",
       "      <td>0.210078</td>\n",
       "    </tr>\n",
       "    <tr>\n",
       "      <th>std</th>\n",
       "      <td>0.573878</td>\n",
       "      <td>0.954213</td>\n",
       "      <td>0.706293</td>\n",
       "      <td>1.056825</td>\n",
       "    </tr>\n",
       "    <tr>\n",
       "      <th>min</th>\n",
       "      <td>-0.951191</td>\n",
       "      <td>-1.443576</td>\n",
       "      <td>-0.761468</td>\n",
       "      <td>-1.012387</td>\n",
       "    </tr>\n",
       "    <tr>\n",
       "      <th>25%</th>\n",
       "      <td>0.218343</td>\n",
       "      <td>-0.905294</td>\n",
       "      <td>-0.465833</td>\n",
       "      <td>-0.489296</td>\n",
       "    </tr>\n",
       "    <tr>\n",
       "      <th>50%</th>\n",
       "      <td>0.344204</td>\n",
       "      <td>-0.031643</td>\n",
       "      <td>0.233190</td>\n",
       "      <td>-0.070414</td>\n",
       "    </tr>\n",
       "    <tr>\n",
       "      <th>75%</th>\n",
       "      <td>0.471239</td>\n",
       "      <td>0.535009</td>\n",
       "      <td>0.705258</td>\n",
       "      <td>1.083020</td>\n",
       "    </tr>\n",
       "    <tr>\n",
       "      <th>max</th>\n",
       "      <td>0.634464</td>\n",
       "      <td>0.932401</td>\n",
       "      <td>0.877150</td>\n",
       "      <td>1.575109</td>\n",
       "    </tr>\n",
       "  </tbody>\n",
       "</table>\n",
       "</div>"
      ],
      "text/plain": [
       "              A         B         C         D\n",
       "count  6.000000  6.000000  6.000000  6.000000\n",
       "mean   0.176942 -0.174513  0.124306  0.210078\n",
       "std    0.573878  0.954213  0.706293  1.056825\n",
       "min   -0.951191 -1.443576 -0.761468 -1.012387\n",
       "25%    0.218343 -0.905294 -0.465833 -0.489296\n",
       "50%    0.344204 -0.031643  0.233190 -0.070414\n",
       "75%    0.471239  0.535009  0.705258  1.083020\n",
       "max    0.634464  0.932401  0.877150  1.575109"
      ]
     },
     "execution_count": 10,
     "metadata": {},
     "output_type": "execute_result"
    }
   ],
   "source": [
    "df.describe() # Resumen estadístico"
   ]
  },
  {
   "cell_type": "code",
   "execution_count": 11,
   "id": "68a96f13-5519-4c9b-bce0-ca93c163408b",
   "metadata": {},
   "outputs": [
    {
     "data": {
      "text/html": [
       "<div>\n",
       "<style scoped>\n",
       "    .dataframe tbody tr th:only-of-type {\n",
       "        vertical-align: middle;\n",
       "    }\n",
       "\n",
       "    .dataframe tbody tr th {\n",
       "        vertical-align: top;\n",
       "    }\n",
       "\n",
       "    .dataframe thead th {\n",
       "        text-align: right;\n",
       "    }\n",
       "</style>\n",
       "<table border=\"1\" class=\"dataframe\">\n",
       "  <thead>\n",
       "    <tr style=\"text-align: right;\">\n",
       "      <th></th>\n",
       "      <th>2025-01-01</th>\n",
       "      <th>2025-01-02</th>\n",
       "      <th>2025-01-03</th>\n",
       "      <th>2025-01-04</th>\n",
       "      <th>2025-01-05</th>\n",
       "      <th>2025-01-06</th>\n",
       "    </tr>\n",
       "  </thead>\n",
       "  <tbody>\n",
       "    <tr>\n",
       "      <th>A</th>\n",
       "      <td>-0.951191</td>\n",
       "      <td>0.634464</td>\n",
       "      <td>0.271688</td>\n",
       "      <td>0.416721</td>\n",
       "      <td>0.489411</td>\n",
       "      <td>0.200562</td>\n",
       "    </tr>\n",
       "    <tr>\n",
       "      <th>B</th>\n",
       "      <td>0.606906</td>\n",
       "      <td>-1.443576</td>\n",
       "      <td>0.932401</td>\n",
       "      <td>-0.382602</td>\n",
       "      <td>-1.079524</td>\n",
       "      <td>0.319317</td>\n",
       "    </tr>\n",
       "    <tr>\n",
       "      <th>C</th>\n",
       "      <td>-0.761468</td>\n",
       "      <td>0.376403</td>\n",
       "      <td>0.089977</td>\n",
       "      <td>0.877150</td>\n",
       "      <td>0.814877</td>\n",
       "      <td>-0.651103</td>\n",
       "    </tr>\n",
       "    <tr>\n",
       "      <th>D</th>\n",
       "      <td>0.286661</td>\n",
       "      <td>-1.012387</td>\n",
       "      <td>-0.509898</td>\n",
       "      <td>1.575109</td>\n",
       "      <td>1.348473</td>\n",
       "      <td>-0.427490</td>\n",
       "    </tr>\n",
       "  </tbody>\n",
       "</table>\n",
       "</div>"
      ],
      "text/plain": [
       "   2025-01-01  2025-01-02  2025-01-03  2025-01-04  2025-01-05  2025-01-06\n",
       "A   -0.951191    0.634464    0.271688    0.416721    0.489411    0.200562\n",
       "B    0.606906   -1.443576    0.932401   -0.382602   -1.079524    0.319317\n",
       "C   -0.761468    0.376403    0.089977    0.877150    0.814877   -0.651103\n",
       "D    0.286661   -1.012387   -0.509898    1.575109    1.348473   -0.427490"
      ]
     },
     "execution_count": 11,
     "metadata": {},
     "output_type": "execute_result"
    }
   ],
   "source": [
    "df.T # Transpuesta"
   ]
  },
  {
   "cell_type": "code",
   "execution_count": 12,
   "id": "511720e4-f997-4937-9e25-f16d63620c73",
   "metadata": {},
   "outputs": [
    {
     "data": {
      "text/html": [
       "<div>\n",
       "<style scoped>\n",
       "    .dataframe tbody tr th:only-of-type {\n",
       "        vertical-align: middle;\n",
       "    }\n",
       "\n",
       "    .dataframe tbody tr th {\n",
       "        vertical-align: top;\n",
       "    }\n",
       "\n",
       "    .dataframe thead th {\n",
       "        text-align: right;\n",
       "    }\n",
       "</style>\n",
       "<table border=\"1\" class=\"dataframe\">\n",
       "  <thead>\n",
       "    <tr style=\"text-align: right;\">\n",
       "      <th></th>\n",
       "      <th>D</th>\n",
       "      <th>C</th>\n",
       "      <th>B</th>\n",
       "      <th>A</th>\n",
       "    </tr>\n",
       "  </thead>\n",
       "  <tbody>\n",
       "    <tr>\n",
       "      <th>2025-01-01</th>\n",
       "      <td>0.286661</td>\n",
       "      <td>-0.761468</td>\n",
       "      <td>0.606906</td>\n",
       "      <td>-0.951191</td>\n",
       "    </tr>\n",
       "    <tr>\n",
       "      <th>2025-01-02</th>\n",
       "      <td>-1.012387</td>\n",
       "      <td>0.376403</td>\n",
       "      <td>-1.443576</td>\n",
       "      <td>0.634464</td>\n",
       "    </tr>\n",
       "    <tr>\n",
       "      <th>2025-01-03</th>\n",
       "      <td>-0.509898</td>\n",
       "      <td>0.089977</td>\n",
       "      <td>0.932401</td>\n",
       "      <td>0.271688</td>\n",
       "    </tr>\n",
       "    <tr>\n",
       "      <th>2025-01-04</th>\n",
       "      <td>1.575109</td>\n",
       "      <td>0.877150</td>\n",
       "      <td>-0.382602</td>\n",
       "      <td>0.416721</td>\n",
       "    </tr>\n",
       "    <tr>\n",
       "      <th>2025-01-05</th>\n",
       "      <td>1.348473</td>\n",
       "      <td>0.814877</td>\n",
       "      <td>-1.079524</td>\n",
       "      <td>0.489411</td>\n",
       "    </tr>\n",
       "    <tr>\n",
       "      <th>2025-01-06</th>\n",
       "      <td>-0.427490</td>\n",
       "      <td>-0.651103</td>\n",
       "      <td>0.319317</td>\n",
       "      <td>0.200562</td>\n",
       "    </tr>\n",
       "  </tbody>\n",
       "</table>\n",
       "</div>"
      ],
      "text/plain": [
       "                   D         C         B         A\n",
       "2025-01-01  0.286661 -0.761468  0.606906 -0.951191\n",
       "2025-01-02 -1.012387  0.376403 -1.443576  0.634464\n",
       "2025-01-03 -0.509898  0.089977  0.932401  0.271688\n",
       "2025-01-04  1.575109  0.877150 -0.382602  0.416721\n",
       "2025-01-05  1.348473  0.814877 -1.079524  0.489411\n",
       "2025-01-06 -0.427490 -0.651103  0.319317  0.200562"
      ]
     },
     "execution_count": 12,
     "metadata": {},
     "output_type": "execute_result"
    }
   ],
   "source": [
    "# Ordenar df por un eje\n",
    "df.sort_index(axis =1, ascending=False)"
   ]
  },
  {
   "cell_type": "code",
   "execution_count": 13,
   "id": "c9a7638e-c96d-4435-9fb1-372a5dd004b4",
   "metadata": {},
   "outputs": [
    {
     "data": {
      "text/html": [
       "<div>\n",
       "<style scoped>\n",
       "    .dataframe tbody tr th:only-of-type {\n",
       "        vertical-align: middle;\n",
       "    }\n",
       "\n",
       "    .dataframe tbody tr th {\n",
       "        vertical-align: top;\n",
       "    }\n",
       "\n",
       "    .dataframe thead th {\n",
       "        text-align: right;\n",
       "    }\n",
       "</style>\n",
       "<table border=\"1\" class=\"dataframe\">\n",
       "  <thead>\n",
       "    <tr style=\"text-align: right;\">\n",
       "      <th></th>\n",
       "      <th>A</th>\n",
       "      <th>B</th>\n",
       "      <th>C</th>\n",
       "      <th>D</th>\n",
       "    </tr>\n",
       "  </thead>\n",
       "  <tbody>\n",
       "    <tr>\n",
       "      <th>2025-01-02</th>\n",
       "      <td>0.634464</td>\n",
       "      <td>-1.443576</td>\n",
       "      <td>0.376403</td>\n",
       "      <td>-1.012387</td>\n",
       "    </tr>\n",
       "    <tr>\n",
       "      <th>2025-01-05</th>\n",
       "      <td>0.489411</td>\n",
       "      <td>-1.079524</td>\n",
       "      <td>0.814877</td>\n",
       "      <td>1.348473</td>\n",
       "    </tr>\n",
       "    <tr>\n",
       "      <th>2025-01-04</th>\n",
       "      <td>0.416721</td>\n",
       "      <td>-0.382602</td>\n",
       "      <td>0.877150</td>\n",
       "      <td>1.575109</td>\n",
       "    </tr>\n",
       "    <tr>\n",
       "      <th>2025-01-06</th>\n",
       "      <td>0.200562</td>\n",
       "      <td>0.319317</td>\n",
       "      <td>-0.651103</td>\n",
       "      <td>-0.427490</td>\n",
       "    </tr>\n",
       "    <tr>\n",
       "      <th>2025-01-01</th>\n",
       "      <td>-0.951191</td>\n",
       "      <td>0.606906</td>\n",
       "      <td>-0.761468</td>\n",
       "      <td>0.286661</td>\n",
       "    </tr>\n",
       "    <tr>\n",
       "      <th>2025-01-03</th>\n",
       "      <td>0.271688</td>\n",
       "      <td>0.932401</td>\n",
       "      <td>0.089977</td>\n",
       "      <td>-0.509898</td>\n",
       "    </tr>\n",
       "  </tbody>\n",
       "</table>\n",
       "</div>"
      ],
      "text/plain": [
       "                   A         B         C         D\n",
       "2025-01-02  0.634464 -1.443576  0.376403 -1.012387\n",
       "2025-01-05  0.489411 -1.079524  0.814877  1.348473\n",
       "2025-01-04  0.416721 -0.382602  0.877150  1.575109\n",
       "2025-01-06  0.200562  0.319317 -0.651103 -0.427490\n",
       "2025-01-01 -0.951191  0.606906 -0.761468  0.286661\n",
       "2025-01-03  0.271688  0.932401  0.089977 -0.509898"
      ]
     },
     "execution_count": 13,
     "metadata": {},
     "output_type": "execute_result"
    }
   ],
   "source": [
    "df.sort_values(by=\"B\") # Ordenar valores por "
   ]
  },
  {
   "cell_type": "markdown",
   "id": "769c42d4-9926-4e6d-bbe3-e25c167e02ad",
   "metadata": {},
   "source": [
    "## Seleccionando datos"
   ]
  },
  {
   "cell_type": "code",
   "execution_count": 14,
   "id": "d8cb52d6-47c3-4256-90c5-e3e316b61f8a",
   "metadata": {},
   "outputs": [
    {
     "data": {
      "text/plain": [
       "2025-01-01   -0.951191\n",
       "2025-01-02    0.634464\n",
       "2025-01-03    0.271688\n",
       "2025-01-04    0.416721\n",
       "2025-01-05    0.489411\n",
       "2025-01-06    0.200562\n",
       "Freq: D, Name: A, dtype: float64"
      ]
     },
     "execution_count": 14,
     "metadata": {},
     "output_type": "execute_result"
    }
   ],
   "source": [
    "df[\"A\"]"
   ]
  },
  {
   "cell_type": "code",
   "execution_count": 15,
   "id": "b1310b2c-3d0b-40d1-8bb0-69102e031fee",
   "metadata": {},
   "outputs": [
    {
     "data": {
      "text/html": [
       "<div>\n",
       "<style scoped>\n",
       "    .dataframe tbody tr th:only-of-type {\n",
       "        vertical-align: middle;\n",
       "    }\n",
       "\n",
       "    .dataframe tbody tr th {\n",
       "        vertical-align: top;\n",
       "    }\n",
       "\n",
       "    .dataframe thead th {\n",
       "        text-align: right;\n",
       "    }\n",
       "</style>\n",
       "<table border=\"1\" class=\"dataframe\">\n",
       "  <thead>\n",
       "    <tr style=\"text-align: right;\">\n",
       "      <th></th>\n",
       "      <th>A</th>\n",
       "      <th>B</th>\n",
       "      <th>C</th>\n",
       "      <th>D</th>\n",
       "    </tr>\n",
       "  </thead>\n",
       "  <tbody>\n",
       "    <tr>\n",
       "      <th>2025-01-01</th>\n",
       "      <td>-0.951191</td>\n",
       "      <td>0.606906</td>\n",
       "      <td>-0.761468</td>\n",
       "      <td>0.286661</td>\n",
       "    </tr>\n",
       "    <tr>\n",
       "      <th>2025-01-02</th>\n",
       "      <td>0.634464</td>\n",
       "      <td>-1.443576</td>\n",
       "      <td>0.376403</td>\n",
       "      <td>-1.012387</td>\n",
       "    </tr>\n",
       "  </tbody>\n",
       "</table>\n",
       "</div>"
      ],
      "text/plain": [
       "                   A         B         C         D\n",
       "2025-01-01 -0.951191  0.606906 -0.761468  0.286661\n",
       "2025-01-02  0.634464 -1.443576  0.376403 -1.012387"
      ]
     },
     "execution_count": 15,
     "metadata": {},
     "output_type": "execute_result"
    }
   ],
   "source": [
    "df[0:2]"
   ]
  },
  {
   "cell_type": "code",
   "execution_count": 16,
   "id": "276ae079-2e92-4e75-a4b4-078f1a6b2e19",
   "metadata": {},
   "outputs": [
    {
     "data": {
      "text/html": [
       "<div>\n",
       "<style scoped>\n",
       "    .dataframe tbody tr th:only-of-type {\n",
       "        vertical-align: middle;\n",
       "    }\n",
       "\n",
       "    .dataframe tbody tr th {\n",
       "        vertical-align: top;\n",
       "    }\n",
       "\n",
       "    .dataframe thead th {\n",
       "        text-align: right;\n",
       "    }\n",
       "</style>\n",
       "<table border=\"1\" class=\"dataframe\">\n",
       "  <thead>\n",
       "    <tr style=\"text-align: right;\">\n",
       "      <th></th>\n",
       "      <th>A</th>\n",
       "      <th>B</th>\n",
       "      <th>C</th>\n",
       "      <th>D</th>\n",
       "    </tr>\n",
       "  </thead>\n",
       "  <tbody>\n",
       "    <tr>\n",
       "      <th>2025-01-03</th>\n",
       "      <td>0.271688</td>\n",
       "      <td>0.932401</td>\n",
       "      <td>0.089977</td>\n",
       "      <td>-0.509898</td>\n",
       "    </tr>\n",
       "    <tr>\n",
       "      <th>2025-01-04</th>\n",
       "      <td>0.416721</td>\n",
       "      <td>-0.382602</td>\n",
       "      <td>0.877150</td>\n",
       "      <td>1.575109</td>\n",
       "    </tr>\n",
       "    <tr>\n",
       "      <th>2025-01-05</th>\n",
       "      <td>0.489411</td>\n",
       "      <td>-1.079524</td>\n",
       "      <td>0.814877</td>\n",
       "      <td>1.348473</td>\n",
       "    </tr>\n",
       "    <tr>\n",
       "      <th>2025-01-06</th>\n",
       "      <td>0.200562</td>\n",
       "      <td>0.319317</td>\n",
       "      <td>-0.651103</td>\n",
       "      <td>-0.427490</td>\n",
       "    </tr>\n",
       "  </tbody>\n",
       "</table>\n",
       "</div>"
      ],
      "text/plain": [
       "                   A         B         C         D\n",
       "2025-01-03  0.271688  0.932401  0.089977 -0.509898\n",
       "2025-01-04  0.416721 -0.382602  0.877150  1.575109\n",
       "2025-01-05  0.489411 -1.079524  0.814877  1.348473\n",
       "2025-01-06  0.200562  0.319317 -0.651103 -0.427490"
      ]
     },
     "execution_count": 16,
     "metadata": {},
     "output_type": "execute_result"
    }
   ],
   "source": [
    "df[2:]"
   ]
  },
  {
   "cell_type": "code",
   "execution_count": 17,
   "id": "605e31ee-13d6-438e-9869-8cca5ec3ee1d",
   "metadata": {},
   "outputs": [
    {
     "data": {
      "text/html": [
       "<div>\n",
       "<style scoped>\n",
       "    .dataframe tbody tr th:only-of-type {\n",
       "        vertical-align: middle;\n",
       "    }\n",
       "\n",
       "    .dataframe tbody tr th {\n",
       "        vertical-align: top;\n",
       "    }\n",
       "\n",
       "    .dataframe thead th {\n",
       "        text-align: right;\n",
       "    }\n",
       "</style>\n",
       "<table border=\"1\" class=\"dataframe\">\n",
       "  <thead>\n",
       "    <tr style=\"text-align: right;\">\n",
       "      <th></th>\n",
       "      <th>A</th>\n",
       "      <th>B</th>\n",
       "      <th>C</th>\n",
       "      <th>D</th>\n",
       "    </tr>\n",
       "  </thead>\n",
       "  <tbody>\n",
       "    <tr>\n",
       "      <th>2025-01-03</th>\n",
       "      <td>0.271688</td>\n",
       "      <td>0.932401</td>\n",
       "      <td>0.089977</td>\n",
       "      <td>-0.509898</td>\n",
       "    </tr>\n",
       "    <tr>\n",
       "      <th>2025-01-04</th>\n",
       "      <td>0.416721</td>\n",
       "      <td>-0.382602</td>\n",
       "      <td>0.877150</td>\n",
       "      <td>1.575109</td>\n",
       "    </tr>\n",
       "    <tr>\n",
       "      <th>2025-01-05</th>\n",
       "      <td>0.489411</td>\n",
       "      <td>-1.079524</td>\n",
       "      <td>0.814877</td>\n",
       "      <td>1.348473</td>\n",
       "    </tr>\n",
       "  </tbody>\n",
       "</table>\n",
       "</div>"
      ],
      "text/plain": [
       "                   A         B         C         D\n",
       "2025-01-03  0.271688  0.932401  0.089977 -0.509898\n",
       "2025-01-04  0.416721 -0.382602  0.877150  1.575109\n",
       "2025-01-05  0.489411 -1.079524  0.814877  1.348473"
      ]
     },
     "execution_count": 17,
     "metadata": {},
     "output_type": "execute_result"
    }
   ],
   "source": [
    "df[\"20250103\":\"20250105\"]"
   ]
  },
  {
   "cell_type": "code",
   "execution_count": 18,
   "id": "558178b2-d1d0-4d4b-89ee-f8097a8ec007",
   "metadata": {},
   "outputs": [
    {
     "data": {
      "text/plain": [
       "A   -0.951191\n",
       "B    0.606906\n",
       "C   -0.761468\n",
       "D    0.286661\n",
       "Name: 2025-01-01 00:00:00, dtype: float64"
      ]
     },
     "execution_count": 18,
     "metadata": {},
     "output_type": "execute_result"
    }
   ],
   "source": [
    "# .loc nos sirve para seleccionar por etiquetas\n",
    "df.loc[dates[0]] # Coincide con 2025-01-01"
   ]
  },
  {
   "cell_type": "code",
   "execution_count": 19,
   "id": "82200071-d215-40ac-9d6c-b3df4d8c2dd4",
   "metadata": {},
   "outputs": [
    {
     "data": {
      "text/html": [
       "<div>\n",
       "<style scoped>\n",
       "    .dataframe tbody tr th:only-of-type {\n",
       "        vertical-align: middle;\n",
       "    }\n",
       "\n",
       "    .dataframe tbody tr th {\n",
       "        vertical-align: top;\n",
       "    }\n",
       "\n",
       "    .dataframe thead th {\n",
       "        text-align: right;\n",
       "    }\n",
       "</style>\n",
       "<table border=\"1\" class=\"dataframe\">\n",
       "  <thead>\n",
       "    <tr style=\"text-align: right;\">\n",
       "      <th></th>\n",
       "      <th>A</th>\n",
       "      <th>B</th>\n",
       "    </tr>\n",
       "  </thead>\n",
       "  <tbody>\n",
       "    <tr>\n",
       "      <th>2025-01-01</th>\n",
       "      <td>-0.951191</td>\n",
       "      <td>0.606906</td>\n",
       "    </tr>\n",
       "    <tr>\n",
       "      <th>2025-01-02</th>\n",
       "      <td>0.634464</td>\n",
       "      <td>-1.443576</td>\n",
       "    </tr>\n",
       "    <tr>\n",
       "      <th>2025-01-03</th>\n",
       "      <td>0.271688</td>\n",
       "      <td>0.932401</td>\n",
       "    </tr>\n",
       "    <tr>\n",
       "      <th>2025-01-04</th>\n",
       "      <td>0.416721</td>\n",
       "      <td>-0.382602</td>\n",
       "    </tr>\n",
       "    <tr>\n",
       "      <th>2025-01-05</th>\n",
       "      <td>0.489411</td>\n",
       "      <td>-1.079524</td>\n",
       "    </tr>\n",
       "    <tr>\n",
       "      <th>2025-01-06</th>\n",
       "      <td>0.200562</td>\n",
       "      <td>0.319317</td>\n",
       "    </tr>\n",
       "  </tbody>\n",
       "</table>\n",
       "</div>"
      ],
      "text/plain": [
       "                   A         B\n",
       "2025-01-01 -0.951191  0.606906\n",
       "2025-01-02  0.634464 -1.443576\n",
       "2025-01-03  0.271688  0.932401\n",
       "2025-01-04  0.416721 -0.382602\n",
       "2025-01-05  0.489411 -1.079524\n",
       "2025-01-06  0.200562  0.319317"
      ]
     },
     "execution_count": 19,
     "metadata": {},
     "output_type": "execute_result"
    }
   ],
   "source": [
    "df.loc[:,[\"A\",\"B\"]]"
   ]
  },
  {
   "cell_type": "code",
   "execution_count": 20,
   "id": "3113e575-7faa-4896-99b9-66312f5f3507",
   "metadata": {},
   "outputs": [
    {
     "data": {
      "text/plain": [
       "-0.95119140290691"
      ]
     },
     "execution_count": 20,
     "metadata": {},
     "output_type": "execute_result"
    }
   ],
   "source": [
    "df.loc[dates[0],\"A\"]"
   ]
  },
  {
   "cell_type": "code",
   "execution_count": 21,
   "id": "6a118967-f348-4a84-a0cb-234e00a79319",
   "metadata": {},
   "outputs": [
    {
     "data": {
      "text/plain": [
       "A   -0.951191\n",
       "B    0.606906\n",
       "C   -0.761468\n",
       "D    0.286661\n",
       "Name: 2025-01-01 00:00:00, dtype: float64"
      ]
     },
     "execution_count": 21,
     "metadata": {},
     "output_type": "execute_result"
    }
   ],
   "source": [
    "# .iloc permite acceso por posición\n",
    "df.iloc[0]"
   ]
  },
  {
   "cell_type": "code",
   "execution_count": 22,
   "id": "3c8e1193-1ed5-4cd1-aaf1-44eb32e9c910",
   "metadata": {},
   "outputs": [
    {
     "data": {
      "text/plain": [
       "-0.95119140290691"
      ]
     },
     "execution_count": 22,
     "metadata": {},
     "output_type": "execute_result"
    }
   ],
   "source": [
    "df.iloc[0,0]"
   ]
  },
  {
   "cell_type": "code",
   "execution_count": 23,
   "id": "28e5349d-1043-4c2f-ba9e-40af5751033d",
   "metadata": {},
   "outputs": [
    {
     "data": {
      "text/html": [
       "<div>\n",
       "<style scoped>\n",
       "    .dataframe tbody tr th:only-of-type {\n",
       "        vertical-align: middle;\n",
       "    }\n",
       "\n",
       "    .dataframe tbody tr th {\n",
       "        vertical-align: top;\n",
       "    }\n",
       "\n",
       "    .dataframe thead th {\n",
       "        text-align: right;\n",
       "    }\n",
       "</style>\n",
       "<table border=\"1\" class=\"dataframe\">\n",
       "  <thead>\n",
       "    <tr style=\"text-align: right;\">\n",
       "      <th></th>\n",
       "      <th>C</th>\n",
       "      <th>D</th>\n",
       "    </tr>\n",
       "  </thead>\n",
       "  <tbody>\n",
       "    <tr>\n",
       "      <th>2025-01-01</th>\n",
       "      <td>-0.761468</td>\n",
       "      <td>0.286661</td>\n",
       "    </tr>\n",
       "    <tr>\n",
       "      <th>2025-01-02</th>\n",
       "      <td>0.376403</td>\n",
       "      <td>-1.012387</td>\n",
       "    </tr>\n",
       "    <tr>\n",
       "      <th>2025-01-03</th>\n",
       "      <td>0.089977</td>\n",
       "      <td>-0.509898</td>\n",
       "    </tr>\n",
       "  </tbody>\n",
       "</table>\n",
       "</div>"
      ],
      "text/plain": [
       "                   C         D\n",
       "2025-01-01 -0.761468  0.286661\n",
       "2025-01-02  0.376403 -1.012387\n",
       "2025-01-03  0.089977 -0.509898"
      ]
     },
     "execution_count": 23,
     "metadata": {},
     "output_type": "execute_result"
    }
   ],
   "source": [
    "df.iloc[:3,2:]"
   ]
  },
  {
   "cell_type": "markdown",
   "id": "356904b6-59aa-4443-933f-fcaa58a68e99",
   "metadata": {},
   "source": [
    "## Indexación Booleana"
   ]
  },
  {
   "cell_type": "code",
   "execution_count": 24,
   "id": "2a8da455-5208-4278-aa0f-f0e50d8b014a",
   "metadata": {},
   "outputs": [
    {
     "data": {
      "text/html": [
       "<div>\n",
       "<style scoped>\n",
       "    .dataframe tbody tr th:only-of-type {\n",
       "        vertical-align: middle;\n",
       "    }\n",
       "\n",
       "    .dataframe tbody tr th {\n",
       "        vertical-align: top;\n",
       "    }\n",
       "\n",
       "    .dataframe thead th {\n",
       "        text-align: right;\n",
       "    }\n",
       "</style>\n",
       "<table border=\"1\" class=\"dataframe\">\n",
       "  <thead>\n",
       "    <tr style=\"text-align: right;\">\n",
       "      <th></th>\n",
       "      <th>A</th>\n",
       "      <th>B</th>\n",
       "      <th>C</th>\n",
       "      <th>D</th>\n",
       "    </tr>\n",
       "  </thead>\n",
       "  <tbody>\n",
       "    <tr>\n",
       "      <th>2025-01-02</th>\n",
       "      <td>0.634464</td>\n",
       "      <td>-1.443576</td>\n",
       "      <td>0.376403</td>\n",
       "      <td>-1.012387</td>\n",
       "    </tr>\n",
       "    <tr>\n",
       "      <th>2025-01-03</th>\n",
       "      <td>0.271688</td>\n",
       "      <td>0.932401</td>\n",
       "      <td>0.089977</td>\n",
       "      <td>-0.509898</td>\n",
       "    </tr>\n",
       "    <tr>\n",
       "      <th>2025-01-04</th>\n",
       "      <td>0.416721</td>\n",
       "      <td>-0.382602</td>\n",
       "      <td>0.877150</td>\n",
       "      <td>1.575109</td>\n",
       "    </tr>\n",
       "    <tr>\n",
       "      <th>2025-01-05</th>\n",
       "      <td>0.489411</td>\n",
       "      <td>-1.079524</td>\n",
       "      <td>0.814877</td>\n",
       "      <td>1.348473</td>\n",
       "    </tr>\n",
       "    <tr>\n",
       "      <th>2025-01-06</th>\n",
       "      <td>0.200562</td>\n",
       "      <td>0.319317</td>\n",
       "      <td>-0.651103</td>\n",
       "      <td>-0.427490</td>\n",
       "    </tr>\n",
       "  </tbody>\n",
       "</table>\n",
       "</div>"
      ],
      "text/plain": [
       "                   A         B         C         D\n",
       "2025-01-02  0.634464 -1.443576  0.376403 -1.012387\n",
       "2025-01-03  0.271688  0.932401  0.089977 -0.509898\n",
       "2025-01-04  0.416721 -0.382602  0.877150  1.575109\n",
       "2025-01-05  0.489411 -1.079524  0.814877  1.348473\n",
       "2025-01-06  0.200562  0.319317 -0.651103 -0.427490"
      ]
     },
     "execution_count": 24,
     "metadata": {},
     "output_type": "execute_result"
    }
   ],
   "source": [
    "#Seleccionar filas donde df.A sea mayor que 0\n",
    "df[df[\"A\"] > 0]"
   ]
  },
  {
   "cell_type": "code",
   "execution_count": 25,
   "id": "a664fc10-306d-4974-bd04-7b98243d3e54",
   "metadata": {},
   "outputs": [
    {
     "data": {
      "text/html": [
       "<div>\n",
       "<style scoped>\n",
       "    .dataframe tbody tr th:only-of-type {\n",
       "        vertical-align: middle;\n",
       "    }\n",
       "\n",
       "    .dataframe tbody tr th {\n",
       "        vertical-align: top;\n",
       "    }\n",
       "\n",
       "    .dataframe thead th {\n",
       "        text-align: right;\n",
       "    }\n",
       "</style>\n",
       "<table border=\"1\" class=\"dataframe\">\n",
       "  <thead>\n",
       "    <tr style=\"text-align: right;\">\n",
       "      <th></th>\n",
       "      <th>A</th>\n",
       "      <th>B</th>\n",
       "      <th>C</th>\n",
       "      <th>D</th>\n",
       "    </tr>\n",
       "  </thead>\n",
       "  <tbody>\n",
       "    <tr>\n",
       "      <th>2025-01-01</th>\n",
       "      <td>NaN</td>\n",
       "      <td>0.606906</td>\n",
       "      <td>NaN</td>\n",
       "      <td>0.286661</td>\n",
       "    </tr>\n",
       "    <tr>\n",
       "      <th>2025-01-02</th>\n",
       "      <td>0.634464</td>\n",
       "      <td>NaN</td>\n",
       "      <td>0.376403</td>\n",
       "      <td>NaN</td>\n",
       "    </tr>\n",
       "    <tr>\n",
       "      <th>2025-01-03</th>\n",
       "      <td>0.271688</td>\n",
       "      <td>0.932401</td>\n",
       "      <td>0.089977</td>\n",
       "      <td>NaN</td>\n",
       "    </tr>\n",
       "    <tr>\n",
       "      <th>2025-01-04</th>\n",
       "      <td>0.416721</td>\n",
       "      <td>NaN</td>\n",
       "      <td>0.877150</td>\n",
       "      <td>1.575109</td>\n",
       "    </tr>\n",
       "    <tr>\n",
       "      <th>2025-01-05</th>\n",
       "      <td>0.489411</td>\n",
       "      <td>NaN</td>\n",
       "      <td>0.814877</td>\n",
       "      <td>1.348473</td>\n",
       "    </tr>\n",
       "    <tr>\n",
       "      <th>2025-01-06</th>\n",
       "      <td>0.200562</td>\n",
       "      <td>0.319317</td>\n",
       "      <td>NaN</td>\n",
       "      <td>NaN</td>\n",
       "    </tr>\n",
       "  </tbody>\n",
       "</table>\n",
       "</div>"
      ],
      "text/plain": [
       "                   A         B         C         D\n",
       "2025-01-01       NaN  0.606906       NaN  0.286661\n",
       "2025-01-02  0.634464       NaN  0.376403       NaN\n",
       "2025-01-03  0.271688  0.932401  0.089977       NaN\n",
       "2025-01-04  0.416721       NaN  0.877150  1.575109\n",
       "2025-01-05  0.489411       NaN  0.814877  1.348473\n",
       "2025-01-06  0.200562  0.319317       NaN       NaN"
      ]
     },
     "execution_count": 25,
     "metadata": {},
     "output_type": "execute_result"
    }
   ],
   "source": [
    "#Filtro de elementos que sea mayores a 0\n",
    "df[df>0]"
   ]
  },
  {
   "cell_type": "code",
   "execution_count": 26,
   "id": "65e3fbb7-cae0-4637-b1a2-af514a15b614",
   "metadata": {},
   "outputs": [
    {
     "data": {
      "text/html": [
       "<div>\n",
       "<style scoped>\n",
       "    .dataframe tbody tr th:only-of-type {\n",
       "        vertical-align: middle;\n",
       "    }\n",
       "\n",
       "    .dataframe tbody tr th {\n",
       "        vertical-align: top;\n",
       "    }\n",
       "\n",
       "    .dataframe thead th {\n",
       "        text-align: right;\n",
       "    }\n",
       "</style>\n",
       "<table border=\"1\" class=\"dataframe\">\n",
       "  <thead>\n",
       "    <tr style=\"text-align: right;\">\n",
       "      <th></th>\n",
       "      <th>A</th>\n",
       "      <th>B</th>\n",
       "      <th>C</th>\n",
       "      <th>D</th>\n",
       "      <th>E</th>\n",
       "    </tr>\n",
       "  </thead>\n",
       "  <tbody>\n",
       "    <tr>\n",
       "      <th>2025-01-01</th>\n",
       "      <td>-0.951191</td>\n",
       "      <td>0.606906</td>\n",
       "      <td>-0.761468</td>\n",
       "      <td>0.286661</td>\n",
       "      <td>uno</td>\n",
       "    </tr>\n",
       "    <tr>\n",
       "      <th>2025-01-02</th>\n",
       "      <td>0.634464</td>\n",
       "      <td>-1.443576</td>\n",
       "      <td>0.376403</td>\n",
       "      <td>-1.012387</td>\n",
       "      <td>uno</td>\n",
       "    </tr>\n",
       "    <tr>\n",
       "      <th>2025-01-03</th>\n",
       "      <td>0.271688</td>\n",
       "      <td>0.932401</td>\n",
       "      <td>0.089977</td>\n",
       "      <td>-0.509898</td>\n",
       "      <td>dos</td>\n",
       "    </tr>\n",
       "    <tr>\n",
       "      <th>2025-01-04</th>\n",
       "      <td>0.416721</td>\n",
       "      <td>-0.382602</td>\n",
       "      <td>0.877150</td>\n",
       "      <td>1.575109</td>\n",
       "      <td>tres</td>\n",
       "    </tr>\n",
       "    <tr>\n",
       "      <th>2025-01-05</th>\n",
       "      <td>0.489411</td>\n",
       "      <td>-1.079524</td>\n",
       "      <td>0.814877</td>\n",
       "      <td>1.348473</td>\n",
       "      <td>cuatro</td>\n",
       "    </tr>\n",
       "    <tr>\n",
       "      <th>2025-01-06</th>\n",
       "      <td>0.200562</td>\n",
       "      <td>0.319317</td>\n",
       "      <td>-0.651103</td>\n",
       "      <td>-0.427490</td>\n",
       "      <td>tres</td>\n",
       "    </tr>\n",
       "  </tbody>\n",
       "</table>\n",
       "</div>"
      ],
      "text/plain": [
       "                   A         B         C         D       E\n",
       "2025-01-01 -0.951191  0.606906 -0.761468  0.286661     uno\n",
       "2025-01-02  0.634464 -1.443576  0.376403 -1.012387     uno\n",
       "2025-01-03  0.271688  0.932401  0.089977 -0.509898     dos\n",
       "2025-01-04  0.416721 -0.382602  0.877150  1.575109    tres\n",
       "2025-01-05  0.489411 -1.079524  0.814877  1.348473  cuatro\n",
       "2025-01-06  0.200562  0.319317 -0.651103 -0.427490    tres"
      ]
     },
     "execution_count": 26,
     "metadata": {},
     "output_type": "execute_result"
    }
   ],
   "source": [
    "#Copiar df\n",
    "df2 = df.copy()\n",
    "df2[\"E\"] = [\"uno\", \"uno\", \"dos\", \"tres\", \"cuatro\", \"tres\"]\n",
    "df2"
   ]
  },
  {
   "cell_type": "code",
   "execution_count": 27,
   "id": "7b7f2890-a787-4ab3-bc6e-aca0fd9c88e7",
   "metadata": {},
   "outputs": [
    {
     "data": {
      "text/html": [
       "<div>\n",
       "<style scoped>\n",
       "    .dataframe tbody tr th:only-of-type {\n",
       "        vertical-align: middle;\n",
       "    }\n",
       "\n",
       "    .dataframe tbody tr th {\n",
       "        vertical-align: top;\n",
       "    }\n",
       "\n",
       "    .dataframe thead th {\n",
       "        text-align: right;\n",
       "    }\n",
       "</style>\n",
       "<table border=\"1\" class=\"dataframe\">\n",
       "  <thead>\n",
       "    <tr style=\"text-align: right;\">\n",
       "      <th></th>\n",
       "      <th>A</th>\n",
       "      <th>B</th>\n",
       "      <th>C</th>\n",
       "      <th>D</th>\n",
       "      <th>E</th>\n",
       "    </tr>\n",
       "  </thead>\n",
       "  <tbody>\n",
       "    <tr>\n",
       "      <th>2025-01-03</th>\n",
       "      <td>0.271688</td>\n",
       "      <td>0.932401</td>\n",
       "      <td>0.089977</td>\n",
       "      <td>-0.509898</td>\n",
       "      <td>dos</td>\n",
       "    </tr>\n",
       "    <tr>\n",
       "      <th>2025-01-05</th>\n",
       "      <td>0.489411</td>\n",
       "      <td>-1.079524</td>\n",
       "      <td>0.814877</td>\n",
       "      <td>1.348473</td>\n",
       "      <td>cuatro</td>\n",
       "    </tr>\n",
       "  </tbody>\n",
       "</table>\n",
       "</div>"
      ],
      "text/plain": [
       "                   A         B         C         D       E\n",
       "2025-01-03  0.271688  0.932401  0.089977 -0.509898     dos\n",
       "2025-01-05  0.489411 -1.079524  0.814877  1.348473  cuatro"
      ]
     },
     "execution_count": 27,
     "metadata": {},
     "output_type": "execute_result"
    }
   ],
   "source": [
    "#Método de filtrado isin()\n",
    "df2[df2[\"E\"].isin([\"dos\", \"cuatro\"])]"
   ]
  },
  {
   "cell_type": "markdown",
   "id": "f36cb799-f486-4fad-946d-2d5f6e7cfe77",
   "metadata": {},
   "source": [
    " ## Establecer"
   ]
  },
  {
   "cell_type": "code",
   "execution_count": 28,
   "id": "0d2a7320-c3a3-4376-a4aa-82207af35311",
   "metadata": {},
   "outputs": [],
   "source": [
    "s1 = pd.Series([1,2,3,4,5,6], index = pd.date_range(\"20250101\", periods=6))\n",
    "df[\"F\"] = s1"
   ]
  },
  {
   "cell_type": "code",
   "execution_count": 29,
   "id": "4d5b0458-ec6d-4a38-b709-3a07746afa1b",
   "metadata": {},
   "outputs": [],
   "source": [
    "#Estableciendo por etiqueta\n",
    "df.at[dates[0],\"A\"] = 0"
   ]
  },
  {
   "cell_type": "code",
   "execution_count": 30,
   "id": "fa277676-3ec4-4991-affa-44fb26524faf",
   "metadata": {},
   "outputs": [
    {
     "data": {
      "text/html": [
       "<div>\n",
       "<style scoped>\n",
       "    .dataframe tbody tr th:only-of-type {\n",
       "        vertical-align: middle;\n",
       "    }\n",
       "\n",
       "    .dataframe tbody tr th {\n",
       "        vertical-align: top;\n",
       "    }\n",
       "\n",
       "    .dataframe thead th {\n",
       "        text-align: right;\n",
       "    }\n",
       "</style>\n",
       "<table border=\"1\" class=\"dataframe\">\n",
       "  <thead>\n",
       "    <tr style=\"text-align: right;\">\n",
       "      <th></th>\n",
       "      <th>A</th>\n",
       "      <th>B</th>\n",
       "      <th>C</th>\n",
       "      <th>D</th>\n",
       "      <th>F</th>\n",
       "    </tr>\n",
       "  </thead>\n",
       "  <tbody>\n",
       "    <tr>\n",
       "      <th>2025-01-01</th>\n",
       "      <td>0.000000</td>\n",
       "      <td>0.606906</td>\n",
       "      <td>-0.761468</td>\n",
       "      <td>0.286661</td>\n",
       "      <td>1</td>\n",
       "    </tr>\n",
       "    <tr>\n",
       "      <th>2025-01-02</th>\n",
       "      <td>0.634464</td>\n",
       "      <td>-1.443576</td>\n",
       "      <td>0.376403</td>\n",
       "      <td>-1.012387</td>\n",
       "      <td>2</td>\n",
       "    </tr>\n",
       "    <tr>\n",
       "      <th>2025-01-03</th>\n",
       "      <td>0.271688</td>\n",
       "      <td>0.932401</td>\n",
       "      <td>0.089977</td>\n",
       "      <td>-0.509898</td>\n",
       "      <td>3</td>\n",
       "    </tr>\n",
       "    <tr>\n",
       "      <th>2025-01-04</th>\n",
       "      <td>0.416721</td>\n",
       "      <td>-0.382602</td>\n",
       "      <td>0.877150</td>\n",
       "      <td>1.575109</td>\n",
       "      <td>4</td>\n",
       "    </tr>\n",
       "    <tr>\n",
       "      <th>2025-01-05</th>\n",
       "      <td>0.489411</td>\n",
       "      <td>-1.079524</td>\n",
       "      <td>0.814877</td>\n",
       "      <td>1.348473</td>\n",
       "      <td>5</td>\n",
       "    </tr>\n",
       "    <tr>\n",
       "      <th>2025-01-06</th>\n",
       "      <td>0.200562</td>\n",
       "      <td>0.319317</td>\n",
       "      <td>-0.651103</td>\n",
       "      <td>-0.427490</td>\n",
       "      <td>6</td>\n",
       "    </tr>\n",
       "  </tbody>\n",
       "</table>\n",
       "</div>"
      ],
      "text/plain": [
       "                   A         B         C         D  F\n",
       "2025-01-01  0.000000  0.606906 -0.761468  0.286661  1\n",
       "2025-01-02  0.634464 -1.443576  0.376403 -1.012387  2\n",
       "2025-01-03  0.271688  0.932401  0.089977 -0.509898  3\n",
       "2025-01-04  0.416721 -0.382602  0.877150  1.575109  4\n",
       "2025-01-05  0.489411 -1.079524  0.814877  1.348473  5\n",
       "2025-01-06  0.200562  0.319317 -0.651103 -0.427490  6"
      ]
     },
     "execution_count": 30,
     "metadata": {},
     "output_type": "execute_result"
    }
   ],
   "source": [
    "df"
   ]
  },
  {
   "cell_type": "code",
   "execution_count": 31,
   "id": "35c0b4b4-7e26-48ba-b280-9c4987b63135",
   "metadata": {},
   "outputs": [
    {
     "data": {
      "text/html": [
       "<div>\n",
       "<style scoped>\n",
       "    .dataframe tbody tr th:only-of-type {\n",
       "        vertical-align: middle;\n",
       "    }\n",
       "\n",
       "    .dataframe tbody tr th {\n",
       "        vertical-align: top;\n",
       "    }\n",
       "\n",
       "    .dataframe thead th {\n",
       "        text-align: right;\n",
       "    }\n",
       "</style>\n",
       "<table border=\"1\" class=\"dataframe\">\n",
       "  <thead>\n",
       "    <tr style=\"text-align: right;\">\n",
       "      <th></th>\n",
       "      <th>A</th>\n",
       "      <th>B</th>\n",
       "      <th>C</th>\n",
       "      <th>D</th>\n",
       "      <th>F</th>\n",
       "    </tr>\n",
       "  </thead>\n",
       "  <tbody>\n",
       "    <tr>\n",
       "      <th>2025-01-01</th>\n",
       "      <td>0.000000</td>\n",
       "      <td>0.000000</td>\n",
       "      <td>-0.761468</td>\n",
       "      <td>0.286661</td>\n",
       "      <td>1</td>\n",
       "    </tr>\n",
       "    <tr>\n",
       "      <th>2025-01-02</th>\n",
       "      <td>0.634464</td>\n",
       "      <td>-1.443576</td>\n",
       "      <td>0.376403</td>\n",
       "      <td>-1.012387</td>\n",
       "      <td>2</td>\n",
       "    </tr>\n",
       "    <tr>\n",
       "      <th>2025-01-03</th>\n",
       "      <td>0.271688</td>\n",
       "      <td>0.932401</td>\n",
       "      <td>0.089977</td>\n",
       "      <td>-0.509898</td>\n",
       "      <td>3</td>\n",
       "    </tr>\n",
       "    <tr>\n",
       "      <th>2025-01-04</th>\n",
       "      <td>0.416721</td>\n",
       "      <td>-0.382602</td>\n",
       "      <td>0.877150</td>\n",
       "      <td>1.575109</td>\n",
       "      <td>4</td>\n",
       "    </tr>\n",
       "    <tr>\n",
       "      <th>2025-01-05</th>\n",
       "      <td>0.489411</td>\n",
       "      <td>-1.079524</td>\n",
       "      <td>0.814877</td>\n",
       "      <td>1.348473</td>\n",
       "      <td>5</td>\n",
       "    </tr>\n",
       "    <tr>\n",
       "      <th>2025-01-06</th>\n",
       "      <td>0.200562</td>\n",
       "      <td>0.319317</td>\n",
       "      <td>-0.651103</td>\n",
       "      <td>-0.427490</td>\n",
       "      <td>6</td>\n",
       "    </tr>\n",
       "  </tbody>\n",
       "</table>\n",
       "</div>"
      ],
      "text/plain": [
       "                   A         B         C         D  F\n",
       "2025-01-01  0.000000  0.000000 -0.761468  0.286661  1\n",
       "2025-01-02  0.634464 -1.443576  0.376403 -1.012387  2\n",
       "2025-01-03  0.271688  0.932401  0.089977 -0.509898  3\n",
       "2025-01-04  0.416721 -0.382602  0.877150  1.575109  4\n",
       "2025-01-05  0.489411 -1.079524  0.814877  1.348473  5\n",
       "2025-01-06  0.200562  0.319317 -0.651103 -0.427490  6"
      ]
     },
     "execution_count": 31,
     "metadata": {},
     "output_type": "execute_result"
    }
   ],
   "source": [
    "#Estableciendo por posición\n",
    "df.iat[0,1] = 0\n",
    "df"
   ]
  },
  {
   "cell_type": "code",
   "execution_count": 32,
   "id": "e97c167e-8b37-4227-8029-7f5cf35ed67e",
   "metadata": {},
   "outputs": [
    {
     "data": {
      "text/html": [
       "<div>\n",
       "<style scoped>\n",
       "    .dataframe tbody tr th:only-of-type {\n",
       "        vertical-align: middle;\n",
       "    }\n",
       "\n",
       "    .dataframe tbody tr th {\n",
       "        vertical-align: top;\n",
       "    }\n",
       "\n",
       "    .dataframe thead th {\n",
       "        text-align: right;\n",
       "    }\n",
       "</style>\n",
       "<table border=\"1\" class=\"dataframe\">\n",
       "  <thead>\n",
       "    <tr style=\"text-align: right;\">\n",
       "      <th></th>\n",
       "      <th>A</th>\n",
       "      <th>B</th>\n",
       "      <th>C</th>\n",
       "      <th>D</th>\n",
       "      <th>F</th>\n",
       "    </tr>\n",
       "  </thead>\n",
       "  <tbody>\n",
       "    <tr>\n",
       "      <th>2025-01-01</th>\n",
       "      <td>0.000000</td>\n",
       "      <td>0.000000</td>\n",
       "      <td>-0.761468</td>\n",
       "      <td>5.0</td>\n",
       "      <td>1</td>\n",
       "    </tr>\n",
       "    <tr>\n",
       "      <th>2025-01-02</th>\n",
       "      <td>0.634464</td>\n",
       "      <td>-1.443576</td>\n",
       "      <td>0.376403</td>\n",
       "      <td>5.0</td>\n",
       "      <td>2</td>\n",
       "    </tr>\n",
       "    <tr>\n",
       "      <th>2025-01-03</th>\n",
       "      <td>0.271688</td>\n",
       "      <td>0.932401</td>\n",
       "      <td>0.089977</td>\n",
       "      <td>5.0</td>\n",
       "      <td>3</td>\n",
       "    </tr>\n",
       "    <tr>\n",
       "      <th>2025-01-04</th>\n",
       "      <td>0.416721</td>\n",
       "      <td>-0.382602</td>\n",
       "      <td>0.877150</td>\n",
       "      <td>5.0</td>\n",
       "      <td>4</td>\n",
       "    </tr>\n",
       "    <tr>\n",
       "      <th>2025-01-05</th>\n",
       "      <td>0.489411</td>\n",
       "      <td>-1.079524</td>\n",
       "      <td>0.814877</td>\n",
       "      <td>5.0</td>\n",
       "      <td>5</td>\n",
       "    </tr>\n",
       "    <tr>\n",
       "      <th>2025-01-06</th>\n",
       "      <td>0.200562</td>\n",
       "      <td>0.319317</td>\n",
       "      <td>-0.651103</td>\n",
       "      <td>5.0</td>\n",
       "      <td>6</td>\n",
       "    </tr>\n",
       "  </tbody>\n",
       "</table>\n",
       "</div>"
      ],
      "text/plain": [
       "                   A         B         C    D  F\n",
       "2025-01-01  0.000000  0.000000 -0.761468  5.0  1\n",
       "2025-01-02  0.634464 -1.443576  0.376403  5.0  2\n",
       "2025-01-03  0.271688  0.932401  0.089977  5.0  3\n",
       "2025-01-04  0.416721 -0.382602  0.877150  5.0  4\n",
       "2025-01-05  0.489411 -1.079524  0.814877  5.0  5\n",
       "2025-01-06  0.200562  0.319317 -0.651103  5.0  6"
      ]
     },
     "execution_count": 32,
     "metadata": {},
     "output_type": "execute_result"
    }
   ],
   "source": [
    "#Estableciendo valores con numpy\n",
    "df.loc[:, \"D\"] = np.array([5]*len(df))\n",
    "df"
   ]
  },
  {
   "cell_type": "code",
   "execution_count": 33,
   "id": "fb75559f-a5fb-4691-98ac-bac381d46703",
   "metadata": {},
   "outputs": [
    {
     "data": {
      "text/html": [
       "<div>\n",
       "<style scoped>\n",
       "    .dataframe tbody tr th:only-of-type {\n",
       "        vertical-align: middle;\n",
       "    }\n",
       "\n",
       "    .dataframe tbody tr th {\n",
       "        vertical-align: top;\n",
       "    }\n",
       "\n",
       "    .dataframe thead th {\n",
       "        text-align: right;\n",
       "    }\n",
       "</style>\n",
       "<table border=\"1\" class=\"dataframe\">\n",
       "  <thead>\n",
       "    <tr style=\"text-align: right;\">\n",
       "      <th></th>\n",
       "      <th>A</th>\n",
       "      <th>B</th>\n",
       "      <th>C</th>\n",
       "      <th>D</th>\n",
       "      <th>F</th>\n",
       "    </tr>\n",
       "  </thead>\n",
       "  <tbody>\n",
       "    <tr>\n",
       "      <th>2025-01-01</th>\n",
       "      <td>0.000000</td>\n",
       "      <td>0.000000</td>\n",
       "      <td>-0.761468</td>\n",
       "      <td>5.0</td>\n",
       "      <td>1</td>\n",
       "    </tr>\n",
       "    <tr>\n",
       "      <th>2025-01-02</th>\n",
       "      <td>0.634464</td>\n",
       "      <td>-1.443576</td>\n",
       "      <td>0.376403</td>\n",
       "      <td>5.0</td>\n",
       "      <td>2</td>\n",
       "    </tr>\n",
       "    <tr>\n",
       "      <th>2025-01-03</th>\n",
       "      <td>0.271688</td>\n",
       "      <td>0.932401</td>\n",
       "      <td>0.089977</td>\n",
       "      <td>5.0</td>\n",
       "      <td>3</td>\n",
       "    </tr>\n",
       "    <tr>\n",
       "      <th>2025-01-04</th>\n",
       "      <td>0.416721</td>\n",
       "      <td>-0.382602</td>\n",
       "      <td>0.877150</td>\n",
       "      <td>5.0</td>\n",
       "      <td>4</td>\n",
       "    </tr>\n",
       "    <tr>\n",
       "      <th>2025-01-05</th>\n",
       "      <td>0.489411</td>\n",
       "      <td>-1.079524</td>\n",
       "      <td>0.814877</td>\n",
       "      <td>5.0</td>\n",
       "      <td>5</td>\n",
       "    </tr>\n",
       "    <tr>\n",
       "      <th>2025-01-06</th>\n",
       "      <td>0.200562</td>\n",
       "      <td>0.319317</td>\n",
       "      <td>-0.651103</td>\n",
       "      <td>5.0</td>\n",
       "      <td>6</td>\n",
       "    </tr>\n",
       "  </tbody>\n",
       "</table>\n",
       "</div>"
      ],
      "text/plain": [
       "                   A         B         C    D  F\n",
       "2025-01-01  0.000000  0.000000 -0.761468  5.0  1\n",
       "2025-01-02  0.634464 -1.443576  0.376403  5.0  2\n",
       "2025-01-03  0.271688  0.932401  0.089977  5.0  3\n",
       "2025-01-04  0.416721 -0.382602  0.877150  5.0  4\n",
       "2025-01-05  0.489411 -1.079524  0.814877  5.0  5\n",
       "2025-01-06  0.200562  0.319317 -0.651103  5.0  6"
      ]
     },
     "execution_count": 33,
     "metadata": {},
     "output_type": "execute_result"
    }
   ],
   "source": [
    "#Establecer donde se cumple la condición\n",
    "df2 = df.copy()\n",
    "df[df2 > 0] = -df2\n",
    "df2"
   ]
  },
  {
   "cell_type": "markdown",
   "id": "4aa9bc66-d4ad-4784-b57e-4e813c136245",
   "metadata": {},
   "source": [
    "## Datos faltantes\n",
    "\n",
    "En el caso de numpy nos encontraremos los NaN"
   ]
  },
  {
   "cell_type": "code",
   "execution_count": 34,
   "id": "8140dda4-5967-46b3-b42b-f335e92c1a83",
   "metadata": {},
   "outputs": [
    {
     "data": {
      "text/html": [
       "<div>\n",
       "<style scoped>\n",
       "    .dataframe tbody tr th:only-of-type {\n",
       "        vertical-align: middle;\n",
       "    }\n",
       "\n",
       "    .dataframe tbody tr th {\n",
       "        vertical-align: top;\n",
       "    }\n",
       "\n",
       "    .dataframe thead th {\n",
       "        text-align: right;\n",
       "    }\n",
       "</style>\n",
       "<table border=\"1\" class=\"dataframe\">\n",
       "  <thead>\n",
       "    <tr style=\"text-align: right;\">\n",
       "      <th></th>\n",
       "      <th>A</th>\n",
       "      <th>B</th>\n",
       "      <th>C</th>\n",
       "      <th>D</th>\n",
       "      <th>F</th>\n",
       "      <th>E</th>\n",
       "    </tr>\n",
       "  </thead>\n",
       "  <tbody>\n",
       "    <tr>\n",
       "      <th>2025-01-01</th>\n",
       "      <td>0.000000</td>\n",
       "      <td>0.000000</td>\n",
       "      <td>-0.761468</td>\n",
       "      <td>-5.0</td>\n",
       "      <td>-1</td>\n",
       "      <td>1.0</td>\n",
       "    </tr>\n",
       "    <tr>\n",
       "      <th>2025-01-02</th>\n",
       "      <td>-0.634464</td>\n",
       "      <td>-1.443576</td>\n",
       "      <td>-0.376403</td>\n",
       "      <td>-5.0</td>\n",
       "      <td>-2</td>\n",
       "      <td>1.0</td>\n",
       "    </tr>\n",
       "    <tr>\n",
       "      <th>2025-01-03</th>\n",
       "      <td>-0.271688</td>\n",
       "      <td>-0.932401</td>\n",
       "      <td>-0.089977</td>\n",
       "      <td>-5.0</td>\n",
       "      <td>-3</td>\n",
       "      <td>NaN</td>\n",
       "    </tr>\n",
       "    <tr>\n",
       "      <th>2025-01-04</th>\n",
       "      <td>-0.416721</td>\n",
       "      <td>-0.382602</td>\n",
       "      <td>-0.877150</td>\n",
       "      <td>-5.0</td>\n",
       "      <td>-4</td>\n",
       "      <td>NaN</td>\n",
       "    </tr>\n",
       "  </tbody>\n",
       "</table>\n",
       "</div>"
      ],
      "text/plain": [
       "                   A         B         C    D  F    E\n",
       "2025-01-01  0.000000  0.000000 -0.761468 -5.0 -1  1.0\n",
       "2025-01-02 -0.634464 -1.443576 -0.376403 -5.0 -2  1.0\n",
       "2025-01-03 -0.271688 -0.932401 -0.089977 -5.0 -3  NaN\n",
       "2025-01-04 -0.416721 -0.382602 -0.877150 -5.0 -4  NaN"
      ]
     },
     "execution_count": 34,
     "metadata": {},
     "output_type": "execute_result"
    }
   ],
   "source": [
    "#Reindex nos permite editar/eliminar/agregar el indíce en un eje específico\n",
    "df1 = df.reindex(index = dates[0:4], columns = list(df.columns) + [\"E\"])\n",
    "df1.loc[dates[0]:dates[1], \"E\"] = 1 #Rellenamos E en 0 y 1 con 1\n",
    "df1"
   ]
  },
  {
   "cell_type": "code",
   "execution_count": 35,
   "id": "f7786870-f99b-4e9d-84c6-85a09ec0b17a",
   "metadata": {},
   "outputs": [
    {
     "data": {
      "text/html": [
       "<div>\n",
       "<style scoped>\n",
       "    .dataframe tbody tr th:only-of-type {\n",
       "        vertical-align: middle;\n",
       "    }\n",
       "\n",
       "    .dataframe tbody tr th {\n",
       "        vertical-align: top;\n",
       "    }\n",
       "\n",
       "    .dataframe thead th {\n",
       "        text-align: right;\n",
       "    }\n",
       "</style>\n",
       "<table border=\"1\" class=\"dataframe\">\n",
       "  <thead>\n",
       "    <tr style=\"text-align: right;\">\n",
       "      <th></th>\n",
       "      <th>A</th>\n",
       "      <th>B</th>\n",
       "      <th>C</th>\n",
       "      <th>D</th>\n",
       "      <th>F</th>\n",
       "      <th>E</th>\n",
       "    </tr>\n",
       "  </thead>\n",
       "  <tbody>\n",
       "    <tr>\n",
       "      <th>2025-01-01</th>\n",
       "      <td>0.000000</td>\n",
       "      <td>0.000000</td>\n",
       "      <td>-0.761468</td>\n",
       "      <td>-5.0</td>\n",
       "      <td>-1</td>\n",
       "      <td>1.0</td>\n",
       "    </tr>\n",
       "    <tr>\n",
       "      <th>2025-01-02</th>\n",
       "      <td>-0.634464</td>\n",
       "      <td>-1.443576</td>\n",
       "      <td>-0.376403</td>\n",
       "      <td>-5.0</td>\n",
       "      <td>-2</td>\n",
       "      <td>1.0</td>\n",
       "    </tr>\n",
       "  </tbody>\n",
       "</table>\n",
       "</div>"
      ],
      "text/plain": [
       "                   A         B         C    D  F    E\n",
       "2025-01-01  0.000000  0.000000 -0.761468 -5.0 -1  1.0\n",
       "2025-01-02 -0.634464 -1.443576 -0.376403 -5.0 -2  1.0"
      ]
     },
     "execution_count": 35,
     "metadata": {},
     "output_type": "execute_result"
    }
   ],
   "source": [
    "#Retirar cualquier fila donde hay datos faltantes\n",
    "df1.dropna(how=\"any\")"
   ]
  },
  {
   "cell_type": "code",
   "execution_count": 36,
   "id": "15ed5afb-391d-4eaa-ab12-63c0eb146e96",
   "metadata": {},
   "outputs": [
    {
     "data": {
      "text/html": [
       "<div>\n",
       "<style scoped>\n",
       "    .dataframe tbody tr th:only-of-type {\n",
       "        vertical-align: middle;\n",
       "    }\n",
       "\n",
       "    .dataframe tbody tr th {\n",
       "        vertical-align: top;\n",
       "    }\n",
       "\n",
       "    .dataframe thead th {\n",
       "        text-align: right;\n",
       "    }\n",
       "</style>\n",
       "<table border=\"1\" class=\"dataframe\">\n",
       "  <thead>\n",
       "    <tr style=\"text-align: right;\">\n",
       "      <th></th>\n",
       "      <th>A</th>\n",
       "      <th>B</th>\n",
       "      <th>C</th>\n",
       "      <th>D</th>\n",
       "      <th>F</th>\n",
       "      <th>E</th>\n",
       "    </tr>\n",
       "  </thead>\n",
       "  <tbody>\n",
       "    <tr>\n",
       "      <th>2025-01-01</th>\n",
       "      <td>0.000000</td>\n",
       "      <td>0.000000</td>\n",
       "      <td>-0.761468</td>\n",
       "      <td>-5.0</td>\n",
       "      <td>-1</td>\n",
       "      <td>1.0</td>\n",
       "    </tr>\n",
       "    <tr>\n",
       "      <th>2025-01-02</th>\n",
       "      <td>-0.634464</td>\n",
       "      <td>-1.443576</td>\n",
       "      <td>-0.376403</td>\n",
       "      <td>-5.0</td>\n",
       "      <td>-2</td>\n",
       "      <td>1.0</td>\n",
       "    </tr>\n",
       "    <tr>\n",
       "      <th>2025-01-03</th>\n",
       "      <td>-0.271688</td>\n",
       "      <td>-0.932401</td>\n",
       "      <td>-0.089977</td>\n",
       "      <td>-5.0</td>\n",
       "      <td>-3</td>\n",
       "      <td>5.0</td>\n",
       "    </tr>\n",
       "    <tr>\n",
       "      <th>2025-01-04</th>\n",
       "      <td>-0.416721</td>\n",
       "      <td>-0.382602</td>\n",
       "      <td>-0.877150</td>\n",
       "      <td>-5.0</td>\n",
       "      <td>-4</td>\n",
       "      <td>5.0</td>\n",
       "    </tr>\n",
       "  </tbody>\n",
       "</table>\n",
       "</div>"
      ],
      "text/plain": [
       "                   A         B         C    D  F    E\n",
       "2025-01-01  0.000000  0.000000 -0.761468 -5.0 -1  1.0\n",
       "2025-01-02 -0.634464 -1.443576 -0.376403 -5.0 -2  1.0\n",
       "2025-01-03 -0.271688 -0.932401 -0.089977 -5.0 -3  5.0\n",
       "2025-01-04 -0.416721 -0.382602 -0.877150 -5.0 -4  5.0"
      ]
     },
     "execution_count": 36,
     "metadata": {},
     "output_type": "execute_result"
    }
   ],
   "source": [
    "# Rellenar donde hay valores faltantes\n",
    "df1.fillna(value = 5)"
   ]
  },
  {
   "cell_type": "code",
   "execution_count": 37,
   "id": "d9d33811-e7ca-4d96-8aff-818e2d2402f8",
   "metadata": {},
   "outputs": [
    {
     "data": {
      "text/html": [
       "<div>\n",
       "<style scoped>\n",
       "    .dataframe tbody tr th:only-of-type {\n",
       "        vertical-align: middle;\n",
       "    }\n",
       "\n",
       "    .dataframe tbody tr th {\n",
       "        vertical-align: top;\n",
       "    }\n",
       "\n",
       "    .dataframe thead th {\n",
       "        text-align: right;\n",
       "    }\n",
       "</style>\n",
       "<table border=\"1\" class=\"dataframe\">\n",
       "  <thead>\n",
       "    <tr style=\"text-align: right;\">\n",
       "      <th></th>\n",
       "      <th>A</th>\n",
       "      <th>B</th>\n",
       "      <th>C</th>\n",
       "      <th>D</th>\n",
       "      <th>F</th>\n",
       "      <th>E</th>\n",
       "    </tr>\n",
       "  </thead>\n",
       "  <tbody>\n",
       "    <tr>\n",
       "      <th>2025-01-01</th>\n",
       "      <td>False</td>\n",
       "      <td>False</td>\n",
       "      <td>False</td>\n",
       "      <td>False</td>\n",
       "      <td>False</td>\n",
       "      <td>False</td>\n",
       "    </tr>\n",
       "    <tr>\n",
       "      <th>2025-01-02</th>\n",
       "      <td>False</td>\n",
       "      <td>False</td>\n",
       "      <td>False</td>\n",
       "      <td>False</td>\n",
       "      <td>False</td>\n",
       "      <td>False</td>\n",
       "    </tr>\n",
       "    <tr>\n",
       "      <th>2025-01-03</th>\n",
       "      <td>False</td>\n",
       "      <td>False</td>\n",
       "      <td>False</td>\n",
       "      <td>False</td>\n",
       "      <td>False</td>\n",
       "      <td>True</td>\n",
       "    </tr>\n",
       "    <tr>\n",
       "      <th>2025-01-04</th>\n",
       "      <td>False</td>\n",
       "      <td>False</td>\n",
       "      <td>False</td>\n",
       "      <td>False</td>\n",
       "      <td>False</td>\n",
       "      <td>True</td>\n",
       "    </tr>\n",
       "  </tbody>\n",
       "</table>\n",
       "</div>"
      ],
      "text/plain": [
       "                A      B      C      D      F      E\n",
       "2025-01-01  False  False  False  False  False  False\n",
       "2025-01-02  False  False  False  False  False  False\n",
       "2025-01-03  False  False  False  False  False   True\n",
       "2025-01-04  False  False  False  False  False   True"
      ]
     },
     "execution_count": 37,
     "metadata": {},
     "output_type": "execute_result"
    }
   ],
   "source": [
    "# Generar máscara donde los valores sean NaN\n",
    "pd.isna(df1)"
   ]
  },
  {
   "cell_type": "markdown",
   "id": "0eed208b-da27-4493-9a5f-bb9af0e2e529",
   "metadata": {},
   "source": [
    "## Operaciones"
   ]
  },
  {
   "cell_type": "code",
   "execution_count": 38,
   "id": "82f72150-cc41-45cd-9d70-c897b6886bd9",
   "metadata": {},
   "outputs": [
    {
     "data": {
      "text/plain": [
       "A   -0.335474\n",
       "B   -0.692903\n",
       "C   -0.595163\n",
       "D   -5.000000\n",
       "F   -3.500000\n",
       "dtype: float64"
      ]
     },
     "execution_count": 38,
     "metadata": {},
     "output_type": "execute_result"
    }
   ],
   "source": [
    "df.mean()"
   ]
  },
  {
   "cell_type": "code",
   "execution_count": 39,
   "id": "3e901ee0-ce9b-42cb-b3df-f2571469297c",
   "metadata": {},
   "outputs": [
    {
     "data": {
      "text/plain": [
       "2025-01-01   -1.352294\n",
       "2025-01-02   -1.890889\n",
       "2025-01-03   -1.858813\n",
       "2025-01-04   -2.135295\n",
       "2025-01-05   -2.476762\n",
       "2025-01-06   -2.434196\n",
       "Freq: D, dtype: float64"
      ]
     },
     "execution_count": 39,
     "metadata": {},
     "output_type": "execute_result"
    }
   ],
   "source": [
    "df.mean(axis = 1)"
   ]
  },
  {
   "cell_type": "code",
   "execution_count": 40,
   "id": "51d81f5a-eccc-436c-be04-03d56af5854d",
   "metadata": {},
   "outputs": [
    {
     "name": "stdout",
     "output_type": "stream",
     "text": [
      "                   A         B         C     D     F\n",
      "2025-01-01       NaN       NaN       NaN   NaN   NaN\n",
      "2025-01-02       NaN       NaN       NaN   NaN   NaN\n",
      "2025-01-03 -1.271688 -1.932401 -1.089977  -6.0  -4.0\n",
      "2025-01-04 -3.416721 -3.382602 -3.877150  -8.0  -7.0\n",
      "2025-01-05 -5.489411 -6.079524 -5.814877 -10.0 -10.0\n",
      "2025-01-06       NaN       NaN       NaN   NaN   NaN\n",
      "2025-01-01    NaN\n",
      "2025-01-02    NaN\n",
      "2025-01-03    1.0\n",
      "2025-01-04    3.0\n",
      "2025-01-05    5.0\n",
      "2025-01-06    NaN\n",
      "Freq: D, dtype: float64\n"
     ]
    }
   ],
   "source": [
    "s = pd.Series([1,3,5,np.nan,6,8], index = dates).shift(2)\n",
    "print(df.sub(s, axis=\"index\")) # Realizamos la sustracción\n",
    "print(s)"
   ]
  },
  {
   "cell_type": "markdown",
   "id": "416571a8-76f7-4621-a550-25b943156b6f",
   "metadata": {},
   "source": [
    "## Aplicamos funciones definidas por usuario"
   ]
  },
  {
   "cell_type": "code",
   "execution_count": 41,
   "id": "21046062-541f-4105-8a1b-86f02d8bb3ab",
   "metadata": {},
   "outputs": [
    {
     "data": {
      "text/plain": [
       "A    -1.878656\n",
       "B    -3.880259\n",
       "C    -3.332914\n",
       "D   -28.000000\n",
       "F   -19.600000\n",
       "dtype: float64"
      ]
     },
     "execution_count": 41,
     "metadata": {},
     "output_type": "execute_result"
    }
   ],
   "source": [
    "df.agg(lambda x: np.mean(x) * 5.6) #Aplica la función sobre un eje"
   ]
  },
  {
   "cell_type": "code",
   "execution_count": 42,
   "id": "dc3cc754-44dd-432c-9acf-743001fe23b5",
   "metadata": {},
   "outputs": [
    {
     "data": {
      "text/plain": [
       "2025-01-01    -7.572844\n",
       "2025-01-02   -10.588976\n",
       "2025-01-03   -10.409354\n",
       "2025-01-04   -11.957650\n",
       "2025-01-05   -13.869870\n",
       "2025-01-06   -13.631500\n",
       "Freq: D, dtype: float64"
      ]
     },
     "execution_count": 42,
     "metadata": {},
     "output_type": "execute_result"
    }
   ],
   "source": [
    "df.agg(lambda x: np.mean(x) * 5.6, axis = 1)"
   ]
  },
  {
   "cell_type": "code",
   "execution_count": 43,
   "id": "20e3ffeb-02d6-403b-b28f-6a1f777dc724",
   "metadata": {},
   "outputs": [
    {
     "data": {
      "text/html": [
       "<div>\n",
       "<style scoped>\n",
       "    .dataframe tbody tr th:only-of-type {\n",
       "        vertical-align: middle;\n",
       "    }\n",
       "\n",
       "    .dataframe tbody tr th {\n",
       "        vertical-align: top;\n",
       "    }\n",
       "\n",
       "    .dataframe thead th {\n",
       "        text-align: right;\n",
       "    }\n",
       "</style>\n",
       "<table border=\"1\" class=\"dataframe\">\n",
       "  <thead>\n",
       "    <tr style=\"text-align: right;\">\n",
       "      <th></th>\n",
       "      <th>A</th>\n",
       "      <th>B</th>\n",
       "      <th>C</th>\n",
       "      <th>D</th>\n",
       "      <th>F</th>\n",
       "    </tr>\n",
       "  </thead>\n",
       "  <tbody>\n",
       "    <tr>\n",
       "      <th>2025-01-01</th>\n",
       "      <td>0.000000</td>\n",
       "      <td>0.000000</td>\n",
       "      <td>-77.060584</td>\n",
       "      <td>-506.0</td>\n",
       "      <td>-101.2</td>\n",
       "    </tr>\n",
       "    <tr>\n",
       "      <th>2025-01-02</th>\n",
       "      <td>-64.207783</td>\n",
       "      <td>-146.089903</td>\n",
       "      <td>-38.091974</td>\n",
       "      <td>-506.0</td>\n",
       "      <td>-202.4</td>\n",
       "    </tr>\n",
       "    <tr>\n",
       "      <th>2025-01-03</th>\n",
       "      <td>-27.494819</td>\n",
       "      <td>-94.358981</td>\n",
       "      <td>-9.105702</td>\n",
       "      <td>-506.0</td>\n",
       "      <td>-303.6</td>\n",
       "    </tr>\n",
       "    <tr>\n",
       "      <th>2025-01-04</th>\n",
       "      <td>-42.172139</td>\n",
       "      <td>-38.719328</td>\n",
       "      <td>-88.767595</td>\n",
       "      <td>-506.0</td>\n",
       "      <td>-404.8</td>\n",
       "    </tr>\n",
       "    <tr>\n",
       "      <th>2025-01-05</th>\n",
       "      <td>-49.528413</td>\n",
       "      <td>-109.247841</td>\n",
       "      <td>-82.465554</td>\n",
       "      <td>-506.0</td>\n",
       "      <td>-506.0</td>\n",
       "    </tr>\n",
       "    <tr>\n",
       "      <th>2025-01-06</th>\n",
       "      <td>-20.296864</td>\n",
       "      <td>-32.314845</td>\n",
       "      <td>-65.891649</td>\n",
       "      <td>-506.0</td>\n",
       "      <td>-607.2</td>\n",
       "    </tr>\n",
       "  </tbody>\n",
       "</table>\n",
       "</div>"
      ],
      "text/plain": [
       "                    A           B          C      D      F\n",
       "2025-01-01   0.000000    0.000000 -77.060584 -506.0 -101.2\n",
       "2025-01-02 -64.207783 -146.089903 -38.091974 -506.0 -202.4\n",
       "2025-01-03 -27.494819  -94.358981  -9.105702 -506.0 -303.6\n",
       "2025-01-04 -42.172139  -38.719328 -88.767595 -506.0 -404.8\n",
       "2025-01-05 -49.528413 -109.247841 -82.465554 -506.0 -506.0\n",
       "2025-01-06 -20.296864  -32.314845 -65.891649 -506.0 -607.2"
      ]
     },
     "execution_count": 43,
     "metadata": {},
     "output_type": "execute_result"
    }
   ],
   "source": [
    "df.transform(lambda x: x*101.2) # Aplica la función con la misma forma"
   ]
  },
  {
   "cell_type": "markdown",
   "id": "f731f201-9185-4003-b519-1453a74b87f0",
   "metadata": {},
   "source": [
    "## Contar valores específicos"
   ]
  },
  {
   "cell_type": "code",
   "execution_count": 44,
   "id": "df270d55-830f-490d-8f86-69fe6b3f7f94",
   "metadata": {},
   "outputs": [
    {
     "name": "stdout",
     "output_type": "stream",
     "text": [
      "0    6\n",
      "1    5\n",
      "2    0\n",
      "3    5\n",
      "4    0\n",
      "5    1\n",
      "6    6\n",
      "7    1\n",
      "8    5\n",
      "9    0\n",
      "dtype: int32 5    3\n",
      "0    3\n",
      "6    2\n",
      "1    2\n",
      "Name: count, dtype: int64\n"
     ]
    }
   ],
   "source": [
    "s = pd.Series(np.random.randint(0,7,size=10))\n",
    "print(s, s.value_counts())"
   ]
  },
  {
   "cell_type": "markdown",
   "id": "d4c3e03d-a018-424f-9fab-e43f63794301",
   "metadata": {},
   "source": [
    "## Unión de DataFrames"
   ]
  },
  {
   "cell_type": "code",
   "execution_count": 45,
   "id": "8e5e144d-e9b4-4ee1-8cfd-f69ba11e4682",
   "metadata": {},
   "outputs": [
    {
     "name": "stdout",
     "output_type": "stream",
     "text": [
      "[                   A         B         C    D  F\n",
      "2025-01-01  0.000000  0.000000 -0.761468 -5.0 -1\n",
      "2025-01-02 -0.634464 -1.443576 -0.376403 -5.0 -2,                    A         B         C    D  F\n",
      "2025-01-03 -0.271688 -0.932401 -0.089977 -5.0 -3\n",
      "2025-01-04 -0.416721 -0.382602 -0.877150 -5.0 -4,                    A         B         C    D  F\n",
      "2025-01-05 -0.489411 -1.079524 -0.814877 -5.0 -5\n",
      "2025-01-06 -0.200562 -0.319317 -0.651103 -5.0 -6]\n"
     ]
    },
    {
     "data": {
      "text/html": [
       "<div>\n",
       "<style scoped>\n",
       "    .dataframe tbody tr th:only-of-type {\n",
       "        vertical-align: middle;\n",
       "    }\n",
       "\n",
       "    .dataframe tbody tr th {\n",
       "        vertical-align: top;\n",
       "    }\n",
       "\n",
       "    .dataframe thead th {\n",
       "        text-align: right;\n",
       "    }\n",
       "</style>\n",
       "<table border=\"1\" class=\"dataframe\">\n",
       "  <thead>\n",
       "    <tr style=\"text-align: right;\">\n",
       "      <th></th>\n",
       "      <th>A</th>\n",
       "      <th>B</th>\n",
       "      <th>C</th>\n",
       "      <th>D</th>\n",
       "      <th>F</th>\n",
       "    </tr>\n",
       "  </thead>\n",
       "  <tbody>\n",
       "    <tr>\n",
       "      <th>2025-01-01</th>\n",
       "      <td>0.000000</td>\n",
       "      <td>0.000000</td>\n",
       "      <td>-0.761468</td>\n",
       "      <td>-5.0</td>\n",
       "      <td>-1</td>\n",
       "    </tr>\n",
       "    <tr>\n",
       "      <th>2025-01-02</th>\n",
       "      <td>-0.634464</td>\n",
       "      <td>-1.443576</td>\n",
       "      <td>-0.376403</td>\n",
       "      <td>-5.0</td>\n",
       "      <td>-2</td>\n",
       "    </tr>\n",
       "    <tr>\n",
       "      <th>2025-01-03</th>\n",
       "      <td>-0.271688</td>\n",
       "      <td>-0.932401</td>\n",
       "      <td>-0.089977</td>\n",
       "      <td>-5.0</td>\n",
       "      <td>-3</td>\n",
       "    </tr>\n",
       "    <tr>\n",
       "      <th>2025-01-04</th>\n",
       "      <td>-0.416721</td>\n",
       "      <td>-0.382602</td>\n",
       "      <td>-0.877150</td>\n",
       "      <td>-5.0</td>\n",
       "      <td>-4</td>\n",
       "    </tr>\n",
       "    <tr>\n",
       "      <th>2025-01-05</th>\n",
       "      <td>-0.489411</td>\n",
       "      <td>-1.079524</td>\n",
       "      <td>-0.814877</td>\n",
       "      <td>-5.0</td>\n",
       "      <td>-5</td>\n",
       "    </tr>\n",
       "    <tr>\n",
       "      <th>2025-01-06</th>\n",
       "      <td>-0.200562</td>\n",
       "      <td>-0.319317</td>\n",
       "      <td>-0.651103</td>\n",
       "      <td>-5.0</td>\n",
       "      <td>-6</td>\n",
       "    </tr>\n",
       "  </tbody>\n",
       "</table>\n",
       "</div>"
      ],
      "text/plain": [
       "                   A         B         C    D  F\n",
       "2025-01-01  0.000000  0.000000 -0.761468 -5.0 -1\n",
       "2025-01-02 -0.634464 -1.443576 -0.376403 -5.0 -2\n",
       "2025-01-03 -0.271688 -0.932401 -0.089977 -5.0 -3\n",
       "2025-01-04 -0.416721 -0.382602 -0.877150 -5.0 -4\n",
       "2025-01-05 -0.489411 -1.079524 -0.814877 -5.0 -5\n",
       "2025-01-06 -0.200562 -0.319317 -0.651103 -5.0 -6"
      ]
     },
     "execution_count": 45,
     "metadata": {},
     "output_type": "execute_result"
    }
   ],
   "source": [
    "# Concatenar\n",
    "piezas = [df[:2], df[2:4], df[4:]] #Cortamos el dataframe\n",
    "print(piezas)\n",
    "pd.concat(piezas) #Concatenar o unir"
   ]
  },
  {
   "cell_type": "code",
   "execution_count": 46,
   "id": "ed238453-b6c8-441b-898f-eaa40849a58d",
   "metadata": {},
   "outputs": [
    {
     "data": {
      "text/html": [
       "<div>\n",
       "<style scoped>\n",
       "    .dataframe tbody tr th:only-of-type {\n",
       "        vertical-align: middle;\n",
       "    }\n",
       "\n",
       "    .dataframe tbody tr th {\n",
       "        vertical-align: top;\n",
       "    }\n",
       "\n",
       "    .dataframe thead th {\n",
       "        text-align: right;\n",
       "    }\n",
       "</style>\n",
       "<table border=\"1\" class=\"dataframe\">\n",
       "  <thead>\n",
       "    <tr style=\"text-align: right;\">\n",
       "      <th></th>\n",
       "      <th>key</th>\n",
       "      <th>lval</th>\n",
       "      <th>rval</th>\n",
       "    </tr>\n",
       "  </thead>\n",
       "  <tbody>\n",
       "    <tr>\n",
       "      <th>0</th>\n",
       "      <td>foo</td>\n",
       "      <td>1</td>\n",
       "      <td>4</td>\n",
       "    </tr>\n",
       "    <tr>\n",
       "      <th>1</th>\n",
       "      <td>foo</td>\n",
       "      <td>1</td>\n",
       "      <td>5</td>\n",
       "    </tr>\n",
       "    <tr>\n",
       "      <th>2</th>\n",
       "      <td>foo</td>\n",
       "      <td>1</td>\n",
       "      <td>8</td>\n",
       "    </tr>\n",
       "    <tr>\n",
       "      <th>3</th>\n",
       "      <td>foo</td>\n",
       "      <td>1</td>\n",
       "      <td>9</td>\n",
       "    </tr>\n",
       "    <tr>\n",
       "      <th>4</th>\n",
       "      <td>foo</td>\n",
       "      <td>2</td>\n",
       "      <td>4</td>\n",
       "    </tr>\n",
       "    <tr>\n",
       "      <th>5</th>\n",
       "      <td>foo</td>\n",
       "      <td>2</td>\n",
       "      <td>5</td>\n",
       "    </tr>\n",
       "    <tr>\n",
       "      <th>6</th>\n",
       "      <td>foo</td>\n",
       "      <td>2</td>\n",
       "      <td>8</td>\n",
       "    </tr>\n",
       "    <tr>\n",
       "      <th>7</th>\n",
       "      <td>foo</td>\n",
       "      <td>2</td>\n",
       "      <td>9</td>\n",
       "    </tr>\n",
       "    <tr>\n",
       "      <th>8</th>\n",
       "      <td>foo</td>\n",
       "      <td>6</td>\n",
       "      <td>4</td>\n",
       "    </tr>\n",
       "    <tr>\n",
       "      <th>9</th>\n",
       "      <td>foo</td>\n",
       "      <td>6</td>\n",
       "      <td>5</td>\n",
       "    </tr>\n",
       "    <tr>\n",
       "      <th>10</th>\n",
       "      <td>foo</td>\n",
       "      <td>6</td>\n",
       "      <td>8</td>\n",
       "    </tr>\n",
       "    <tr>\n",
       "      <th>11</th>\n",
       "      <td>foo</td>\n",
       "      <td>6</td>\n",
       "      <td>9</td>\n",
       "    </tr>\n",
       "    <tr>\n",
       "      <th>12</th>\n",
       "      <td>foo</td>\n",
       "      <td>7</td>\n",
       "      <td>4</td>\n",
       "    </tr>\n",
       "    <tr>\n",
       "      <th>13</th>\n",
       "      <td>foo</td>\n",
       "      <td>7</td>\n",
       "      <td>5</td>\n",
       "    </tr>\n",
       "    <tr>\n",
       "      <th>14</th>\n",
       "      <td>foo</td>\n",
       "      <td>7</td>\n",
       "      <td>8</td>\n",
       "    </tr>\n",
       "    <tr>\n",
       "      <th>15</th>\n",
       "      <td>foo</td>\n",
       "      <td>7</td>\n",
       "      <td>9</td>\n",
       "    </tr>\n",
       "  </tbody>\n",
       "</table>\n",
       "</div>"
      ],
      "text/plain": [
       "    key  lval  rval\n",
       "0   foo     1     4\n",
       "1   foo     1     5\n",
       "2   foo     1     8\n",
       "3   foo     1     9\n",
       "4   foo     2     4\n",
       "5   foo     2     5\n",
       "6   foo     2     8\n",
       "7   foo     2     9\n",
       "8   foo     6     4\n",
       "9   foo     6     5\n",
       "10  foo     6     8\n",
       "11  foo     6     9\n",
       "12  foo     7     4\n",
       "13  foo     7     5\n",
       "14  foo     7     8\n",
       "15  foo     7     9"
      ]
     },
     "execution_count": 46,
     "metadata": {},
     "output_type": "execute_result"
    }
   ],
   "source": [
    "izq = pd.DataFrame({\"key\": [\"foo\", \"foo\",\"foo\", \"foo\"], \"lval\":[1,2,6,7]})\n",
    "der = pd.DataFrame({\"key\": [\"foo\", \"foo\",\"foo\", \"foo\"], \"rval\":[4,5,8,9]})\n",
    "pd.merge(izq, der, on=\"key\")"
   ]
  },
  {
   "cell_type": "code",
   "execution_count": 47,
   "id": "564f7468-c2f9-4893-9dcc-f69a55412a14",
   "metadata": {},
   "outputs": [
    {
     "data": {
      "text/html": [
       "<div>\n",
       "<style scoped>\n",
       "    .dataframe tbody tr th:only-of-type {\n",
       "        vertical-align: middle;\n",
       "    }\n",
       "\n",
       "    .dataframe tbody tr th {\n",
       "        vertical-align: top;\n",
       "    }\n",
       "\n",
       "    .dataframe thead th {\n",
       "        text-align: right;\n",
       "    }\n",
       "</style>\n",
       "<table border=\"1\" class=\"dataframe\">\n",
       "  <thead>\n",
       "    <tr style=\"text-align: right;\">\n",
       "      <th></th>\n",
       "      <th>key</th>\n",
       "      <th>lval</th>\n",
       "      <th>rval</th>\n",
       "    </tr>\n",
       "  </thead>\n",
       "  <tbody>\n",
       "    <tr>\n",
       "      <th>0</th>\n",
       "      <td>foo</td>\n",
       "      <td>1</td>\n",
       "      <td>4</td>\n",
       "    </tr>\n",
       "    <tr>\n",
       "      <th>1</th>\n",
       "      <td>bar</td>\n",
       "      <td>2</td>\n",
       "      <td>5</td>\n",
       "    </tr>\n",
       "    <tr>\n",
       "      <th>2</th>\n",
       "      <td>sar</td>\n",
       "      <td>6</td>\n",
       "      <td>8</td>\n",
       "    </tr>\n",
       "    <tr>\n",
       "      <th>3</th>\n",
       "      <td>goo</td>\n",
       "      <td>7</td>\n",
       "      <td>9</td>\n",
       "    </tr>\n",
       "  </tbody>\n",
       "</table>\n",
       "</div>"
      ],
      "text/plain": [
       "   key  lval  rval\n",
       "0  foo     1     4\n",
       "1  bar     2     5\n",
       "2  sar     6     8\n",
       "3  goo     7     9"
      ]
     },
     "execution_count": 47,
     "metadata": {},
     "output_type": "execute_result"
    }
   ],
   "source": [
    "izq = pd.DataFrame({\"key\": [\"foo\", \"bar\",\"sar\", \"goo\"], \"lval\":[1,2,6,7]})\n",
    "der = pd.DataFrame({\"key\": [\"foo\", \"bar\",\"sar\", \"goo\"], \"rval\":[4,5,8,9]})\n",
    "pd.merge(izq, der, on=\"key\")"
   ]
  },
  {
   "cell_type": "code",
   "execution_count": 48,
   "id": "5d41d10e-6546-4ab4-b6f5-cac975a2bdb3",
   "metadata": {},
   "outputs": [],
   "source": [
    "izq = pd.DataFrame({\"key\": [\"foo\", \"bar\",\"sar\", \"goo\"], \"lval\":[1,2,6,7]})\n",
    "der = pd.DataFrame({\"key\": [\"foo\", \"bar\",\"sar\", \"goo\"], \"rval\":[4,5,8,9]})\n",
    "df3 = pd.merge(izq, der, on=\"key\")"
   ]
  },
  {
   "cell_type": "code",
   "execution_count": 49,
   "id": "0dfdfec7-6080-4cdf-afa7-5598f991ea8c",
   "metadata": {},
   "outputs": [
    {
     "data": {
      "text/html": [
       "<div>\n",
       "<style scoped>\n",
       "    .dataframe tbody tr th:only-of-type {\n",
       "        vertical-align: middle;\n",
       "    }\n",
       "\n",
       "    .dataframe tbody tr th {\n",
       "        vertical-align: top;\n",
       "    }\n",
       "\n",
       "    .dataframe thead th {\n",
       "        text-align: right;\n",
       "    }\n",
       "</style>\n",
       "<table border=\"1\" class=\"dataframe\">\n",
       "  <thead>\n",
       "    <tr style=\"text-align: right;\">\n",
       "      <th></th>\n",
       "      <th>lval</th>\n",
       "    </tr>\n",
       "    <tr>\n",
       "      <th>key</th>\n",
       "      <th></th>\n",
       "    </tr>\n",
       "  </thead>\n",
       "  <tbody>\n",
       "    <tr>\n",
       "      <th>bar</th>\n",
       "      <td>2</td>\n",
       "    </tr>\n",
       "    <tr>\n",
       "      <th>foo</th>\n",
       "      <td>1</td>\n",
       "    </tr>\n",
       "    <tr>\n",
       "      <th>goo</th>\n",
       "      <td>7</td>\n",
       "    </tr>\n",
       "    <tr>\n",
       "      <th>sar</th>\n",
       "      <td>6</td>\n",
       "    </tr>\n",
       "  </tbody>\n",
       "</table>\n",
       "</div>"
      ],
      "text/plain": [
       "     lval\n",
       "key      \n",
       "bar     2\n",
       "foo     1\n",
       "goo     7\n",
       "sar     6"
      ]
     },
     "execution_count": 49,
     "metadata": {},
     "output_type": "execute_result"
    }
   ],
   "source": [
    "df3.groupby(\"key\")[[\"lval\"]].sum() # Agrupamiento por etiquetas"
   ]
  },
  {
   "cell_type": "code",
   "execution_count": 50,
   "id": "dcc8f0a8-c892-43d6-a709-fbe350bad35c",
   "metadata": {},
   "outputs": [
    {
     "data": {
      "text/html": [
       "<div>\n",
       "<style scoped>\n",
       "    .dataframe tbody tr th:only-of-type {\n",
       "        vertical-align: middle;\n",
       "    }\n",
       "\n",
       "    .dataframe tbody tr th {\n",
       "        vertical-align: top;\n",
       "    }\n",
       "\n",
       "    .dataframe thead th {\n",
       "        text-align: right;\n",
       "    }\n",
       "</style>\n",
       "<table border=\"1\" class=\"dataframe\">\n",
       "  <thead>\n",
       "    <tr style=\"text-align: right;\">\n",
       "      <th></th>\n",
       "      <th>key</th>\n",
       "      <th>lval</th>\n",
       "      <th>rval</th>\n",
       "    </tr>\n",
       "  </thead>\n",
       "  <tbody>\n",
       "    <tr>\n",
       "      <th>0</th>\n",
       "      <td>foo</td>\n",
       "      <td>1</td>\n",
       "      <td>4</td>\n",
       "    </tr>\n",
       "    <tr>\n",
       "      <th>1</th>\n",
       "      <td>bar</td>\n",
       "      <td>2</td>\n",
       "      <td>5</td>\n",
       "    </tr>\n",
       "    <tr>\n",
       "      <th>2</th>\n",
       "      <td>sar</td>\n",
       "      <td>6</td>\n",
       "      <td>8</td>\n",
       "    </tr>\n",
       "  </tbody>\n",
       "</table>\n",
       "</div>"
      ],
      "text/plain": [
       "   key  lval  rval\n",
       "0  foo     1     4\n",
       "1  bar     2     5\n",
       "2  sar     6     8"
      ]
     },
     "execution_count": 50,
     "metadata": {},
     "output_type": "execute_result"
    }
   ],
   "source": [
    "df4 = df3[:3]\n",
    "df4"
   ]
  },
  {
   "cell_type": "code",
   "execution_count": 51,
   "id": "6e05e2f4-e296-46f2-b169-58eff823c09b",
   "metadata": {},
   "outputs": [
    {
     "data": {
      "text/plain": [
       "0  key     foo\n",
       "   lval      1\n",
       "   rval      4\n",
       "1  key     bar\n",
       "   lval      2\n",
       "   rval      5\n",
       "2  key     sar\n",
       "   lval      6\n",
       "   rval      8\n",
       "dtype: object"
      ]
     },
     "execution_count": 51,
     "metadata": {},
     "output_type": "execute_result"
    }
   ],
   "source": [
    "stacked = df4.stack(future_stack=True)\n",
    "stacked"
   ]
  },
  {
   "cell_type": "markdown",
   "id": "79c2d6b1-05fc-4f57-8fe1-651cd0ca5865",
   "metadata": {},
   "source": [
    "## Series de tiempo"
   ]
  },
  {
   "cell_type": "code",
   "execution_count": 52,
   "id": "0be0f248-21b4-4be1-be9c-bd1901dcc26a",
   "metadata": {},
   "outputs": [
    {
     "data": {
      "text/plain": [
       "2025-01-01    23966\n",
       "Freq: 5min, dtype: int32"
      ]
     },
     "execution_count": 52,
     "metadata": {},
     "output_type": "execute_result"
    }
   ],
   "source": [
    "rng = pd.date_range(\"1/1/2025\", periods=100, freq=\"s\")\n",
    "ts = pd.Series(np.random.randint(0,500,len(rng)), index=rng)\n",
    "ts.resample(\"5Min\").sum()"
   ]
  },
  {
   "cell_type": "code",
   "execution_count": 53,
   "id": "5a9bf5c7-d782-45a4-8ac9-610f976edb46",
   "metadata": {},
   "outputs": [
    {
     "data": {
      "text/plain": [
       "2025-01-01 00:00:00    211\n",
       "2025-01-01 00:00:01     98\n",
       "2025-01-01 00:00:02     68\n",
       "2025-01-01 00:00:03    120\n",
       "2025-01-01 00:00:04    433\n",
       "                      ... \n",
       "2025-01-01 00:01:35    197\n",
       "2025-01-01 00:01:36    453\n",
       "2025-01-01 00:01:37    390\n",
       "2025-01-01 00:01:38    408\n",
       "2025-01-01 00:01:39     22\n",
       "Freq: s, Length: 100, dtype: int32"
      ]
     },
     "execution_count": 53,
     "metadata": {},
     "output_type": "execute_result"
    }
   ],
   "source": [
    "ts"
   ]
  },
  {
   "cell_type": "code",
   "execution_count": 54,
   "id": "8dbc8b61-d179-44b1-80e8-2b62ad780af8",
   "metadata": {},
   "outputs": [
    {
     "data": {
      "text/plain": [
       "2025-01-01    0.112502\n",
       "2025-01-02   -0.307773\n",
       "2025-01-03   -0.778046\n",
       "2025-01-04    0.586082\n",
       "2025-01-05   -1.191671\n",
       "2025-01-06   -0.233312\n",
       "2025-01-07    0.469025\n",
       "2025-01-08    1.489502\n",
       "2025-01-09    0.610390\n",
       "2025-01-10   -0.726589\n",
       "2025-01-11    0.292178\n",
       "2025-01-12   -0.217682\n",
       "2025-01-13    0.262434\n",
       "2025-01-14    0.429306\n",
       "2025-01-15    0.089714\n",
       "2025-01-16   -0.426547\n",
       "2025-01-17    1.443737\n",
       "2025-01-18   -1.694599\n",
       "2025-01-19    0.868797\n",
       "2025-01-20   -0.282676\n",
       "2025-01-21   -0.948079\n",
       "2025-01-22   -0.092846\n",
       "2025-01-23   -0.334034\n",
       "2025-01-24   -1.266125\n",
       "2025-01-25    0.980255\n",
       "2025-01-26   -0.832952\n",
       "2025-01-27    0.545766\n",
       "2025-01-28    0.125765\n",
       "2025-01-29   -0.480791\n",
       "2025-01-30   -0.971413\n",
       "2025-01-31    1.524220\n",
       "2025-02-01    2.053462\n",
       "2025-02-02    0.661636\n",
       "2025-02-03    0.817378\n",
       "2025-02-04   -0.609004\n",
       "2025-02-05   -1.835525\n",
       "2025-02-06   -0.020633\n",
       "2025-02-07   -1.742487\n",
       "2025-02-08   -1.066580\n",
       "2025-02-09   -0.088348\n",
       "2025-02-10   -2.175701\n",
       "2025-02-11    0.440765\n",
       "2025-02-12   -0.972465\n",
       "2025-02-13   -1.298210\n",
       "2025-02-14    0.385679\n",
       "2025-02-15    0.731745\n",
       "2025-02-16    0.556149\n",
       "2025-02-17    1.162776\n",
       "2025-02-18   -0.673675\n",
       "2025-02-19   -0.680917\n",
       "Freq: D, dtype: float64"
      ]
     },
     "execution_count": 54,
     "metadata": {},
     "output_type": "execute_result"
    }
   ],
   "source": [
    "rng = pd.date_range(\"1/1/2025 00:00\", periods=50, freq=\"D\")\n",
    "ts = pd.Series(np.random.randn(len(rng)), index=rng)\n",
    "ts"
   ]
  },
  {
   "cell_type": "code",
   "execution_count": 55,
   "id": "7b0cbad0-9627-452b-b89f-dc4e92b7a551",
   "metadata": {},
   "outputs": [
    {
     "data": {
      "text/plain": [
       "2025-01-01 00:00:00+01:00    0.112502\n",
       "2025-01-02 00:00:00+01:00   -0.307773\n",
       "2025-01-03 00:00:00+01:00   -0.778046\n",
       "2025-01-04 00:00:00+01:00    0.586082\n",
       "2025-01-05 00:00:00+01:00   -1.191671\n",
       "2025-01-06 00:00:00+01:00   -0.233312\n",
       "2025-01-07 00:00:00+01:00    0.469025\n",
       "2025-01-08 00:00:00+01:00    1.489502\n",
       "2025-01-09 00:00:00+01:00    0.610390\n",
       "2025-01-10 00:00:00+01:00   -0.726589\n",
       "2025-01-11 00:00:00+01:00    0.292178\n",
       "2025-01-12 00:00:00+01:00   -0.217682\n",
       "2025-01-13 00:00:00+01:00    0.262434\n",
       "2025-01-14 00:00:00+01:00    0.429306\n",
       "2025-01-15 00:00:00+01:00    0.089714\n",
       "2025-01-16 00:00:00+01:00   -0.426547\n",
       "2025-01-17 00:00:00+01:00    1.443737\n",
       "2025-01-18 00:00:00+01:00   -1.694599\n",
       "2025-01-19 00:00:00+01:00    0.868797\n",
       "2025-01-20 00:00:00+01:00   -0.282676\n",
       "2025-01-21 00:00:00+01:00   -0.948079\n",
       "2025-01-22 00:00:00+01:00   -0.092846\n",
       "2025-01-23 00:00:00+01:00   -0.334034\n",
       "2025-01-24 00:00:00+01:00   -1.266125\n",
       "2025-01-25 00:00:00+01:00    0.980255\n",
       "2025-01-26 00:00:00+01:00   -0.832952\n",
       "2025-01-27 00:00:00+01:00    0.545766\n",
       "2025-01-28 00:00:00+01:00    0.125765\n",
       "2025-01-29 00:00:00+01:00   -0.480791\n",
       "2025-01-30 00:00:00+01:00   -0.971413\n",
       "2025-01-31 00:00:00+01:00    1.524220\n",
       "2025-02-01 00:00:00+01:00    2.053462\n",
       "2025-02-02 00:00:00+01:00    0.661636\n",
       "2025-02-03 00:00:00+01:00    0.817378\n",
       "2025-02-04 00:00:00+01:00   -0.609004\n",
       "2025-02-05 00:00:00+01:00   -1.835525\n",
       "2025-02-06 00:00:00+01:00   -0.020633\n",
       "2025-02-07 00:00:00+01:00   -1.742487\n",
       "2025-02-08 00:00:00+01:00   -1.066580\n",
       "2025-02-09 00:00:00+01:00   -0.088348\n",
       "2025-02-10 00:00:00+01:00   -2.175701\n",
       "2025-02-11 00:00:00+01:00    0.440765\n",
       "2025-02-12 00:00:00+01:00   -0.972465\n",
       "2025-02-13 00:00:00+01:00   -1.298210\n",
       "2025-02-14 00:00:00+01:00    0.385679\n",
       "2025-02-15 00:00:00+01:00    0.731745\n",
       "2025-02-16 00:00:00+01:00    0.556149\n",
       "2025-02-17 00:00:00+01:00    1.162776\n",
       "2025-02-18 00:00:00+01:00   -0.673675\n",
       "2025-02-19 00:00:00+01:00   -0.680917\n",
       "dtype: float64"
      ]
     },
     "execution_count": 55,
     "metadata": {},
     "output_type": "execute_result"
    }
   ],
   "source": [
    "ts_utc = ts.tz_localize(\"Europe/Warsaw\")\n",
    "ts_utc"
   ]
  },
  {
   "cell_type": "code",
   "execution_count": 56,
   "id": "240dc8fc-2155-447b-8457-eb5be64dc7f1",
   "metadata": {
    "scrolled": true
   },
   "outputs": [
    {
     "data": {
      "text/plain": [
       "2025-01-01 00:00:00-05:00    0.112502\n",
       "2025-01-02 00:00:00-05:00   -0.307773\n",
       "2025-01-03 00:00:00-05:00   -0.778046\n",
       "2025-01-04 00:00:00-05:00    0.586082\n",
       "2025-01-05 00:00:00-05:00   -1.191671\n",
       "2025-01-06 00:00:00-05:00   -0.233312\n",
       "2025-01-07 00:00:00-05:00    0.469025\n",
       "2025-01-08 00:00:00-05:00    1.489502\n",
       "2025-01-09 00:00:00-05:00    0.610390\n",
       "2025-01-10 00:00:00-05:00   -0.726589\n",
       "2025-01-11 00:00:00-05:00    0.292178\n",
       "2025-01-12 00:00:00-05:00   -0.217682\n",
       "2025-01-13 00:00:00-05:00    0.262434\n",
       "2025-01-14 00:00:00-05:00    0.429306\n",
       "2025-01-15 00:00:00-05:00    0.089714\n",
       "2025-01-16 00:00:00-05:00   -0.426547\n",
       "2025-01-17 00:00:00-05:00    1.443737\n",
       "2025-01-18 00:00:00-05:00   -1.694599\n",
       "2025-01-19 00:00:00-05:00    0.868797\n",
       "2025-01-20 00:00:00-05:00   -0.282676\n",
       "2025-01-21 00:00:00-05:00   -0.948079\n",
       "2025-01-22 00:00:00-05:00   -0.092846\n",
       "2025-01-23 00:00:00-05:00   -0.334034\n",
       "2025-01-24 00:00:00-05:00   -1.266125\n",
       "2025-01-25 00:00:00-05:00    0.980255\n",
       "2025-01-26 00:00:00-05:00   -0.832952\n",
       "2025-01-27 00:00:00-05:00    0.545766\n",
       "2025-01-28 00:00:00-05:00    0.125765\n",
       "2025-01-29 00:00:00-05:00   -0.480791\n",
       "2025-01-30 00:00:00-05:00   -0.971413\n",
       "2025-01-31 00:00:00-05:00    1.524220\n",
       "2025-02-01 00:00:00-05:00    2.053462\n",
       "2025-02-02 00:00:00-05:00    0.661636\n",
       "2025-02-03 00:00:00-05:00    0.817378\n",
       "2025-02-04 00:00:00-05:00   -0.609004\n",
       "2025-02-05 00:00:00-05:00   -1.835525\n",
       "2025-02-06 00:00:00-05:00   -0.020633\n",
       "2025-02-07 00:00:00-05:00   -1.742487\n",
       "2025-02-08 00:00:00-05:00   -1.066580\n",
       "2025-02-09 00:00:00-05:00   -0.088348\n",
       "2025-02-10 00:00:00-05:00   -2.175701\n",
       "2025-02-11 00:00:00-05:00    0.440765\n",
       "2025-02-12 00:00:00-05:00   -0.972465\n",
       "2025-02-13 00:00:00-05:00   -1.298210\n",
       "2025-02-14 00:00:00-05:00    0.385679\n",
       "2025-02-15 00:00:00-05:00    0.731745\n",
       "2025-02-16 00:00:00-05:00    0.556149\n",
       "2025-02-17 00:00:00-05:00    1.162776\n",
       "2025-02-18 00:00:00-05:00   -0.673675\n",
       "2025-02-19 00:00:00-05:00   -0.680917\n",
       "dtype: float64"
      ]
     },
     "execution_count": 56,
     "metadata": {},
     "output_type": "execute_result"
    }
   ],
   "source": [
    "ts_utc = ts.tz_localize(\"US/Eastern\")\n",
    "ts_utc"
   ]
  },
  {
   "cell_type": "code",
   "execution_count": 57,
   "id": "d33097e8-e44c-4184-8068-b886c8df0558",
   "metadata": {
    "scrolled": true
   },
   "outputs": [
    {
     "data": {
      "text/plain": [
       "DatetimeIndex(['2025-01-08', '2025-01-09', '2025-01-10', '2025-01-10',\n",
       "               '2025-01-10', '2025-01-13', '2025-01-14', '2025-01-15',\n",
       "               '2025-01-16', '2025-01-17', '2025-01-17', '2025-01-17',\n",
       "               '2025-01-20', '2025-01-21', '2025-01-22', '2025-01-23',\n",
       "               '2025-01-24', '2025-01-24', '2025-01-24', '2025-01-27',\n",
       "               '2025-01-28', '2025-01-29', '2025-01-30', '2025-01-31',\n",
       "               '2025-01-31', '2025-01-31', '2025-02-03', '2025-02-04',\n",
       "               '2025-02-05', '2025-02-06', '2025-02-07', '2025-02-07',\n",
       "               '2025-02-07', '2025-02-10', '2025-02-11', '2025-02-12',\n",
       "               '2025-02-13', '2025-02-14', '2025-02-14', '2025-02-14',\n",
       "               '2025-02-17', '2025-02-18', '2025-02-19', '2025-02-20',\n",
       "               '2025-02-21', '2025-02-21', '2025-02-21', '2025-02-24',\n",
       "               '2025-02-25', '2025-02-26'],\n",
       "              dtype='datetime64[ns]', freq=None)"
      ]
     },
     "execution_count": 57,
     "metadata": {},
     "output_type": "execute_result"
    }
   ],
   "source": [
    "rng + pd.offsets.BusinessDay(5)"
   ]
  },
  {
   "cell_type": "markdown",
   "id": "17c1f2b9-b534-4cfa-8ead-69e191a08372",
   "metadata": {},
   "source": [
    "## Categóricos"
   ]
  },
  {
   "cell_type": "code",
   "execution_count": 58,
   "id": "077087d1-c4f4-4cf3-925d-09cd77d279a0",
   "metadata": {},
   "outputs": [
    {
     "data": {
      "text/html": [
       "<div>\n",
       "<style scoped>\n",
       "    .dataframe tbody tr th:only-of-type {\n",
       "        vertical-align: middle;\n",
       "    }\n",
       "\n",
       "    .dataframe tbody tr th {\n",
       "        vertical-align: top;\n",
       "    }\n",
       "\n",
       "    .dataframe thead th {\n",
       "        text-align: right;\n",
       "    }\n",
       "</style>\n",
       "<table border=\"1\" class=\"dataframe\">\n",
       "  <thead>\n",
       "    <tr style=\"text-align: right;\">\n",
       "      <th></th>\n",
       "      <th>id</th>\n",
       "      <th>calificacion_crudo</th>\n",
       "    </tr>\n",
       "  </thead>\n",
       "  <tbody>\n",
       "    <tr>\n",
       "      <th>0</th>\n",
       "      <td>1</td>\n",
       "      <td>a</td>\n",
       "    </tr>\n",
       "    <tr>\n",
       "      <th>1</th>\n",
       "      <td>2</td>\n",
       "      <td>b</td>\n",
       "    </tr>\n",
       "    <tr>\n",
       "      <th>2</th>\n",
       "      <td>3</td>\n",
       "      <td>f</td>\n",
       "    </tr>\n",
       "    <tr>\n",
       "      <th>3</th>\n",
       "      <td>4</td>\n",
       "      <td>b</td>\n",
       "    </tr>\n",
       "    <tr>\n",
       "      <th>4</th>\n",
       "      <td>5</td>\n",
       "      <td>b</td>\n",
       "    </tr>\n",
       "    <tr>\n",
       "      <th>5</th>\n",
       "      <td>6</td>\n",
       "      <td>a</td>\n",
       "    </tr>\n",
       "  </tbody>\n",
       "</table>\n",
       "</div>"
      ],
      "text/plain": [
       "   id calificacion_crudo\n",
       "0   1                  a\n",
       "1   2                  b\n",
       "2   3                  f\n",
       "3   4                  b\n",
       "4   5                  b\n",
       "5   6                  a"
      ]
     },
     "execution_count": 58,
     "metadata": {},
     "output_type": "execute_result"
    }
   ],
   "source": [
    "df = pd.DataFrame({\"id\": [1,2,3,4,5,6], \"calificacion_crudo\": [\"a\",\"b\",\"f\",\"b\",\"b\",\"a\"]})\n",
    "df"
   ]
  },
  {
   "cell_type": "code",
   "execution_count": 59,
   "id": "64aa4b5a-96ff-49a9-871e-eb5bbe7fb522",
   "metadata": {},
   "outputs": [
    {
     "data": {
      "text/plain": [
       "0    a\n",
       "1    b\n",
       "2    f\n",
       "3    b\n",
       "4    b\n",
       "5    a\n",
       "Name: calificacion, dtype: category\n",
       "Categories (3, object): ['a', 'b', 'f']"
      ]
     },
     "execution_count": 59,
     "metadata": {},
     "output_type": "execute_result"
    }
   ],
   "source": [
    "df[\"calificacion\"] = df[\"calificacion_crudo\"].astype(\"category\")\n",
    "df[\"calificacion\"]"
   ]
  },
  {
   "cell_type": "code",
   "execution_count": 60,
   "id": "0ae5d6d7-2e8a-47c5-9e2f-00f2100c0d62",
   "metadata": {},
   "outputs": [
    {
     "data": {
      "text/html": [
       "<div>\n",
       "<style scoped>\n",
       "    .dataframe tbody tr th:only-of-type {\n",
       "        vertical-align: middle;\n",
       "    }\n",
       "\n",
       "    .dataframe tbody tr th {\n",
       "        vertical-align: top;\n",
       "    }\n",
       "\n",
       "    .dataframe thead th {\n",
       "        text-align: right;\n",
       "    }\n",
       "</style>\n",
       "<table border=\"1\" class=\"dataframe\">\n",
       "  <thead>\n",
       "    <tr style=\"text-align: right;\">\n",
       "      <th></th>\n",
       "      <th>id</th>\n",
       "      <th>calificacion_crudo</th>\n",
       "      <th>calificacion</th>\n",
       "    </tr>\n",
       "  </thead>\n",
       "  <tbody>\n",
       "    <tr>\n",
       "      <th>0</th>\n",
       "      <td>1</td>\n",
       "      <td>a</td>\n",
       "      <td>muy bueno</td>\n",
       "    </tr>\n",
       "    <tr>\n",
       "      <th>1</th>\n",
       "      <td>2</td>\n",
       "      <td>b</td>\n",
       "      <td>bueno</td>\n",
       "    </tr>\n",
       "    <tr>\n",
       "      <th>2</th>\n",
       "      <td>3</td>\n",
       "      <td>f</td>\n",
       "      <td>muy malo</td>\n",
       "    </tr>\n",
       "    <tr>\n",
       "      <th>3</th>\n",
       "      <td>4</td>\n",
       "      <td>b</td>\n",
       "      <td>bueno</td>\n",
       "    </tr>\n",
       "    <tr>\n",
       "      <th>4</th>\n",
       "      <td>5</td>\n",
       "      <td>b</td>\n",
       "      <td>bueno</td>\n",
       "    </tr>\n",
       "    <tr>\n",
       "      <th>5</th>\n",
       "      <td>6</td>\n",
       "      <td>a</td>\n",
       "      <td>muy bueno</td>\n",
       "    </tr>\n",
       "  </tbody>\n",
       "</table>\n",
       "</div>"
      ],
      "text/plain": [
       "   id calificacion_crudo calificacion\n",
       "0   1                  a    muy bueno\n",
       "1   2                  b        bueno\n",
       "2   3                  f     muy malo\n",
       "3   4                  b        bueno\n",
       "4   5                  b        bueno\n",
       "5   6                  a    muy bueno"
      ]
     },
     "execution_count": 60,
     "metadata": {},
     "output_type": "execute_result"
    }
   ],
   "source": [
    "nuevas_categorias = [\"muy bueno\", \"bueno\", \"muy malo\"]\n",
    "df[\"calificacion\"] = df[\"calificacion\"].cat.rename_categories(nuevas_categorias)\n",
    "df"
   ]
  },
  {
   "cell_type": "code",
   "execution_count": 61,
   "id": "ee83856a-7c6f-4aad-ba68-820b9b319a26",
   "metadata": {},
   "outputs": [
    {
     "data": {
      "text/html": [
       "<div>\n",
       "<style scoped>\n",
       "    .dataframe tbody tr th:only-of-type {\n",
       "        vertical-align: middle;\n",
       "    }\n",
       "\n",
       "    .dataframe tbody tr th {\n",
       "        vertical-align: top;\n",
       "    }\n",
       "\n",
       "    .dataframe thead th {\n",
       "        text-align: right;\n",
       "    }\n",
       "</style>\n",
       "<table border=\"1\" class=\"dataframe\">\n",
       "  <thead>\n",
       "    <tr style=\"text-align: right;\">\n",
       "      <th></th>\n",
       "      <th>id</th>\n",
       "      <th>calificacion_crudo</th>\n",
       "      <th>calificacion</th>\n",
       "    </tr>\n",
       "  </thead>\n",
       "  <tbody>\n",
       "    <tr>\n",
       "      <th>0</th>\n",
       "      <td>1</td>\n",
       "      <td>a</td>\n",
       "      <td>muy bueno</td>\n",
       "    </tr>\n",
       "    <tr>\n",
       "      <th>5</th>\n",
       "      <td>6</td>\n",
       "      <td>a</td>\n",
       "      <td>muy bueno</td>\n",
       "    </tr>\n",
       "    <tr>\n",
       "      <th>1</th>\n",
       "      <td>2</td>\n",
       "      <td>b</td>\n",
       "      <td>bueno</td>\n",
       "    </tr>\n",
       "    <tr>\n",
       "      <th>3</th>\n",
       "      <td>4</td>\n",
       "      <td>b</td>\n",
       "      <td>bueno</td>\n",
       "    </tr>\n",
       "    <tr>\n",
       "      <th>4</th>\n",
       "      <td>5</td>\n",
       "      <td>b</td>\n",
       "      <td>bueno</td>\n",
       "    </tr>\n",
       "    <tr>\n",
       "      <th>2</th>\n",
       "      <td>3</td>\n",
       "      <td>f</td>\n",
       "      <td>muy malo</td>\n",
       "    </tr>\n",
       "  </tbody>\n",
       "</table>\n",
       "</div>"
      ],
      "text/plain": [
       "   id calificacion_crudo calificacion\n",
       "0   1                  a    muy bueno\n",
       "5   6                  a    muy bueno\n",
       "1   2                  b        bueno\n",
       "3   4                  b        bueno\n",
       "4   5                  b        bueno\n",
       "2   3                  f     muy malo"
      ]
     },
     "execution_count": 61,
     "metadata": {},
     "output_type": "execute_result"
    }
   ],
   "source": [
    "df.sort_values(by=\"calificacion\")"
   ]
  },
  {
   "cell_type": "code",
   "execution_count": 62,
   "id": "cf0c4c51-c527-4624-98a5-b6f36fefecc6",
   "metadata": {},
   "outputs": [
    {
     "data": {
      "text/plain": [
       "calificacion\n",
       "muy bueno    2\n",
       "bueno        3\n",
       "muy malo     1\n",
       "dtype: int64"
      ]
     },
     "execution_count": 62,
     "metadata": {},
     "output_type": "execute_result"
    }
   ],
   "source": [
    "df.groupby(\"calificacion\", observed=False).size()"
   ]
  },
  {
   "cell_type": "markdown",
   "id": "d44dfc26-c247-4472-8d7e-3ebe2978b26b",
   "metadata": {},
   "source": [
    "## CSV"
   ]
  },
  {
   "cell_type": "code",
   "execution_count": 63,
   "id": "bae18c45-e55d-4aee-b1d9-94d3cd1cc473",
   "metadata": {},
   "outputs": [],
   "source": [
    "df.to_csv(\"califs.csv\")"
   ]
  },
  {
   "cell_type": "code",
   "execution_count": 64,
   "id": "0f5969f4-550a-4735-a787-7d6fc6b92ee8",
   "metadata": {},
   "outputs": [
    {
     "data": {
      "text/html": [
       "<div>\n",
       "<style scoped>\n",
       "    .dataframe tbody tr th:only-of-type {\n",
       "        vertical-align: middle;\n",
       "    }\n",
       "\n",
       "    .dataframe tbody tr th {\n",
       "        vertical-align: top;\n",
       "    }\n",
       "\n",
       "    .dataframe thead th {\n",
       "        text-align: right;\n",
       "    }\n",
       "</style>\n",
       "<table border=\"1\" class=\"dataframe\">\n",
       "  <thead>\n",
       "    <tr style=\"text-align: right;\">\n",
       "      <th></th>\n",
       "      <th>Unnamed: 0</th>\n",
       "      <th>id</th>\n",
       "      <th>calificacion_crudo</th>\n",
       "      <th>calificacion</th>\n",
       "    </tr>\n",
       "  </thead>\n",
       "  <tbody>\n",
       "    <tr>\n",
       "      <th>0</th>\n",
       "      <td>0</td>\n",
       "      <td>1</td>\n",
       "      <td>a</td>\n",
       "      <td>muy bueno</td>\n",
       "    </tr>\n",
       "    <tr>\n",
       "      <th>1</th>\n",
       "      <td>1</td>\n",
       "      <td>2</td>\n",
       "      <td>b</td>\n",
       "      <td>bueno</td>\n",
       "    </tr>\n",
       "    <tr>\n",
       "      <th>2</th>\n",
       "      <td>2</td>\n",
       "      <td>3</td>\n",
       "      <td>f</td>\n",
       "      <td>muy malo</td>\n",
       "    </tr>\n",
       "    <tr>\n",
       "      <th>3</th>\n",
       "      <td>3</td>\n",
       "      <td>4</td>\n",
       "      <td>b</td>\n",
       "      <td>bueno</td>\n",
       "    </tr>\n",
       "    <tr>\n",
       "      <th>4</th>\n",
       "      <td>4</td>\n",
       "      <td>5</td>\n",
       "      <td>b</td>\n",
       "      <td>bueno</td>\n",
       "    </tr>\n",
       "    <tr>\n",
       "      <th>5</th>\n",
       "      <td>5</td>\n",
       "      <td>6</td>\n",
       "      <td>a</td>\n",
       "      <td>muy bueno</td>\n",
       "    </tr>\n",
       "  </tbody>\n",
       "</table>\n",
       "</div>"
      ],
      "text/plain": [
       "   Unnamed: 0  id calificacion_crudo calificacion\n",
       "0           0   1                  a    muy bueno\n",
       "1           1   2                  b        bueno\n",
       "2           2   3                  f     muy malo\n",
       "3           3   4                  b        bueno\n",
       "4           4   5                  b        bueno\n",
       "5           5   6                  a    muy bueno"
      ]
     },
     "execution_count": 64,
     "metadata": {},
     "output_type": "execute_result"
    }
   ],
   "source": [
    "pd.read_csv(\"califs.csv\")"
   ]
  },
  {
   "cell_type": "code",
   "execution_count": null,
   "id": "724d248a-0c4e-4606-975a-aa603009e9b6",
   "metadata": {},
   "outputs": [],
   "source": []
  }
 ],
 "metadata": {
  "kernelspec": {
   "display_name": "Python 3 (ipykernel)",
   "language": "python",
   "name": "python3"
  },
  "language_info": {
   "codemirror_mode": {
    "name": "ipython",
    "version": 3
   },
   "file_extension": ".py",
   "mimetype": "text/x-python",
   "name": "python",
   "nbconvert_exporter": "python",
   "pygments_lexer": "ipython3",
   "version": "3.11.7"
  }
 },
 "nbformat": 4,
 "nbformat_minor": 5
}
