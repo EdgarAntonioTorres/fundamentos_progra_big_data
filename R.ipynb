{
 "cells": [
  {
   "cell_type": "code",
   "execution_count": 1,
   "id": "9d2da621-e970-4ad3-86b4-68ad6433dac3",
   "metadata": {},
   "outputs": [
    {
     "name": "stdout",
     "output_type": "stream",
     "text": [
      "[1] \"Hello world!, R en Jupyter.\"\n"
     ]
    }
   ],
   "source": [
    "print(\"Hello world!, R en Jupyter.\")"
   ]
  },
  {
   "cell_type": "markdown",
   "id": "e4264d41-c235-4b7a-ad10-91ff58c79492",
   "metadata": {},
   "source": [
    "## Asignar valores y vectores\n",
    "\n",
    "El operador de asignación es '<-' o '->' o 'assign()'\n",
    "\n",
    "La función 'c()' toma los valores y los convierte en una estructura de vectores"
   ]
  },
  {
   "cell_type": "code",
   "execution_count": 2,
   "id": "06b9fcc6-ad49-4313-88d3-a71ed60ef5ba",
   "metadata": {},
   "outputs": [],
   "source": [
    "a <- 8"
   ]
  },
  {
   "cell_type": "code",
   "execution_count": 5,
   "id": "2ed9efdc-3f03-4a19-bfbd-e155826a6583",
   "metadata": {},
   "outputs": [],
   "source": [
    "4:59 -> b"
   ]
  },
  {
   "cell_type": "code",
   "execution_count": 4,
   "id": "ced48efc-ea71-4f19-8ff8-f0f116b93061",
   "metadata": {},
   "outputs": [],
   "source": [
    "# vectores\n",
    "x <- c(10.4,5.6,3.1,6.4,21.7)"
   ]
  },
  {
   "cell_type": "code",
   "execution_count": 7,
   "id": "2e10ecf5-257b-401b-a855-e06ca9958b99",
   "metadata": {
    "scrolled": true
   },
   "outputs": [
    {
     "data": {
      "text/html": [
       "<ol class=list-inline>\n",
       "\t<li>10.4</li>\n",
       "\t<li>5.6</li>\n",
       "\t<li>3.1</li>\n",
       "\t<li>6.4</li>\n",
       "\t<li>21.7</li>\n",
       "\t<li>0</li>\n",
       "\t<li>10.4</li>\n",
       "\t<li>5.6</li>\n",
       "\t<li>3.1</li>\n",
       "\t<li>6.4</li>\n",
       "\t<li>21.7</li>\n",
       "</ol>\n"
      ],
      "text/latex": [
       "\\begin{enumerate*}\n",
       "\\item 10.4\n",
       "\\item 5.6\n",
       "\\item 3.1\n",
       "\\item 6.4\n",
       "\\item 21.7\n",
       "\\item 0\n",
       "\\item 10.4\n",
       "\\item 5.6\n",
       "\\item 3.1\n",
       "\\item 6.4\n",
       "\\item 21.7\n",
       "\\end{enumerate*}\n"
      ],
      "text/markdown": [
       "1. 10.4\n",
       "2. 5.6\n",
       "3. 3.1\n",
       "4. 6.4\n",
       "5. 21.7\n",
       "6. 0\n",
       "7. 10.4\n",
       "8. 5.6\n",
       "9. 3.1\n",
       "10. 6.4\n",
       "11. 21.7\n",
       "\n",
       "\n"
      ],
      "text/plain": [
       " [1] 10.4  5.6  3.1  6.4 21.7  0.0 10.4  5.6  3.1  6.4 21.7"
      ]
     },
     "metadata": {},
     "output_type": "display_data"
    }
   ],
   "source": [
    "y <- c(x,0,x)\n",
    "y"
   ]
  },
  {
   "cell_type": "markdown",
   "id": "fff40b2d-a62e-4c4d-a00b-91fc529733c4",
   "metadata": {},
   "source": [
    "### Aritmética con vectores\n",
    "\n",
    "Tenemos funciones disponibles:\n",
    "- log\n",
    "- exp\n",
    "- sin\n",
    "- cos\n",
    "- tan\n",
    "- sqrt\n",
    "- max\n",
    "- min\n",
    "- product\n",
    "- sum\n",
    "- var\n",
    "\n",
    "Algunas otras funciones como:\n",
    "- range\n",
    "- lenght"
   ]
  },
  {
   "cell_type": "code",
   "execution_count": 10,
   "id": "5bb7f2d4-e9a4-4363-b7f0-1f4b78986913",
   "metadata": {},
   "outputs": [
    {
     "data": {
      "text/html": [
       "<ol class=list-inline>\n",
       "\t<li>32.2</li>\n",
       "\t<li>17.8</li>\n",
       "\t<li>10.3</li>\n",
       "\t<li>20.2</li>\n",
       "\t<li>66.1</li>\n",
       "</ol>\n"
      ],
      "text/latex": [
       "\\begin{enumerate*}\n",
       "\\item 32.2\n",
       "\\item 17.8\n",
       "\\item 10.3\n",
       "\\item 20.2\n",
       "\\item 66.1\n",
       "\\end{enumerate*}\n"
      ],
      "text/markdown": [
       "1. 32.2\n",
       "2. 17.8\n",
       "3. 10.3\n",
       "4. 20.2\n",
       "5. 66.1\n",
       "\n",
       "\n"
      ],
      "text/plain": [
       "[1] 32.2 17.8 10.3 20.2 66.1"
      ]
     },
     "metadata": {},
     "output_type": "display_data"
    }
   ],
   "source": [
    "y <- c(x)\n",
    "v <- 2*x+y+1\n",
    "v"
   ]
  },
  {
   "cell_type": "code",
   "execution_count": 11,
   "id": "68089196-b2a1-4db3-bc51-c31cd75c082d",
   "metadata": {},
   "outputs": [
    {
     "data": {
      "text/html": [
       "9.44"
      ],
      "text/latex": [
       "9.44"
      ],
      "text/markdown": [
       "9.44"
      ],
      "text/plain": [
       "[1] 9.44"
      ]
     },
     "metadata": {},
     "output_type": "display_data"
    }
   ],
   "source": [
    "#mean\n",
    "sum(x)/length(x)"
   ]
  },
  {
   "cell_type": "code",
   "execution_count": 12,
   "id": "18239f1e-7b57-4c35-ab16-023d84bb99ea",
   "metadata": {},
   "outputs": [
    {
     "data": {
      "text/html": [
       "53.853"
      ],
      "text/latex": [
       "53.853"
      ],
      "text/markdown": [
       "53.853"
      ],
      "text/plain": [
       "[1] 53.853"
      ]
     },
     "metadata": {},
     "output_type": "display_data"
    }
   ],
   "source": [
    "#varianza\n",
    "sum((x-mean(x))^2)/(length(x)-1)"
   ]
  },
  {
   "cell_type": "code",
   "execution_count": 17,
   "id": "cef6ba98-f3f6-4eb8-aca2-23f3a6a60476",
   "metadata": {},
   "outputs": [
    {
     "name": "stdout",
     "output_type": "stream",
     "text": [
      "[1] 9.44\n",
      "[1] 53.853\n"
     ]
    }
   ],
   "source": [
    "#Validación mean y var\n",
    "print(mean(x))\n",
    "print(var(x))"
   ]
  },
  {
   "cell_type": "markdown",
   "id": "4b9d838d-e9d3-4e7f-a83b-e47d6796e3a6",
   "metadata": {},
   "source": [
    "### Generar secuencias regulares\n",
    "Con R podemos generar un vector que contenga una secuencia de valores\n",
    "por ejemplo : '1:30' que es un vector 'c(1,2,...,29,30)'\n",
    "\n",
    "Asi mismo, podemos crear secuencias con la función 'seq()'. \n",
    "Los argumentos que requiere son from=, to=, aunque es posible enviar lenght=, by="
   ]
  },
  {
   "cell_type": "code",
   "execution_count": 18,
   "id": "eb1ecd84-fdf9-4279-99ce-3a0acfb42f74",
   "metadata": {
    "collapsed": true,
    "jupyter": {
     "outputs_hidden": true
    }
   },
   "outputs": [
    {
     "data": {
      "text/html": [
       "<ol class=list-inline>\n",
       "\t<li>1</li>\n",
       "\t<li>2</li>\n",
       "\t<li>3</li>\n",
       "\t<li>4</li>\n",
       "\t<li>5</li>\n",
       "\t<li>6</li>\n",
       "\t<li>7</li>\n",
       "\t<li>8</li>\n",
       "\t<li>9</li>\n",
       "\t<li>10</li>\n",
       "\t<li>11</li>\n",
       "\t<li>12</li>\n",
       "\t<li>13</li>\n",
       "\t<li>14</li>\n",
       "\t<li>15</li>\n",
       "\t<li>16</li>\n",
       "\t<li>17</li>\n",
       "\t<li>18</li>\n",
       "\t<li>19</li>\n",
       "\t<li>20</li>\n",
       "\t<li>21</li>\n",
       "\t<li>22</li>\n",
       "\t<li>23</li>\n",
       "\t<li>24</li>\n",
       "\t<li>25</li>\n",
       "\t<li>26</li>\n",
       "\t<li>27</li>\n",
       "\t<li>28</li>\n",
       "\t<li>29</li>\n",
       "\t<li>30</li>\n",
       "</ol>\n"
      ],
      "text/latex": [
       "\\begin{enumerate*}\n",
       "\\item 1\n",
       "\\item 2\n",
       "\\item 3\n",
       "\\item 4\n",
       "\\item 5\n",
       "\\item 6\n",
       "\\item 7\n",
       "\\item 8\n",
       "\\item 9\n",
       "\\item 10\n",
       "\\item 11\n",
       "\\item 12\n",
       "\\item 13\n",
       "\\item 14\n",
       "\\item 15\n",
       "\\item 16\n",
       "\\item 17\n",
       "\\item 18\n",
       "\\item 19\n",
       "\\item 20\n",
       "\\item 21\n",
       "\\item 22\n",
       "\\item 23\n",
       "\\item 24\n",
       "\\item 25\n",
       "\\item 26\n",
       "\\item 27\n",
       "\\item 28\n",
       "\\item 29\n",
       "\\item 30\n",
       "\\end{enumerate*}\n"
      ],
      "text/markdown": [
       "1. 1\n",
       "2. 2\n",
       "3. 3\n",
       "4. 4\n",
       "5. 5\n",
       "6. 6\n",
       "7. 7\n",
       "8. 8\n",
       "9. 9\n",
       "10. 10\n",
       "11. 11\n",
       "12. 12\n",
       "13. 13\n",
       "14. 14\n",
       "15. 15\n",
       "16. 16\n",
       "17. 17\n",
       "18. 18\n",
       "19. 19\n",
       "20. 20\n",
       "21. 21\n",
       "22. 22\n",
       "23. 23\n",
       "24. 24\n",
       "25. 25\n",
       "26. 26\n",
       "27. 27\n",
       "28. 28\n",
       "29. 29\n",
       "30. 30\n",
       "\n",
       "\n"
      ],
      "text/plain": [
       " [1]  1  2  3  4  5  6  7  8  9 10 11 12 13 14 15 16 17 18 19 20 21 22 23 24 25\n",
       "[26] 26 27 28 29 30"
      ]
     },
     "metadata": {},
     "output_type": "display_data"
    }
   ],
   "source": [
    "1:30"
   ]
  },
  {
   "cell_type": "code",
   "execution_count": 19,
   "id": "cb5a0199-2a36-4fe2-b311-b54b79f188b1",
   "metadata": {
    "collapsed": true,
    "jupyter": {
     "outputs_hidden": true
    }
   },
   "outputs": [
    {
     "data": {
      "text/html": [
       "<ol class=list-inline>\n",
       "\t<li>30</li>\n",
       "\t<li>29</li>\n",
       "\t<li>28</li>\n",
       "\t<li>27</li>\n",
       "\t<li>26</li>\n",
       "\t<li>25</li>\n",
       "</ol>\n"
      ],
      "text/latex": [
       "\\begin{enumerate*}\n",
       "\\item 30\n",
       "\\item 29\n",
       "\\item 28\n",
       "\\item 27\n",
       "\\item 26\n",
       "\\item 25\n",
       "\\end{enumerate*}\n"
      ],
      "text/markdown": [
       "1. 30\n",
       "2. 29\n",
       "3. 28\n",
       "4. 27\n",
       "5. 26\n",
       "6. 25\n",
       "\n",
       "\n"
      ],
      "text/plain": [
       "[1] 30 29 28 27 26 25"
      ]
     },
     "metadata": {},
     "output_type": "display_data"
    }
   ],
   "source": [
    "30:25"
   ]
  },
  {
   "cell_type": "code",
   "execution_count": 21,
   "id": "403db3cf-d7c8-4cc3-bc96-a62f21627d4c",
   "metadata": {
    "collapsed": true,
    "jupyter": {
     "outputs_hidden": true
    },
    "scrolled": true
   },
   "outputs": [
    {
     "data": {
      "text/html": [
       "<ol class=list-inline>\n",
       "\t<li>-5</li>\n",
       "\t<li>-4</li>\n",
       "\t<li>-3</li>\n",
       "\t<li>-2</li>\n",
       "\t<li>-1</li>\n",
       "\t<li>0</li>\n",
       "\t<li>1</li>\n",
       "\t<li>2</li>\n",
       "\t<li>3</li>\n",
       "\t<li>4</li>\n",
       "\t<li>5</li>\n",
       "</ol>\n"
      ],
      "text/latex": [
       "\\begin{enumerate*}\n",
       "\\item -5\n",
       "\\item -4\n",
       "\\item -3\n",
       "\\item -2\n",
       "\\item -1\n",
       "\\item 0\n",
       "\\item 1\n",
       "\\item 2\n",
       "\\item 3\n",
       "\\item 4\n",
       "\\item 5\n",
       "\\end{enumerate*}\n"
      ],
      "text/markdown": [
       "1. -5\n",
       "2. -4\n",
       "3. -3\n",
       "4. -2\n",
       "5. -1\n",
       "6. 0\n",
       "7. 1\n",
       "8. 2\n",
       "9. 3\n",
       "10. 4\n",
       "11. 5\n",
       "\n",
       "\n"
      ],
      "text/plain": [
       " [1] -5 -4 -3 -2 -1  0  1  2  3  4  5"
      ]
     },
     "metadata": {},
     "output_type": "display_data"
    }
   ],
   "source": [
    "s1 <- seq(from=-5, to=5)\n",
    "s1"
   ]
  },
  {
   "cell_type": "code",
   "execution_count": 23,
   "id": "5615211a-9139-4073-a357-6bce1234a52a",
   "metadata": {
    "collapsed": true,
    "jupyter": {
     "outputs_hidden": true
    }
   },
   "outputs": [
    {
     "data": {
      "text/html": [
       "<ol class=list-inline>\n",
       "\t<li>-5</li>\n",
       "\t<li>-4.8</li>\n",
       "\t<li>-4.6</li>\n",
       "\t<li>-4.4</li>\n",
       "\t<li>-4.2</li>\n",
       "\t<li>-4</li>\n",
       "\t<li>-3.8</li>\n",
       "\t<li>-3.6</li>\n",
       "\t<li>-3.4</li>\n",
       "\t<li>-3.2</li>\n",
       "\t<li>-3</li>\n",
       "\t<li>-2.8</li>\n",
       "\t<li>-2.6</li>\n",
       "\t<li>-2.4</li>\n",
       "\t<li>-2.2</li>\n",
       "\t<li>-2</li>\n",
       "\t<li>-1.8</li>\n",
       "\t<li>-1.6</li>\n",
       "\t<li>-1.4</li>\n",
       "\t<li>-1.2</li>\n",
       "</ol>\n"
      ],
      "text/latex": [
       "\\begin{enumerate*}\n",
       "\\item -5\n",
       "\\item -4.8\n",
       "\\item -4.6\n",
       "\\item -4.4\n",
       "\\item -4.2\n",
       "\\item -4\n",
       "\\item -3.8\n",
       "\\item -3.6\n",
       "\\item -3.4\n",
       "\\item -3.2\n",
       "\\item -3\n",
       "\\item -2.8\n",
       "\\item -2.6\n",
       "\\item -2.4\n",
       "\\item -2.2\n",
       "\\item -2\n",
       "\\item -1.8\n",
       "\\item -1.6\n",
       "\\item -1.4\n",
       "\\item -1.2\n",
       "\\end{enumerate*}\n"
      ],
      "text/markdown": [
       "1. -5\n",
       "2. -4.8\n",
       "3. -4.6\n",
       "4. -4.4\n",
       "5. -4.2\n",
       "6. -4\n",
       "7. -3.8\n",
       "8. -3.6\n",
       "9. -3.4\n",
       "10. -3.2\n",
       "11. -3\n",
       "12. -2.8\n",
       "13. -2.6\n",
       "14. -2.4\n",
       "15. -2.2\n",
       "16. -2\n",
       "17. -1.8\n",
       "18. -1.6\n",
       "19. -1.4\n",
       "20. -1.2\n",
       "\n",
       "\n"
      ],
      "text/plain": [
       " [1] -5.0 -4.8 -4.6 -4.4 -4.2 -4.0 -3.8 -3.6 -3.4 -3.2 -3.0 -2.8 -2.6 -2.4 -2.2\n",
       "[16] -2.0 -1.8 -1.6 -1.4 -1.2"
      ]
     },
     "metadata": {},
     "output_type": "display_data"
    }
   ],
   "source": [
    "#Creamos una secuencia de 20 elementos con un paso de .2\n",
    "s2 <- seq(length=20, from=-5, by=.2)\n",
    "s2"
   ]
  },
  {
   "cell_type": "code",
   "execution_count": 24,
   "id": "f155807a-43ff-462b-8d98-a9333f8733d0",
   "metadata": {
    "collapsed": true,
    "jupyter": {
     "outputs_hidden": true
    }
   },
   "outputs": [
    {
     "data": {
      "text/html": [
       "<ol class=list-inline>\n",
       "\t<li>-5</li>\n",
       "\t<li>-4</li>\n",
       "\t<li>-3</li>\n",
       "\t<li>-2</li>\n",
       "\t<li>-1</li>\n",
       "\t<li>0</li>\n",
       "\t<li>1</li>\n",
       "\t<li>2</li>\n",
       "\t<li>3</li>\n",
       "\t<li>4</li>\n",
       "\t<li>5</li>\n",
       "\t<li>-5</li>\n",
       "\t<li>-4</li>\n",
       "\t<li>-3</li>\n",
       "\t<li>-2</li>\n",
       "\t<li>-1</li>\n",
       "\t<li>0</li>\n",
       "\t<li>1</li>\n",
       "\t<li>2</li>\n",
       "\t<li>3</li>\n",
       "\t<li>4</li>\n",
       "\t<li>5</li>\n",
       "</ol>\n"
      ],
      "text/latex": [
       "\\begin{enumerate*}\n",
       "\\item -5\n",
       "\\item -4\n",
       "\\item -3\n",
       "\\item -2\n",
       "\\item -1\n",
       "\\item 0\n",
       "\\item 1\n",
       "\\item 2\n",
       "\\item 3\n",
       "\\item 4\n",
       "\\item 5\n",
       "\\item -5\n",
       "\\item -4\n",
       "\\item -3\n",
       "\\item -2\n",
       "\\item -1\n",
       "\\item 0\n",
       "\\item 1\n",
       "\\item 2\n",
       "\\item 3\n",
       "\\item 4\n",
       "\\item 5\n",
       "\\end{enumerate*}\n"
      ],
      "text/markdown": [
       "1. -5\n",
       "2. -4\n",
       "3. -3\n",
       "4. -2\n",
       "5. -1\n",
       "6. 0\n",
       "7. 1\n",
       "8. 2\n",
       "9. 3\n",
       "10. 4\n",
       "11. 5\n",
       "12. -5\n",
       "13. -4\n",
       "14. -3\n",
       "15. -2\n",
       "16. -1\n",
       "17. 0\n",
       "18. 1\n",
       "19. 2\n",
       "20. 3\n",
       "21. 4\n",
       "22. 5\n",
       "\n",
       "\n"
      ],
      "text/plain": [
       " [1] -5 -4 -3 -2 -1  0  1  2  3  4  5 -5 -4 -3 -2 -1  0  1  2  3  4  5"
      ]
     },
     "metadata": {},
     "output_type": "display_data"
    }
   ],
   "source": [
    "## Creamos un vector con repetición\n",
    "# función rep()\n",
    "s3 <- rep(s1,times=2) #Asignamos 2 copias del vector s1\n",
    "s3"
   ]
  },
  {
   "cell_type": "code",
   "execution_count": 25,
   "id": "51cfd8c2-9e9e-4981-bcc2-41df41b0d3b3",
   "metadata": {
    "collapsed": true,
    "jupyter": {
     "outputs_hidden": true
    }
   },
   "outputs": [
    {
     "data": {
      "text/html": [
       "<ol class=list-inline>\n",
       "\t<li>-5</li>\n",
       "\t<li>-5</li>\n",
       "\t<li>-4</li>\n",
       "\t<li>-4</li>\n",
       "\t<li>-3</li>\n",
       "\t<li>-3</li>\n",
       "\t<li>-2</li>\n",
       "\t<li>-2</li>\n",
       "\t<li>-1</li>\n",
       "\t<li>-1</li>\n",
       "\t<li>0</li>\n",
       "\t<li>0</li>\n",
       "\t<li>1</li>\n",
       "\t<li>1</li>\n",
       "\t<li>2</li>\n",
       "\t<li>2</li>\n",
       "\t<li>3</li>\n",
       "\t<li>3</li>\n",
       "\t<li>4</li>\n",
       "\t<li>4</li>\n",
       "\t<li>5</li>\n",
       "\t<li>5</li>\n",
       "</ol>\n"
      ],
      "text/latex": [
       "\\begin{enumerate*}\n",
       "\\item -5\n",
       "\\item -5\n",
       "\\item -4\n",
       "\\item -4\n",
       "\\item -3\n",
       "\\item -3\n",
       "\\item -2\n",
       "\\item -2\n",
       "\\item -1\n",
       "\\item -1\n",
       "\\item 0\n",
       "\\item 0\n",
       "\\item 1\n",
       "\\item 1\n",
       "\\item 2\n",
       "\\item 2\n",
       "\\item 3\n",
       "\\item 3\n",
       "\\item 4\n",
       "\\item 4\n",
       "\\item 5\n",
       "\\item 5\n",
       "\\end{enumerate*}\n"
      ],
      "text/markdown": [
       "1. -5\n",
       "2. -5\n",
       "3. -4\n",
       "4. -4\n",
       "5. -3\n",
       "6. -3\n",
       "7. -2\n",
       "8. -2\n",
       "9. -1\n",
       "10. -1\n",
       "11. 0\n",
       "12. 0\n",
       "13. 1\n",
       "14. 1\n",
       "15. 2\n",
       "16. 2\n",
       "17. 3\n",
       "18. 3\n",
       "19. 4\n",
       "20. 4\n",
       "21. 5\n",
       "22. 5\n",
       "\n",
       "\n"
      ],
      "text/plain": [
       " [1] -5 -5 -4 -4 -3 -3 -2 -2 -1 -1  0  0  1  1  2  2  3  3  4  4  5  5"
      ]
     },
     "metadata": {},
     "output_type": "display_data"
    }
   ],
   "source": [
    "# Creamos una repetición de n veces un elemento\n",
    "s4 <- rep(s1, each=2)\n",
    "s4"
   ]
  },
  {
   "cell_type": "markdown",
   "id": "8b55d475-b159-402b-9461-405ac99ce2d1",
   "metadata": {},
   "source": [
    "## Vectores lógicos\n",
    "\n",
    "Podemos crear vectores que contengan valores TRUE, FALSE, NA ('not available')\n",
    "Estos vectores se generan resultados de condiciones.\n",
    "Operaciones lógicas:\n",
    "- <\n",
    "- <=\n",
    "- \\>\n",
    "- \\>=\n",
    "- =="
   ]
  },
  {
   "cell_type": "code",
   "execution_count": 27,
   "id": "0db73d8f-95b6-49ab-bd1d-9ed275caa131",
   "metadata": {},
   "outputs": [
    {
     "data": {
      "text/html": [
       "<ol class=list-inline>\n",
       "\t<li>10.4</li>\n",
       "\t<li>5.6</li>\n",
       "\t<li>3.1</li>\n",
       "\t<li>6.4</li>\n",
       "\t<li>21.7</li>\n",
       "</ol>\n"
      ],
      "text/latex": [
       "\\begin{enumerate*}\n",
       "\\item 10.4\n",
       "\\item 5.6\n",
       "\\item 3.1\n",
       "\\item 6.4\n",
       "\\item 21.7\n",
       "\\end{enumerate*}\n"
      ],
      "text/markdown": [
       "1. 10.4\n",
       "2. 5.6\n",
       "3. 3.1\n",
       "4. 6.4\n",
       "5. 21.7\n",
       "\n",
       "\n"
      ],
      "text/plain": [
       "[1] 10.4  5.6  3.1  6.4 21.7"
      ]
     },
     "metadata": {},
     "output_type": "display_data"
    },
    {
     "data": {
      "text/html": [
       "<ol class=list-inline>\n",
       "\t<li>FALSE</li>\n",
       "\t<li>FALSE</li>\n",
       "\t<li>FALSE</li>\n",
       "\t<li>FALSE</li>\n",
       "\t<li>TRUE</li>\n",
       "</ol>\n"
      ],
      "text/latex": [
       "\\begin{enumerate*}\n",
       "\\item FALSE\n",
       "\\item FALSE\n",
       "\\item FALSE\n",
       "\\item FALSE\n",
       "\\item TRUE\n",
       "\\end{enumerate*}\n"
      ],
      "text/markdown": [
       "1. FALSE\n",
       "2. FALSE\n",
       "3. FALSE\n",
       "4. FALSE\n",
       "5. TRUE\n",
       "\n",
       "\n"
      ],
      "text/plain": [
       "[1] FALSE FALSE FALSE FALSE  TRUE"
      ]
     },
     "metadata": {},
     "output_type": "display_data"
    }
   ],
   "source": [
    "temp <- x>13\n",
    "x\n",
    "temp"
   ]
  },
  {
   "cell_type": "markdown",
   "id": "1f70a6f7-2e94-4b52-ab1b-a38b4ec58bc5",
   "metadata": {},
   "source": [
    "### Vector de caracteres\n",
    "En R podemos crear Strings con comilla doble (\") o simple (')\n",
    "y se respetan las secuencias de escape \"\\n\", \"\\t\", \"\\b\"\n",
    "\n",
    "La función paste() toma valores arbitrarios de argumentos y los concatena"
   ]
  },
  {
   "cell_type": "code",
   "execution_count": 29,
   "id": "f88137c4-fec8-45c4-9a51-db93d9694b9c",
   "metadata": {},
   "outputs": [
    {
     "data": {
      "text/html": [
       "<ol class=list-inline>\n",
       "\t<li>'Xxx1'</li>\n",
       "\t<li>'Yxx2'</li>\n",
       "\t<li>'Xxx3'</li>\n",
       "\t<li>'Yxx4'</li>\n",
       "\t<li>'Xxx5'</li>\n",
       "\t<li>'Yxx6'</li>\n",
       "\t<li>'Xxx7'</li>\n",
       "\t<li>'Yxx8'</li>\n",
       "\t<li>'Xxx9'</li>\n",
       "\t<li>'Yxx10'</li>\n",
       "</ol>\n"
      ],
      "text/latex": [
       "\\begin{enumerate*}\n",
       "\\item 'Xxx1'\n",
       "\\item 'Yxx2'\n",
       "\\item 'Xxx3'\n",
       "\\item 'Yxx4'\n",
       "\\item 'Xxx5'\n",
       "\\item 'Yxx6'\n",
       "\\item 'Xxx7'\n",
       "\\item 'Yxx8'\n",
       "\\item 'Xxx9'\n",
       "\\item 'Yxx10'\n",
       "\\end{enumerate*}\n"
      ],
      "text/markdown": [
       "1. 'Xxx1'\n",
       "2. 'Yxx2'\n",
       "3. 'Xxx3'\n",
       "4. 'Yxx4'\n",
       "5. 'Xxx5'\n",
       "6. 'Yxx6'\n",
       "7. 'Xxx7'\n",
       "8. 'Yxx8'\n",
       "9. 'Xxx9'\n",
       "10. 'Yxx10'\n",
       "\n",
       "\n"
      ],
      "text/plain": [
       " [1] \"Xxx1\"  \"Yxx2\"  \"Xxx3\"  \"Yxx4\"  \"Xxx5\"  \"Yxx6\"  \"Xxx7\"  \"Yxx8\"  \"Xxx9\" \n",
       "[10] \"Yxx10\""
      ]
     },
     "metadata": {},
     "output_type": "display_data"
    }
   ],
   "source": [
    "labs <- paste(c('X', \"Y\"), 1:10, sep=\"xx\")\n",
    "labs"
   ]
  },
  {
   "cell_type": "markdown",
   "id": "e782aae8-589d-4b86-99c5-d0f0663b5ab2",
   "metadata": {},
   "source": [
    "### Indices de vectores, seleccionar y modificar subconjuntos\n",
    "\n",
    "Podemos acceder a los valores de nuestro vector x\n",
    "con la notación x[], al igual que con python podemos seleccionar\n",
    "los elementos \"de\" : \"hasta\""
   ]
  },
  {
   "cell_type": "code",
   "execution_count": 36,
   "id": "e9bb3516-0a10-4747-8939-062e466130cc",
   "metadata": {},
   "outputs": [
    {
     "data": {
      "text/html": [],
      "text/latex": [],
      "text/markdown": [],
      "text/plain": [
       "logical(0)"
      ]
     },
     "metadata": {},
     "output_type": "display_data"
    }
   ],
   "source": [
    "## buscando valores lógicos\n",
    "temp[is.na(temp)] # Busca valores NA"
   ]
  },
  {
   "cell_type": "code",
   "execution_count": 33,
   "id": "0832bde4-9078-4855-845f-bc9197fca550",
   "metadata": {},
   "outputs": [
    {
     "data": {
      "text/html": [
       "<ol class=list-inline>\n",
       "\t<li>FALSE</li>\n",
       "\t<li>FALSE</li>\n",
       "\t<li>FALSE</li>\n",
       "\t<li>FALSE</li>\n",
       "\t<li>TRUE</li>\n",
       "</ol>\n"
      ],
      "text/latex": [
       "\\begin{enumerate*}\n",
       "\\item FALSE\n",
       "\\item FALSE\n",
       "\\item FALSE\n",
       "\\item FALSE\n",
       "\\item TRUE\n",
       "\\end{enumerate*}\n"
      ],
      "text/markdown": [
       "1. FALSE\n",
       "2. FALSE\n",
       "3. FALSE\n",
       "4. FALSE\n",
       "5. TRUE\n",
       "\n",
       "\n"
      ],
      "text/plain": [
       "[1] FALSE FALSE FALSE FALSE  TRUE"
      ]
     },
     "metadata": {},
     "output_type": "display_data"
    }
   ],
   "source": [
    "temp[!is.na(temp)] # Busca valores diferentesa a NA"
   ]
  },
  {
   "cell_type": "code",
   "execution_count": 34,
   "id": "19f292a8-0d3c-463a-81c2-ccbbce4b3369",
   "metadata": {},
   "outputs": [
    {
     "data": {
      "text/html": [
       "<ol class=list-inline>\n",
       "\t<li>10.4</li>\n",
       "\t<li>5.6</li>\n",
       "\t<li>3.1</li>\n",
       "\t<li>6.4</li>\n",
       "\t<li>21.7</li>\n",
       "</ol>\n"
      ],
      "text/latex": [
       "\\begin{enumerate*}\n",
       "\\item 10.4\n",
       "\\item 5.6\n",
       "\\item 3.1\n",
       "\\item 6.4\n",
       "\\item 21.7\n",
       "\\end{enumerate*}\n"
      ],
      "text/markdown": [
       "1. 10.4\n",
       "2. 5.6\n",
       "3. 3.1\n",
       "4. 6.4\n",
       "5. 21.7\n",
       "\n",
       "\n"
      ],
      "text/plain": [
       "[1] 10.4  5.6  3.1  6.4 21.7"
      ]
     },
     "metadata": {},
     "output_type": "display_data"
    }
   ],
   "source": [
    "## Vector con cantidades\n",
    "x[1:5] #Seleccionamos los elementos \"de\" : \"hasta\""
   ]
  },
  {
   "cell_type": "code",
   "execution_count": 37,
   "id": "e97ff228-bfe6-425f-b9d6-27ac1ce065e1",
   "metadata": {},
   "outputs": [
    {
     "data": {
      "text/html": [],
      "text/latex": [],
      "text/markdown": [],
      "text/plain": [
       "numeric(0)"
      ]
     },
     "metadata": {},
     "output_type": "display_data"
    }
   ],
   "source": [
    "#Buscar valores específicos del vector y se excluyen\n",
    "x[-(1:5)] #Buscamos valores negativos"
   ]
  },
  {
   "cell_type": "code",
   "execution_count": 39,
   "id": "3a848b78-58d9-4737-a700-011137c890f1",
   "metadata": {},
   "outputs": [
    {
     "data": {
      "text/html": [
       "<dl class=dl-horizontal>\n",
       "\t<dt>manzana</dt>\n",
       "\t\t<dd>10</dd>\n",
       "\t<dt>naranja</dt>\n",
       "\t\t<dd>5</dd>\n",
       "</dl>\n"
      ],
      "text/latex": [
       "\\begin{description*}\n",
       "\\item[manzana] 10\n",
       "\\item[naranja] 5\n",
       "\\end{description*}\n"
      ],
      "text/markdown": [
       "manzana\n",
       ":   10naranja\n",
       ":   5\n",
       "\n"
      ],
      "text/plain": [
       "manzana naranja \n",
       "     10       5 "
      ]
     },
     "metadata": {},
     "output_type": "display_data"
    }
   ],
   "source": [
    "## Vectores con caracteres o string\n",
    "#Podemos usar la función names() para identificar cadenas\n",
    "fruta <- c(5,10,1,20)\n",
    "names(fruta) <- c(\"naranja\",\"manzana\",\"pera\",\"melon\")\n",
    "almuerzo <- fruta[c(\"manzana\",\"naranja\")]\n",
    "almuerzo"
   ]
  },
  {
   "cell_type": "markdown",
   "id": "892bc2d8-b37b-404c-9fed-6158028aee14",
   "metadata": {},
   "source": [
    "## Ploteo de vectores"
   ]
  },
  {
   "cell_type": "code",
   "execution_count": 40,
   "id": "e7eb3919-048b-4191-953f-1453f1208e22",
   "metadata": {},
   "outputs": [
    {
     "data": {
      "image/png": "[encoded data removed]",
      "text/plain": [
       "plot without title"
      ]
     },
     "metadata": {},
     "output_type": "display_data"
    }
   ],
   "source": [
    "# Generamos una secuencia de 0 a 2pt\n",
    "x <- seq(0, 2*pi, length.out=50)\n",
    "# Graficamos el vector y su evaluación con la función sin()\n",
    "plot(x, sin(x))"
   ]
  },
  {
   "cell_type": "code",
   "execution_count": null,
   "id": "56c6b24b-86a8-4d01-8559-fe13aa9c3000",
   "metadata": {},
   "outputs": [],
   "source": []
  }
 ],
 "metadata": {
  "kernelspec": {
   "display_name": "R",
   "language": "R",
   "name": "ir"
  },
  "language_info": {
   "codemirror_mode": "r",
   "file_extension": ".r",
   "mimetype": "text/x-r-source",
   "name": "R",
   "pygments_lexer": "r",
   "version": "3.6.1"
  }
 },
 "nbformat": 4,
 "nbformat_minor": 5
}
